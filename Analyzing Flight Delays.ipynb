{
 "cells": [
  {
   "cell_type": "markdown",
   "metadata": {},
   "source": [
    "# Case Study Unit 14: Analyzing Airline Flight Delays"
   ]
  },
  {
   "cell_type": "markdown",
   "metadata": {
    "collapsed": true
   },
   "source": [
    "Juhee Dalal"
   ]
  },
  {
   "cell_type": "markdown",
   "metadata": {
    "collapsed": true
   },
   "source": [
    "MSDS 7333: Quantifying the World, 4/20/17"
   ]
  },
  {
   "cell_type": "markdown",
   "metadata": {},
   "source": [
    "## INTRODUCTION"
   ]
  },
  {
   "cell_type": "markdown",
   "metadata": {},
   "source": [
    "When traveling, flying to your destination is usually the shortest route but not necessarily the shortest travel time. By the time one parks the car, checks bags in, goes through security, finds their gate, they have already added more than an hour to their travel time. Now what if their flight is delayed because of weather or a mechanical issue or simply because the pilot forgot to show up. Unfortunately there are more delayed flights than you might think. Is there a way to determine which airports have the most delays? Or is there a way to predict how long a particular flight is going to be delayed? These are the questions we are going to dive into with this case study.  "
   ]
  },
  {
   "cell_type": "markdown",
   "metadata": {},
   "source": [
    "## BACKGROUND"
   ]
  },
  {
   "cell_type": "markdown",
   "metadata": {},
   "source": [
    "The answer to these questions are in the 2009 “Airline On-Time Performance” data set which was posted on the Bureau of Transportation Research and Innovative Technology Administration (RITA) website. This data contains information on all delayed flights from October 1987 to April 2008. There is roughly 12 gigabytes worth of data from the 120 million flights and each of their 29 variables. Some of these variables pertain to the specific flight such as date and time, carrier, airtime, destination, and departure time. While others pertain to the delay like delay type and cancellation code. To handle such a big dataset can be time consuming and computationally expensive. We will be using several techniques to ensure the exploratory analysis, data wrangling, and calculation steps are run efficiently as possible. Even after all of the loading techniques the analysis required to answers the questions still takes time to run. Overall our code is mostly in Python because it was more efficient for the tasks we wanted to accomplish. "
   ]
  },
  {
   "cell_type": "markdown",
   "metadata": {},
   "source": [
    "### Data Set Description"
   ]
  },
  {
   "cell_type": "markdown",
   "metadata": {
    "collapsed": true
   },
   "source": [
    "The variables in the data set are listed below:\n",
    "\n",
    "1. \tYear: 1987-2008\n",
    "2. \tMonth: 1-12\n",
    "3. \tDayofMonth: 1-31\n",
    "4. \tDayOfWeek: 1 (Monday) - 7 (Sunday)\n",
    "5. \tDepTime: actual departure time (local, hhmm)\n",
    "6. \tCRSDepTime: scheduled departure time (local, hhmm)\n",
    "7. \tArrTime: actual arrival time (local, hhmm)\n",
    "8. \tCRSArrTime: scheduled arrival time (local, hhmm)\n",
    "9. \tUniqueCarrier: unique carrier code\n",
    "10. FlightNum: flight number\n",
    "11. TailNum: plane tail number\n",
    "12. ActualElapsedTime: in minutes\n",
    "13. CRSElapsedTime: in minutes\n",
    "14. AirTime: in minutes\n",
    "15. ArrDelay: arrival delay, in minutes\n",
    "16. DepDelay: departure delay, in minutes\n",
    "17. Origin: origin IATA airport code\n",
    "18. Dest: destination IATA airport code\n",
    "19. Distance: in miles\n",
    "20. TaxiIn: taxi in time, in minutes\n",
    "21. TaxiOut: taxi out time in minutes\n",
    "22. Cancelled: was the flight cancelled?\n",
    "23. CancellationCode: reason for cancellation (A = carrier, B = weather, C = NAS, D = security)\n",
    "24. Diverted: 1 = yes, 0 = no\n",
    "25. CarrierDelay: in minutes\n",
    "26. WeatherDelay: in minutes\n",
    "27. NASDelay: in minutes\n",
    "28. SecurityDelay: in minutes\n",
    "29. LateAircraftDelay: in minutes\n",
    "\n",
    "We will begin by downloading the data set using Python and loading it in to the memory."
   ]
  },
  {
   "cell_type": "markdown",
   "metadata": {},
   "source": [
    "## METHODS"
   ]
  },
  {
   "cell_type": "markdown",
   "metadata": {},
   "source": [
    "### Creating the Data Folder"
   ]
  },
  {
   "cell_type": "markdown",
   "metadata": {},
   "source": [
    "The block of code below creates the data directory to store all of our data files."
   ]
  },
  {
   "cell_type": "code",
   "execution_count": 1,
   "metadata": {
    "collapsed": false
   },
   "outputs": [],
   "source": [
    "import os, sys\n",
    "\n",
    "path = \"Data\"\n",
    "if not os.path.exists(path):\n",
    "    os.mkdir(path, 0755)"
   ]
  },
  {
   "cell_type": "markdown",
   "metadata": {},
   "source": [
    "### Downloading the Data files"
   ]
  },
  {
   "cell_type": "markdown",
   "metadata": {},
   "source": [
    "The data is web hosted at stat-computing.org and we created a script to generate http requests and save the resulting files in a certain naming format. The file names are saved with the extension .csv.bz2 as compressed files. "
   ]
  },
  {
   "cell_type": "code",
   "execution_count": 2,
   "metadata": {
    "collapsed": false,
    "scrolled": true
   },
   "outputs": [
    {
     "name": "stdout",
     "output_type": "stream",
     "text": [
      "Downloading http://stat-computing.org/dataexpo/2009/1987.csv.bz2 to Data/1987.csv.bz2\n",
      "Downloading http://stat-computing.org/dataexpo/2009/1988.csv.bz2 to Data/1988.csv.bz2\n",
      "Downloading http://stat-computing.org/dataexpo/2009/1989.csv.bz2 to Data/1989.csv.bz2\n",
      "Downloading http://stat-computing.org/dataexpo/2009/1990.csv.bz2 to Data/1990.csv.bz2\n",
      "Downloading http://stat-computing.org/dataexpo/2009/1991.csv.bz2 to Data/1991.csv.bz2\n",
      "Downloading http://stat-computing.org/dataexpo/2009/1992.csv.bz2 to Data/1992.csv.bz2\n",
      "Downloading http://stat-computing.org/dataexpo/2009/1993.csv.bz2 to Data/1993.csv.bz2\n",
      "Downloading http://stat-computing.org/dataexpo/2009/1994.csv.bz2 to Data/1994.csv.bz2\n",
      "Downloading http://stat-computing.org/dataexpo/2009/1995.csv.bz2 to Data/1995.csv.bz2\n",
      "Downloading http://stat-computing.org/dataexpo/2009/1996.csv.bz2 to Data/1996.csv.bz2\n",
      "Downloading http://stat-computing.org/dataexpo/2009/1997.csv.bz2 to Data/1997.csv.bz2\n",
      "Downloading http://stat-computing.org/dataexpo/2009/1998.csv.bz2 to Data/1998.csv.bz2\n",
      "Downloading http://stat-computing.org/dataexpo/2009/1999.csv.bz2 to Data/1999.csv.bz2\n",
      "Downloading http://stat-computing.org/dataexpo/2009/2000.csv.bz2 to Data/2000.csv.bz2\n",
      "Downloading http://stat-computing.org/dataexpo/2009/2001.csv.bz2 to Data/2001.csv.bz2\n",
      "Downloading http://stat-computing.org/dataexpo/2009/2002.csv.bz2 to Data/2002.csv.bz2\n",
      "Downloading http://stat-computing.org/dataexpo/2009/2003.csv.bz2 to Data/2003.csv.bz2\n",
      "Downloading http://stat-computing.org/dataexpo/2009/2004.csv.bz2 to Data/2004.csv.bz2\n",
      "Downloading http://stat-computing.org/dataexpo/2009/2005.csv.bz2 to Data/2005.csv.bz2\n",
      "Downloading http://stat-computing.org/dataexpo/2009/2006.csv.bz2 to Data/2006.csv.bz2\n",
      "Downloading http://stat-computing.org/dataexpo/2009/2007.csv.bz2 to Data/2007.csv.bz2\n",
      "Downloading http://stat-computing.org/dataexpo/2009/2008.csv.bz2 to Data/2008.csv.bz2\n",
      "['Data/1987.csv.bz2', 'Data/1988.csv.bz2', 'Data/1989.csv.bz2', 'Data/1990.csv.bz2', 'Data/1991.csv.bz2', 'Data/1992.csv.bz2', 'Data/1993.csv.bz2', 'Data/1994.csv.bz2', 'Data/1995.csv.bz2', 'Data/1996.csv.bz2', 'Data/1997.csv.bz2', 'Data/1998.csv.bz2', 'Data/1999.csv.bz2', 'Data/2000.csv.bz2', 'Data/2001.csv.bz2', 'Data/2002.csv.bz2', 'Data/2003.csv.bz2', 'Data/2004.csv.bz2', 'Data/2005.csv.bz2', 'Data/2006.csv.bz2', 'Data/2007.csv.bz2', 'Data/2008.csv.bz2']\n"
     ]
    }
   ],
   "source": [
    "import urllib\n",
    "\n",
    "years_to_download = range(1987, 2009)\n",
    "baseurl = 'http://stat-computing.org/dataexpo/2009/%d.csv.bz2'\n",
    "\n",
    "files = []\n",
    "\n",
    "for year in years_to_download:\n",
    "    # prepare file strings\n",
    "    url_of_data_file = baseurl%year\n",
    "    save_as_filename = 'Data/%d.csv.bz2'%(year)\n",
    "    files += [save_as_filename]\n",
    "        \n",
    "    #download files\n",
    "    print 'Downloading %s to %s' %(url_of_data_file, save_as_filename)\n",
    "    urllib.urlretrieve(url_of_data_file, save_as_filename)\n",
    "    \n",
    "print files"
   ]
  },
  {
   "cell_type": "markdown",
   "metadata": {},
   "source": [
    "### Decompressing the Data Files"
   ]
  },
  {
   "cell_type": "markdown",
   "metadata": {},
   "source": [
    "The data is grouped into CSV files by year. On the website they are stored compressed to conserve storage and bandwidth costs so once the files were downloaded they had to be decompressed."
   ]
  },
  {
   "cell_type": "code",
   "execution_count": 5,
   "metadata": {
    "collapsed": false
   },
   "outputs": [
    {
     "name": "stdout",
     "output_type": "stream",
     "text": [
      "Decompressing Data/1987.csv.bz2 to Data/1987.csv\n",
      "Decompressing Data/1988.csv.bz2 to Data/1988.csv\n",
      "Decompressing Data/1989.csv.bz2 to Data/1989.csv\n",
      "Decompressing Data/1990.csv.bz2 to Data/1990.csv\n",
      "Decompressing Data/1991.csv.bz2 to Data/1991.csv\n",
      "Decompressing Data/1992.csv.bz2 to Data/1992.csv\n",
      "Decompressing Data/1993.csv.bz2 to Data/1993.csv\n",
      "Decompressing Data/1994.csv.bz2 to Data/1994.csv\n",
      "Decompressing Data/1995.csv.bz2 to Data/1995.csv\n",
      "Decompressing Data/1996.csv.bz2 to Data/1996.csv\n",
      "Decompressing Data/1997.csv.bz2 to Data/1997.csv\n",
      "Decompressing Data/1998.csv.bz2 to Data/1998.csv\n",
      "Decompressing Data/1999.csv.bz2 to Data/1999.csv\n",
      "Decompressing Data/2000.csv.bz2 to Data/2000.csv\n",
      "Decompressing Data/2001.csv.bz2 to Data/2001.csv\n",
      "Decompressing Data/2002.csv.bz2 to Data/2002.csv\n",
      "Decompressing Data/2003.csv.bz2 to Data/2003.csv\n",
      "Decompressing Data/2004.csv.bz2 to Data/2004.csv\n",
      "Decompressing Data/2005.csv.bz2 to Data/2005.csv\n",
      "Decompressing Data/2006.csv.bz2 to Data/2006.csv\n",
      "Decompressing Data/2007.csv.bz2 to Data/2007.csv\n",
      "Decompressing Data/2008.csv.bz2 to Data/2008.csv\n"
     ]
    }
   ],
   "source": [
    "import bz2\n",
    "\n",
    "for filename in files:\n",
    "    filepath = filename\n",
    "    newfilepath = filename[:-4]\n",
    "    print 'Decompressing', filepath, 'to', newfilepath\n",
    "    \n",
    "    with open(newfilepath, 'wb') as newfile, bz2.BZ2File(filepath, 'rb') as file:\n",
    "        for data in iter(lambda : file .read(100 * 1024), b''):\n",
    "            newfile.write(data)"
   ]
  },
  {
   "cell_type": "markdown",
   "metadata": {},
   "source": [
    "### Removing the Compressed Files"
   ]
  },
  {
   "cell_type": "markdown",
   "metadata": {},
   "source": [
    "Here we are double-checking to make sure all the compressed files are deleted."
   ]
  },
  {
   "cell_type": "code",
   "execution_count": 6,
   "metadata": {
    "collapsed": false
   },
   "outputs": [
    {
     "name": "stdout",
     "output_type": "stream",
     "text": [
      "rm: Data/.bz2: No such file or directory\r\n"
     ]
    }
   ],
   "source": [
    "!rm Data/*.bz2"
   ]
  },
  {
   "cell_type": "markdown",
   "metadata": {},
   "source": [
    "### Loading Data into Memory"
   ]
  },
  {
   "cell_type": "markdown",
   "metadata": {},
   "source": [
    "Here we are previewing two years worth of data to see what we are working with. For these two years there are over six million observations. We are taking the decompressed files and reading them in. They are being saved into a new data frame and the number of lines is counted to give us an idea of how much data is in just these two files. A preview of the data frame is printed below along with the size. Next, we are printing the 1987 csv file in its raw format to see what needs to be changed."
   ]
  },
  {
   "cell_type": "code",
   "execution_count": 1,
   "metadata": {
    "collapsed": false
   },
   "outputs": [
    {
     "name": "stdout",
     "output_type": "stream",
     "text": [
      "Loading Data/1987.csv\n",
      "Loading Data/1988.csv\n",
      "Answer from Python: 6513922\n"
     ]
    },
    {
     "data": {
      "text/html": [
       "<div>\n",
       "<table border=\"1\" class=\"dataframe\">\n",
       "  <thead>\n",
       "    <tr style=\"text-align: right;\">\n",
       "      <th></th>\n",
       "      <th>Year</th>\n",
       "      <th>Month</th>\n",
       "      <th>DayofMonth</th>\n",
       "      <th>DayOfWeek</th>\n",
       "      <th>DepTime</th>\n",
       "      <th>CRSDepTime</th>\n",
       "      <th>ArrTime</th>\n",
       "      <th>CRSArrTime</th>\n",
       "      <th>UniqueCarrier</th>\n",
       "      <th>FlightNum</th>\n",
       "      <th>...</th>\n",
       "      <th>TaxiIn</th>\n",
       "      <th>TaxiOut</th>\n",
       "      <th>Cancelled</th>\n",
       "      <th>CancellationCode</th>\n",
       "      <th>Diverted</th>\n",
       "      <th>CarrierDelay</th>\n",
       "      <th>WeatherDelay</th>\n",
       "      <th>NASDelay</th>\n",
       "      <th>SecurityDelay</th>\n",
       "      <th>LateAircraftDelay</th>\n",
       "    </tr>\n",
       "  </thead>\n",
       "  <tbody>\n",
       "    <tr>\n",
       "      <th>0</th>\n",
       "      <td>1988</td>\n",
       "      <td>1</td>\n",
       "      <td>9</td>\n",
       "      <td>6</td>\n",
       "      <td>1348</td>\n",
       "      <td>1331</td>\n",
       "      <td>1458</td>\n",
       "      <td>1435</td>\n",
       "      <td>PI</td>\n",
       "      <td>942</td>\n",
       "      <td>...</td>\n",
       "      <td>NaN</td>\n",
       "      <td>NaN</td>\n",
       "      <td>0</td>\n",
       "      <td>NaN</td>\n",
       "      <td>0</td>\n",
       "      <td>NaN</td>\n",
       "      <td>NaN</td>\n",
       "      <td>NaN</td>\n",
       "      <td>NaN</td>\n",
       "      <td>NaN</td>\n",
       "    </tr>\n",
       "    <tr>\n",
       "      <th>1</th>\n",
       "      <td>1988</td>\n",
       "      <td>1</td>\n",
       "      <td>10</td>\n",
       "      <td>7</td>\n",
       "      <td>1334</td>\n",
       "      <td>1331</td>\n",
       "      <td>1443</td>\n",
       "      <td>1435</td>\n",
       "      <td>PI</td>\n",
       "      <td>942</td>\n",
       "      <td>...</td>\n",
       "      <td>NaN</td>\n",
       "      <td>NaN</td>\n",
       "      <td>0</td>\n",
       "      <td>NaN</td>\n",
       "      <td>0</td>\n",
       "      <td>NaN</td>\n",
       "      <td>NaN</td>\n",
       "      <td>NaN</td>\n",
       "      <td>NaN</td>\n",
       "      <td>NaN</td>\n",
       "    </tr>\n",
       "    <tr>\n",
       "      <th>2</th>\n",
       "      <td>1988</td>\n",
       "      <td>1</td>\n",
       "      <td>11</td>\n",
       "      <td>1</td>\n",
       "      <td>1446</td>\n",
       "      <td>1331</td>\n",
       "      <td>1553</td>\n",
       "      <td>1435</td>\n",
       "      <td>PI</td>\n",
       "      <td>942</td>\n",
       "      <td>...</td>\n",
       "      <td>NaN</td>\n",
       "      <td>NaN</td>\n",
       "      <td>0</td>\n",
       "      <td>NaN</td>\n",
       "      <td>0</td>\n",
       "      <td>NaN</td>\n",
       "      <td>NaN</td>\n",
       "      <td>NaN</td>\n",
       "      <td>NaN</td>\n",
       "      <td>NaN</td>\n",
       "    </tr>\n",
       "    <tr>\n",
       "      <th>3</th>\n",
       "      <td>1988</td>\n",
       "      <td>1</td>\n",
       "      <td>12</td>\n",
       "      <td>2</td>\n",
       "      <td>1334</td>\n",
       "      <td>1331</td>\n",
       "      <td>1438</td>\n",
       "      <td>1435</td>\n",
       "      <td>PI</td>\n",
       "      <td>942</td>\n",
       "      <td>...</td>\n",
       "      <td>NaN</td>\n",
       "      <td>NaN</td>\n",
       "      <td>0</td>\n",
       "      <td>NaN</td>\n",
       "      <td>0</td>\n",
       "      <td>NaN</td>\n",
       "      <td>NaN</td>\n",
       "      <td>NaN</td>\n",
       "      <td>NaN</td>\n",
       "      <td>NaN</td>\n",
       "    </tr>\n",
       "    <tr>\n",
       "      <th>4</th>\n",
       "      <td>1988</td>\n",
       "      <td>1</td>\n",
       "      <td>13</td>\n",
       "      <td>3</td>\n",
       "      <td>1341</td>\n",
       "      <td>1331</td>\n",
       "      <td>1503</td>\n",
       "      <td>1435</td>\n",
       "      <td>PI</td>\n",
       "      <td>942</td>\n",
       "      <td>...</td>\n",
       "      <td>NaN</td>\n",
       "      <td>NaN</td>\n",
       "      <td>0</td>\n",
       "      <td>NaN</td>\n",
       "      <td>0</td>\n",
       "      <td>NaN</td>\n",
       "      <td>NaN</td>\n",
       "      <td>NaN</td>\n",
       "      <td>NaN</td>\n",
       "      <td>NaN</td>\n",
       "    </tr>\n",
       "  </tbody>\n",
       "</table>\n",
       "<p>5 rows × 29 columns</p>\n",
       "</div>"
      ],
      "text/plain": [
       "   Year  Month  DayofMonth  DayOfWeek  DepTime  CRSDepTime  ArrTime  \\\n",
       "0  1988      1           9          6     1348        1331     1458   \n",
       "1  1988      1          10          7     1334        1331     1443   \n",
       "2  1988      1          11          1     1446        1331     1553   \n",
       "3  1988      1          12          2     1334        1331     1438   \n",
       "4  1988      1          13          3     1341        1331     1503   \n",
       "\n",
       "   CRSArrTime UniqueCarrier  FlightNum        ...          TaxiIn  TaxiOut  \\\n",
       "0        1435            PI        942        ...             NaN      NaN   \n",
       "1        1435            PI        942        ...             NaN      NaN   \n",
       "2        1435            PI        942        ...             NaN      NaN   \n",
       "3        1435            PI        942        ...             NaN      NaN   \n",
       "4        1435            PI        942        ...             NaN      NaN   \n",
       "\n",
       "   Cancelled  CancellationCode  Diverted  CarrierDelay WeatherDelay NASDelay  \\\n",
       "0          0               NaN         0           NaN          NaN      NaN   \n",
       "1          0               NaN         0           NaN          NaN      NaN   \n",
       "2          0               NaN         0           NaN          NaN      NaN   \n",
       "3          0               NaN         0           NaN          NaN      NaN   \n",
       "4          0               NaN         0           NaN          NaN      NaN   \n",
       "\n",
       "   SecurityDelay  LateAircraftDelay  \n",
       "0            NaN                NaN  \n",
       "1            NaN                NaN  \n",
       "2            NaN                NaN  \n",
       "3            NaN                NaN  \n",
       "4            NaN                NaN  \n",
       "\n",
       "[5 rows x 29 columns]"
      ]
     },
     "execution_count": 1,
     "metadata": {},
     "output_type": "execute_result"
    }
   ],
   "source": [
    "import pandas as pd\n",
    "import numpy as np\n",
    "import sys\n",
    "\n",
    "total_length = 0\n",
    "for year in [1987, 1988]:\n",
    "    csvfile = 'Data/%d.csv'%(year)\n",
    "    print 'Loading', csvfile\n",
    "    sys.stdout.flush()\n",
    "    \n",
    "    df = pd.read_csv(csvfile)\n",
    "    total_length += len(df)\n",
    "\n",
    "print 'Answer from Python:', total_length\n",
    "df.head()"
   ]
  },
  {
   "cell_type": "code",
   "execution_count": 2,
   "metadata": {
    "collapsed": false
   },
   "outputs": [
    {
     "name": "stdout",
     "output_type": "stream",
     "text": [
      "CSV File Format\n",
      "Year,Month,DayofMonth,DayOfWeek,DepTime,CRSDepTime,ArrTime,CRSArrTime,UniqueCarrier,FlightNum,TailNum,ActualElapsedTime,CRSElapsedTime,AirTime,ArrDelay,DepDelay,Origin,Dest,Distance,TaxiIn,TaxiOut,Cancelled,CancellationCode,Diverted,CarrierDelay,WeatherDelay,NASDelay,SecurityDelay,LateAircraftDelay\r\n",
      "1987,10,14,3,741,730,912,849,PS,1451,NA,91,79,NA,23,11,SAN,SFO,447,NA,NA,0,NA,0,NA,NA,NA,NA,NA\r\n",
      "1987,10,15,4,729,730,903,849,PS,1451,NA,94,79,NA,14,-1,SAN,SFO,447,NA,NA,0,NA,0,NA,NA,NA,NA,NA\r\n",
      "1987,10,17,6,741,730,918,849,PS,1451,NA,97,79,NA,29,11,SAN,SFO,447,NA,NA,0,NA,0,NA,NA,NA,NA,NA\r\n",
      "1987,10,18,7,729,730,847,849,PS,1451,NA,78,79,NA,-2,-1,SAN,SFO,447,NA,NA,0,NA,0,NA,NA,NA,NA,NA\r\n",
      "1987,10,19,1,749,730,922,849,PS,1451,NA,93,79,NA,33,19,SAN,SFO,447,NA,NA,0,NA,0,NA,NA,NA,NA,NA\r\n",
      "1987,10,21,3,728,730,848,849,PS,1451,NA,80,79,NA,-1,-2,SAN,SFO,447,NA,NA,0,NA,0,NA,NA,NA,NA,NA\r\n",
      "1987,10,22,4,728,730,852,849,PS,1451,NA,84,79,NA,3,-2,SAN,SFO,447,NA,NA,0,NA,0,NA,NA,NA,NA,NA\r\n",
      "1987,10,23,5,731,730,902,849,PS,1451,NA,91,79,NA,13,1,SAN,SFO,447,NA,NA,0,NA,0,NA,NA,NA,NA,NA\r\n",
      "1987,10,24,6,744,730,908,849,PS,1451,NA,84,79,NA,19,14,SAN,SFO,447,NA,NA,0,NA,0,NA,NA,NA,NA,NA\r\n"
     ]
    }
   ],
   "source": [
    "print 'CSV File Format'\n",
    "!head Data/1987.csv"
   ]
  },
  {
   "cell_type": "markdown",
   "metadata": {},
   "source": [
    "Our next task is to get all of the entries from 1987 to 2008 into one giant data frame. Since Python is much more effiencient at loading the data, we will use it to preprocess the csv files. We have to make sure that all the data is in integer form. The text must be coded as an integer to use R's bigmemory package."
   ]
  },
  {
   "cell_type": "markdown",
   "metadata": {},
   "source": [
    "###  Preprocessing Data in Chunks"
   ]
  },
  {
   "cell_type": "markdown",
   "metadata": {},
   "source": [
    "In order to use R with python rpy2 needs to be installed and loaded."
   ]
  },
  {
   "cell_type": "code",
   "execution_count": 4,
   "metadata": {
    "collapsed": false
   },
   "outputs": [
    {
     "name": "stdout",
     "output_type": "stream",
     "text": [
      "The rmagic extension is already loaded. To reload it, use:\n",
      "  %reload_ext rmagic\n",
      "The rpy2.ipython extension is already loaded. To reload it, use:\n",
      "  %reload_ext rpy2.ipython\n"
     ]
    }
   ],
   "source": [
    "import rpy2\n",
    "%load_ext rmagic \n",
    "%load_ext rpy2.ipython"
   ]
  },
  {
   "cell_type": "markdown",
   "metadata": {},
   "source": [
    "To get some simple statistics, counts, and unique values from a data set this large we have to preprocess all of the data in chunks to increase efficiency. Here we are loading all the CSVs into a pandas Data Frame and finding unique values using pickle. "
   ]
  },
  {
   "cell_type": "code",
   "execution_count": 8,
   "metadata": {
    "collapsed": false
   },
   "outputs": [
    {
     "name": "stdout",
     "output_type": "stream",
     "text": [
      " Loading Data/1987.csv ... Finding Unique Values ... Finished, 3.89 seconds\n",
      "Loading Data/1988.csv ... Finding Unique Values ... Finished, 17.67 seconds\n",
      "Loading Data/1989.csv ... Finding Unique Values ... Finished, 18.79 seconds\n",
      "Loading Data/1990.csv ... Finding Unique Values ... Finished, 21.95 seconds\n",
      "Loading Data/1991.csv ... Finding Unique Values ... Finished, 23.38 seconds\n",
      "Loading Data/1992.csv ... Finding Unique Values ... Finished, 23.16 seconds\n",
      "Loading Data/1993.csv ... Finding Unique Values ... Finished, 18.92 seconds\n",
      "Loading Data/1994.csv ... Finding Unique Values ... Finished, 18.45 seconds\n",
      "Loading Data/1995.csv ... Finding Unique Values ... Finished, 19.05 seconds\n",
      "Loading Data/1996.csv ... Finding Unique Values ... Finished, 19.35 seconds\n",
      "Loading Data/1997.csv ... Finding Unique Values ... Finished, 19.45 seconds\n",
      "Loading Data/1998.csv ... Finding Unique Values ... Finished, 19.11 seconds\n",
      "Loading Data/1999.csv ... Finding Unique Values ... Finished, 19.41 seconds\n",
      "Loading Data/2000.csv ... Finding Unique Values ... Finished, 20.18 seconds\n",
      "Loading Data/2001.csv ... Finding Unique Values ... Finished, 21.07 seconds\n",
      "Loading Data/2002.csv ... Finding Unique Values ... Finished, 21.62 seconds\n",
      "Loading Data/2003.csv ... Finding Unique Values ... Finished, 24.49 seconds\n",
      "Loading Data/2004.csv ... Finding Unique Values ... Finished, 26.63 seconds\n",
      "Loading Data/2005.csv ... Finding Unique Values ... Finished, 28.84 seconds\n",
      "Loading Data/2006.csv ... Finding Unique Values ... Finished, 30.12 seconds\n",
      "Loading Data/2007.csv ... Finding Unique Values ... Finished, 31.49 seconds\n",
      "Loading Data/2008.csv ... Finding Unique Values ... Finished, 29.25 seconds\n"
     ]
    },
    {
     "name": "stderr",
     "output_type": "stream",
     "text": [
      "/Library/Python/2.7/site-packages/IPython/core/interactiveshell.py:2902: DtypeWarning: Columns (22) have mixed types. Specify dtype option on import or set low_memory=False.\n",
      "  interactivity=interactivity, compiler=compiler, result=result)\n"
     ]
    }
   ],
   "source": [
    "import pandas as pd\n",
    "import numpy as np\n",
    "import sys\n",
    "import time\n",
    "import cPickle as pickle\n",
    "\n",
    "unique_values = {}\n",
    "for year in range(1987,2009):\n",
    "    t = time.time()\n",
    "    \n",
    "    # Get Name of the File\n",
    "    csvfile = 'Data/%d.csv'%(year)\n",
    "    print 'Loading',csvfile,\n",
    "    sys.stdout.flush()\n",
    "    \n",
    "    # Read File\n",
    "    df = pd.read_csv(csvfile, usecols=['Origin','Dest','UniqueCarrier','TailNum','CancellationCode'])\n",
    "    \n",
    "    print '...Finding Unique Values',\n",
    "    sys.stdout.flush()\n",
    "    \n",
    "    for col in df.columns:\n",
    "        s = set(df[col].values.astype(np.str))\n",
    "        if col not in unique_values:\n",
    "            unique_values[col] = s\n",
    "\n",
    "        else:\n",
    "            unique_values[col] |= s\n",
    "            \n",
    "    print '...Finished, %.2f seconds' %(time.time() - t)\n",
    "    sys.stdout.flush()\n",
    "    del df\n",
    "    \n",
    "pickle.dump(unique_values, open(\"Data/unique_mapping.p\", \"wb\"))\n",
    "    "
   ]
  },
  {
   "cell_type": "markdown",
   "metadata": {},
   "source": [
    "Here is a sample of a unique key-value pair."
   ]
  },
  {
   "cell_type": "code",
   "execution_count": 9,
   "metadata": {
    "collapsed": false
   },
   "outputs": [
    {
     "name": "stdout",
     "output_type": "stream",
     "text": [
      "['Origin', 'TailNum', 'UniqueCarrier', 'Dest', 'CancellationCode']\n",
      "One Example: set(['A', 'C', 'B', 'D', 'nan'])\n"
     ]
    }
   ],
   "source": [
    "print unique_values.keys()\n",
    "print 'One Example:', unique_values['CancellationCode']"
   ]
  },
  {
   "cell_type": "markdown",
   "metadata": {},
   "source": [
    "The creation of fast_numpy_replace allows us to turn location features into numeric categorical variables. This process, although straightforward, took roughly 17 minutes to fully complete due to the sheer number of observations. "
   ]
  },
  {
   "cell_type": "code",
   "execution_count": 17,
   "metadata": {
    "collapsed": false
   },
   "outputs": [
    {
     "name": "stdout",
     "output_type": "stream",
     "text": [
      " Running... Data/1987.csv Loaded, ...Replacing Values Orig Tail Uniq Dest Canc ... Writing , 44.31 sec.\n",
      "Running... Data/1988.csv Loaded, ...Replacing Values Orig Tail Uniq Dest Canc ... Writing , 164.83 sec.\n",
      "Running... Data/1989.csv Loaded, ...Replacing Values Orig Tail Uniq Dest Canc ... Writing , 173.91 sec.\n",
      "Running... Data/1990.csv Loaded, ...Replacing Values Orig Tail Uniq Dest Canc ... Writing , 191.54 sec.\n",
      "Running... Data/1991.csv Loaded, ...Replacing Values Orig Tail Uniq Dest Canc ... Writing , 188.14 sec.\n",
      "Running... Data/1992.csv Loaded, ...Replacing Values Orig Tail Uniq Dest Canc ... Writing , 207.76 sec.\n",
      "Running... Data/1993.csv Loaded, ...Replacing Values Orig Tail Uniq Dest Canc ... Writing , 493.02 sec.\n",
      "Running... Data/1994.csv Loaded, ...Replacing Values Orig Tail Uniq Dest Canc ... Writing , 209.71 sec.\n",
      "Running... Data/1995.csv Loaded, ...Replacing Values Orig Tail Uniq Dest Canc ... Writing , 273.62 sec.\n",
      "Running... Data/1996.csv Loaded, ...Replacing Values Orig Tail Uniq Dest Canc ... Writing , 274.62 sec.\n",
      "Running... Data/1997.csv Loaded, ...Replacing Values Orig Tail Uniq Dest Canc ... Writing , 477.95 sec.\n",
      "Running... Data/1998.csv Loaded, ...Replacing Values Orig Tail Uniq Dest Canc ... Writing , 406.15 sec.\n",
      "Running... Data/1999.csv Loaded, ...Replacing Values Orig Tail Uniq Dest Canc ... Writing , 328.69 sec.\n",
      "Running... Data/2000.csv Loaded, ...Replacing Values Orig Tail Uniq Dest Canc ... Writing , 369.26 sec.\n",
      "Running... Data/2001.csv Loaded, ...Replacing Values Orig Tail Uniq Dest Canc ... Writing , 419.56 sec.\n",
      "Running... Data/2002.csv Loaded, ...Replacing Values Orig Tail Uniq Dest Canc ... Writing , 349.31 sec.\n",
      "Running... Data/2003.csv Loaded, ...Replacing Values Orig Tail Uniq Dest Canc ... Writing , 422.56 sec.\n",
      "Running... Data/2004.csv Loaded, ...Replacing Values Orig Tail Uniq Dest Canc ... Writing , 484.30 sec.\n",
      "Running... Data/2005.csv Loaded, ...Replacing Values Orig Tail Uniq Dest Canc ... Writing , 495.32 sec.\n",
      "Running... Data/2006.csv Loaded, ...Replacing Values Orig Tail Uniq Dest Canc ... Writing , 521.96 sec.\n",
      "Running... Data/2007.csv Loaded, ...Replacing Values Orig Tail Uniq Dest Canc ... Writing , 581.62 sec.\n",
      "Running... Data/2008.csv Loaded, ...Replacing Values Orig Tail Uniq Dest Canc ... Writing , 517.15 sec.\n",
      "Closing File ...Done\n"
     ]
    }
   ],
   "source": [
    "def fast_numpy_replace (np_vector, replace_set):\n",
    "    replace_set = np.array(list(replace_set))\n",
    "    n = np.ndarray(np_vector.shape).astype(np.float64)\n",
    "    \n",
    "    vector_as_set, idx_back = np.unique(np_vector, return_inverse = True)\n",
    "    \n",
    "    for idx, val in enumerate(vector_as_set):\n",
    "        category_num = np.nonzero(replace_set == val)[0][0]\n",
    "        n[idx_back == idx] = category_num\n",
    "        \n",
    "    return n.astype(np.float64)\n",
    "\n",
    "\n",
    "fileHandle = open('Data/AirlineDataAll.csv', 'w')\n",
    "years = range(1987, 2009)\n",
    "\n",
    "for year in years:\n",
    "    t = time.time()\n",
    "    \n",
    "    csvfile = 'Data/%d.csv'%(year)\n",
    "    print 'Running...',csvfile,\n",
    "    sys.stdout.flush()\n",
    "    \n",
    "    # Read File\n",
    "    df = pd.read_csv(csvfile)\n",
    "    \n",
    "    print 'Loaded, ...Replacing Values',\n",
    "    sys.stdout.flush()\n",
    "    \n",
    "    for key in unique_values.keys():\n",
    "        if key in df:\n",
    "            print key[0:4],\n",
    "            sys.stdout.flush()\n",
    "            tmp = df[key].values.astype(np.str)\n",
    "            df[key] = fast_numpy_replace(tmp, unique_values[key])\n",
    "    \n",
    "    print '...',\n",
    "    sys.stdout.flush()\n",
    "    \n",
    "    for col in df:\n",
    "        df[col] = np.round(df[col].astype(np.float64))\n",
    "    \n",
    "    print 'Writing',\n",
    "    sys.stdout.flush()\n",
    "    \n",
    "    if year == years[0]:\n",
    "        df.to_csv(fileHandle, index=False, index_label=False, na_rep=\"NA\", float_format='%.0f')\n",
    "    else:\n",
    "        df.to_csv(fileHandle, mode='a', index=False, index_label=False, na_rep=\"NA\", float_format='%.0f')\n",
    "    \n",
    "    print ', %.2f sec.' %(time.time() - t)\n",
    "    sys.stdout.flush()\n",
    "    del df\n",
    "   \n",
    "print 'Closing File',\n",
    "sys.stdout.flush()\n",
    "\n",
    "fileHandle.close()\n",
    "print '...Done'\n",
    "sys.stdout.flush()"
   ]
  },
  {
   "cell_type": "markdown",
   "metadata": {},
   "source": [
    "### File Format Comparison"
   ]
  },
  {
   "cell_type": "markdown",
   "metadata": {},
   "source": [
    "Below is a comparison of the old file format and the file that has been processed by fast_numpy_replace function. "
   ]
  },
  {
   "cell_type": "code",
   "execution_count": 18,
   "metadata": {
    "collapsed": false
   },
   "outputs": [
    {
     "name": "stdout",
     "output_type": "stream",
     "text": [
      "New File Format:\n",
      "Year,Month,DayofMonth,DayOfWeek,DepTime,CRSDepTime,ArrTime,CRSArrTime,UniqueCarrier,FlightNum,TailNum,ActualElapsedTime,CRSElapsedTime,AirTime,ArrDelay,DepDelay,Origin,Dest,Distance,TaxiIn,TaxiOut,Cancelled,CancellationCode,Diverted,CarrierDelay,WeatherDelay,NASDelay,SecurityDelay,LateAircraftDelay\n",
      "1987,10,14,3,741,730,912,849,7,1451,9719,91,79,NA,23,11,172,202,447,NA,NA,0,4,0,NA,NA,NA,NA,NA\n",
      "1987,10,15,4,729,730,903,849,7,1451,9719,94,79,NA,14,-1,172,202,447,NA,NA,0,4,0,NA,NA,NA,NA,NA\n",
      "1987,10,17,6,741,730,918,849,7,1451,9719,97,79,NA,29,11,172,202,447,NA,NA,0,4,0,NA,NA,NA,NA,NA\n",
      "1987,10,18,7,729,730,847,849,7,1451,9719,78,79,NA,-2,-1,172,202,447,NA,NA,0,4,0,NA,NA,NA,NA,NA\n",
      "1987,10,19,1,749,730,922,849,7,1451,9719,93,79,NA,33,19,172,202,447,NA,NA,0,4,0,NA,NA,NA,NA,NA\n",
      "1987,10,21,3,728,730,848,849,7,1451,9719,80,79,NA,-1,-2,172,202,447,NA,NA,0,4,0,NA,NA,NA,NA,NA\n",
      "1987,10,22,4,728,730,852,849,7,1451,9719,84,79,NA,3,-2,172,202,447,NA,NA,0,4,0,NA,NA,NA,NA,NA\n",
      "1987,10,23,5,731,730,902,849,7,1451,9719,91,79,NA,13,1,172,202,447,NA,NA,0,4,0,NA,NA,NA,NA,NA\n",
      "1987,10,24,6,744,730,908,849,7,1451,9719,84,79,NA,19,14,172,202,447,NA,NA,0,4,0,NA,NA,NA,NA,NA\n",
      "\n",
      "Old File Format:\n",
      "Year,Month,DayofMonth,DayOfWeek,DepTime,CRSDepTime,ArrTime,CRSArrTime,UniqueCarrier,FlightNum,TailNum,ActualElapsedTime,CRSElapsedTime,AirTime,ArrDelay,DepDelay,Origin,Dest,Distance,TaxiIn,TaxiOut,Cancelled,CancellationCode,Diverted,CarrierDelay,WeatherDelay,NASDelay,SecurityDelay,LateAircraftDelay\n",
      "1987,10,14,3,741,730,912,849,PS,1451,NA,91,79,NA,23,11,SAN,SFO,447,NA,NA,0,NA,0,NA,NA,NA,NA,NA\n",
      "1987,10,15,4,729,730,903,849,PS,1451,NA,94,79,NA,14,-1,SAN,SFO,447,NA,NA,0,NA,0,NA,NA,NA,NA,NA\n",
      "1987,10,17,6,741,730,918,849,PS,1451,NA,97,79,NA,29,11,SAN,SFO,447,NA,NA,0,NA,0,NA,NA,NA,NA,NA\n",
      "1987,10,18,7,729,730,847,849,PS,1451,NA,78,79,NA,-2,-1,SAN,SFO,447,NA,NA,0,NA,0,NA,NA,NA,NA,NA\n",
      "1987,10,19,1,749,730,922,849,PS,1451,NA,93,79,NA,33,19,SAN,SFO,447,NA,NA,0,NA,0,NA,NA,NA,NA,NA\n",
      "1987,10,21,3,728,730,848,849,PS,1451,NA,80,79,NA,-1,-2,SAN,SFO,447,NA,NA,0,NA,0,NA,NA,NA,NA,NA\n",
      "1987,10,22,4,728,730,852,849,PS,1451,NA,84,79,NA,3,-2,SAN,SFO,447,NA,NA,0,NA,0,NA,NA,NA,NA,NA\n",
      "1987,10,23,5,731,730,902,849,PS,1451,NA,91,79,NA,13,1,SAN,SFO,447,NA,NA,0,NA,0,NA,NA,NA,NA,NA\n",
      "1987,10,24,6,744,730,908,849,PS,1451,NA,84,79,NA,19,14,SAN,SFO,447,NA,NA,0,NA,0,NA,NA,NA,NA,NA\n"
     ]
    }
   ],
   "source": [
    "print 'New File Format:'\n",
    "!head Data/AirlineDataAll.csv\n",
    "\n",
    "print ''\n",
    "print 'Old File Format:'\n",
    "!head Data/1987.csv"
   ]
  },
  {
   "cell_type": "code",
   "execution_count": 19,
   "metadata": {
    "collapsed": false
   },
   "outputs": [
    {
     "name": "stdout",
     "output_type": "stream",
     "text": [
      "New File Format:\n",
      "2008,12,13,6,1007,847,1149,1010,0,1631,2497,162,143,122,99,80,251,20,689,8,32,0,4,0,1,0,19,0,79\n",
      "2008,12,13,6,638,640,808,753,0,1632,10676,90,73,50,15,-2,130,255,270,14,26,0,4,0,0,0,15,0,0\n",
      "2008,12,13,6,756,800,1032,1026,0,1633,959,96,86,56,6,-4,304,255,425,23,17,0,4,0,NA,NA,NA,NA,NA\n",
      "2008,12,13,6,612,615,923,907,0,1635,2826,131,112,103,16,-3,53,272,546,5,23,0,4,0,0,0,16,0,0\n",
      "2008,12,13,6,749,750,901,859,0,1636,9994,72,69,41,2,-1,180,255,215,20,11,0,4,0,NA,NA,NA,NA,NA\n",
      "2008,12,13,6,1002,959,1204,1150,0,1636,9994,122,111,71,14,3,251,21,533,6,45,0,4,0,NA,NA,NA,NA,NA\n",
      "2008,12,13,6,834,835,1021,1023,0,1637,10045,167,168,139,-2,-1,251,185,874,5,23,0,4,0,NA,NA,NA,NA,NA\n",
      "2008,12,13,6,655,700,856,856,0,1638,12867,121,116,85,0,-5,235,255,545,24,12,0,4,0,NA,NA,NA,NA,NA\n",
      "2008,12,13,6,1251,1240,1446,1437,0,1639,9994,115,117,89,9,11,21,255,533,13,13,0,4,0,NA,NA,NA,NA,NA\n",
      "2008,12,13,6,1110,1103,1413,1418,0,1641,10045,123,135,104,-5,7,181,255,874,8,11,0,4,0,NA,NA,NA,NA,NA\n",
      "\n",
      "Old File Format:\n",
      "2008,12,13,6,1007,847,1149,1010,DL,1631,N909DA,162,143,122,99,80,ATL,IAH,689,8,32,0,,0,1,0,19,0,79\n",
      "2008,12,13,6,638,640,808,753,DL,1632,N604DL,90,73,50,15,-2,JAX,ATL,270,14,26,0,,0,0,0,15,0,0\n",
      "2008,12,13,6,756,800,1032,1026,DL,1633,N642DL,96,86,56,6,-4,MSY,ATL,425,23,17,0,,0,NA,NA,NA,NA,NA\n",
      "2008,12,13,6,612,615,923,907,DL,1635,N907DA,131,112,103,16,-3,GEG,SLC,546,5,23,0,,0,0,0,16,0,0\n",
      "2008,12,13,6,749,750,901,859,DL,1636,N646DL,72,69,41,2,-1,SAV,ATL,215,20,11,0,,0,NA,NA,NA,NA,NA\n",
      "2008,12,13,6,1002,959,1204,1150,DL,1636,N646DL,122,111,71,14,3,ATL,IAD,533,6,45,0,,0,NA,NA,NA,NA,NA\n",
      "2008,12,13,6,834,835,1021,1023,DL,1637,N908DL,167,168,139,-2,-1,ATL,SAT,874,5,23,0,,0,NA,NA,NA,NA,NA\n",
      "2008,12,13,6,655,700,856,856,DL,1638,N671DN,121,116,85,0,-5,PBI,ATL,545,24,12,0,,0,NA,NA,NA,NA,NA\n",
      "2008,12,13,6,1251,1240,1446,1437,DL,1639,N646DL,115,117,89,9,11,IAD,ATL,533,13,13,0,,0,NA,NA,NA,NA,NA\n",
      "2008,12,13,6,1110,1103,1413,1418,DL,1641,N908DL,123,135,104,-5,7,SAT,ATL,874,8,11,0,,0,NA,NA,NA,NA,NA\n"
     ]
    }
   ],
   "source": [
    "print 'New File Format:'\n",
    "!tail Data/AirlineDataAll.csv\n",
    "\n",
    "print ''\n",
    "print 'Old File Format:'\n",
    "!tail Data/2008.csv"
   ]
  },
  {
   "cell_type": "markdown",
   "metadata": {},
   "source": [
    "Here we save the modified versions of all year CSVs into a single file called AirlineDataAll.csv.\n",
    "This concludes the preprocessing part of the analysis, now we jump to R to begin analysis. \n"
   ]
  },
  {
   "cell_type": "code",
   "execution_count": 20,
   "metadata": {
    "collapsed": false
   },
   "outputs": [
    {
     "name": "stdout",
     "output_type": "stream",
     "text": [
      "-rw-r--r--  1 adamsoto  staff  11785524726 Apr  2 12:06 Data/AirlineDataAll.csv\r\n"
     ]
    }
   ],
   "source": [
    "!ls -all Data/*All.csv"
   ]
  },
  {
   "cell_type": "markdown",
   "metadata": {},
   "source": [
    "### Load the Data in R"
   ]
  },
  {
   "cell_type": "markdown",
   "metadata": {},
   "source": [
    "With R we use a library called bigmemory to assist in running calculations efficiently. The conversion of the CSV file to bigmemory’s matrix is one of the first expensive steps computing wise, it takes roughly an hour and half for the whole dataset to convert. "
   ]
  },
  {
   "cell_type": "code",
   "execution_count": 9,
   "metadata": {
    "collapsed": false
   },
   "outputs": [],
   "source": [
    "%%R\n",
    "library(bigmemory)"
   ]
  },
  {
   "cell_type": "code",
   "execution_count": 11,
   "metadata": {
    "collapsed": false
   },
   "outputs": [
    {
     "data": {
      "text/plain": [
       "[1] 123534990        30\n"
      ]
     },
     "metadata": {},
     "output_type": "display_data"
    }
   ],
   "source": [
    "%%R\n",
    "\n",
    "x <- read.big.matrix(\"Data/AirlineDataAll.csv\", header=TRUE, backingpath=\"Data\", \n",
    "                     backingfile=\"airline.bin\", descriptorfile=\"airline.desc\", type=\"integer\", extraCols=\"age\")\n",
    "\n",
    "print (dim(x))"
   ]
  },
  {
   "cell_type": "code",
   "execution_count": 12,
   "metadata": {
    "collapsed": false
   },
   "outputs": [
    {
     "name": "stdout",
     "output_type": "stream",
     "text": [
      "-rw-r--r--  1 adamsoto  staff  14824198801 Apr  9 12:29 Data/airline.bin\r\n"
     ]
    }
   ],
   "source": [
    "!ls -all Data/*.bin"
   ]
  },
  {
   "cell_type": "markdown",
   "metadata": {},
   "source": [
    "##### Only Run The Above Code Once: ~ 1.5hrs to Complete"
   ]
  },
  {
   "cell_type": "markdown",
   "metadata": {},
   "source": [
    "### Loading Data in Python"
   ]
  },
  {
   "cell_type": "markdown",
   "metadata": {},
   "source": [
    "To see if there is a more efficient method of analysis we jump to using graphlab in Python. "
   ]
  },
  {
   "cell_type": "code",
   "execution_count": 2,
   "metadata": {
    "collapsed": true
   },
   "outputs": [],
   "source": [
    "import graphlab as gl"
   ]
  },
  {
   "cell_type": "markdown",
   "metadata": {},
   "source": [
    "The dataset was parsed and loaded into an sFrame which took roughly 14 minutes to complete. Python is definitely much more efficient at this than R. It also handles the out-of-core memory management automatically. This means that loading and saving large data sets will be much faster. Parallelization is handled as well in the background. However, the split-apply-combine technique has less flexibility. The functions that are already built in will be used for aggregation. Grouping and applying also cannot be separated. The line of code below is saving all of the data from the consolidated csv file to an SFrame. Notice that we are able to see all of the data loaded into the SFrame. The dimensions of the SFrame below indicate this."
   ]
  },
  {
   "cell_type": "code",
   "execution_count": 3,
   "metadata": {
    "collapsed": false
   },
   "outputs": [
    {
     "name": "stderr",
     "output_type": "stream",
     "text": [
      "[INFO] graphlab.cython.cy_server: GraphLab Create v2.1 started. Logging: /tmp/graphlab_server_1491964106.log\n"
     ]
    },
    {
     "name": "stdout",
     "output_type": "stream",
     "text": [
      "This non-commercial license of GraphLab Create for academic use is assigned to ajsoto@smu.edu and will expire on April 09, 2018.\n"
     ]
    },
    {
     "data": {
      "text/html": [
       "<pre>Finished parsing file /Users/adamsoto/Desktop/SMU_Graduate_School/Spring_2017/Quantifying_the_World/Unit_14_Case_Study/Data/AirlineDataAll.csv</pre>"
      ],
      "text/plain": [
       "Finished parsing file /Users/adamsoto/Desktop/SMU_Graduate_School/Spring_2017/Quantifying_the_World/Unit_14_Case_Study/Data/AirlineDataAll.csv"
      ]
     },
     "metadata": {},
     "output_type": "display_data"
    },
    {
     "data": {
      "text/html": [
       "<pre>Parsing completed. Parsed 100 lines in 1.55688 secs.</pre>"
      ],
      "text/plain": [
       "Parsing completed. Parsed 100 lines in 1.55688 secs."
      ]
     },
     "metadata": {},
     "output_type": "display_data"
    },
    {
     "name": "stdout",
     "output_type": "stream",
     "text": [
      "------------------------------------------------------\n",
      "Inferred types from first 100 line(s) of file as \n",
      "column_type_hints=[int,int,int,int,int,int,int,int,int,int,int,int,int,str,int,int,int,int,int,str,str,int,int,int,str,str,str,str,str]\n",
      "If parsing fails due to incorrect types, you can correct\n",
      "the inferred type list above and pass it to read_csv in\n",
      "the column_type_hints argument\n",
      "------------------------------------------------------\n"
     ]
    },
    {
     "data": {
      "text/html": [
       "<pre>Read 541148 lines. Lines per second: 188089</pre>"
      ],
      "text/plain": [
       "Read 541148 lines. Lines per second: 188089"
      ]
     },
     "metadata": {},
     "output_type": "display_data"
    },
    {
     "data": {
      "text/html": [
       "<pre>Unable to parse line \"Year,Month,DayofMonth,DayOfWeek,DepTime,CRSDepTime,ArrTime,CRSArrTime,UniqueCarrier,FlightNum,TailNum,ActualElapsedTime,CRSElapsedTime,AirTime,ArrDelay,DepDelay,Origin,Dest,Distance,TaxiIn,TaxiOut,Cancelled,CancellationCode,Diverted,CarrierDelay,WeatherDel...\"</pre>"
      ],
      "text/plain": [
       "Unable to parse line \"Year,Month,DayofMonth,DayOfWeek,DepTime,CRSDepTime,ArrTime,CRSArrTime,UniqueCarrier,FlightNum,TailNum,ActualElapsedTime,CRSElapsedTime,AirTime,ArrDelay,DepDelay,Origin,Dest,Distance,TaxiIn,TaxiOut,Cancelled,CancellationCode,Diverted,CarrierDelay,WeatherDel...\""
      ]
     },
     "metadata": {},
     "output_type": "display_data"
    },
    {
     "data": {
      "text/html": [
       "<pre>Read 2719286 lines. Lines per second: 307600</pre>"
      ],
      "text/plain": [
       "Read 2719286 lines. Lines per second: 307600"
      ]
     },
     "metadata": {},
     "output_type": "display_data"
    },
    {
     "data": {
      "text/html": [
       "<pre>Read 4903423 lines. Lines per second: 333100</pre>"
      ],
      "text/plain": [
       "Read 4903423 lines. Lines per second: 333100"
      ]
     },
     "metadata": {},
     "output_type": "display_data"
    },
    {
     "data": {
      "text/html": [
       "<pre>Unable to parse line \"Year,Month,DayofMonth,DayOfWeek,DepTime,CRSDepTime,ArrTime,CRSArrTime,UniqueCarrier,FlightNum,TailNum,ActualElapsedTime,CRSElapsedTime,AirTime,ArrDelay,DepDelay,Origin,Dest,Distance,TaxiIn,TaxiOut,Cancelled,CancellationCode,Diverted,CarrierDelay,WeatherDel...\"</pre>"
      ],
      "text/plain": [
       "Unable to parse line \"Year,Month,DayofMonth,DayOfWeek,DepTime,CRSDepTime,ArrTime,CRSArrTime,UniqueCarrier,FlightNum,TailNum,ActualElapsedTime,CRSElapsedTime,AirTime,ArrDelay,DepDelay,Origin,Dest,Distance,TaxiIn,TaxiOut,Cancelled,CancellationCode,Diverted,CarrierDelay,WeatherDel...\""
      ]
     },
     "metadata": {},
     "output_type": "display_data"
    },
    {
     "data": {
      "text/html": [
       "<pre>Read 7071433 lines. Lines per second: 337203</pre>"
      ],
      "text/plain": [
       "Read 7071433 lines. Lines per second: 337203"
      ]
     },
     "metadata": {},
     "output_type": "display_data"
    },
    {
     "data": {
      "text/html": [
       "<pre>Read 8707725 lines. Lines per second: 331687</pre>"
      ],
      "text/plain": [
       "Read 8707725 lines. Lines per second: 331687"
      ]
     },
     "metadata": {},
     "output_type": "display_data"
    },
    {
     "data": {
      "text/html": [
       "<pre>Read 10342975 lines. Lines per second: 324698</pre>"
      ],
      "text/plain": [
       "Read 10342975 lines. Lines per second: 324698"
      ]
     },
     "metadata": {},
     "output_type": "display_data"
    },
    {
     "data": {
      "text/html": [
       "<pre>Unable to parse line \"Year,Month,DayofMonth,DayOfWeek,DepTime,CRSDepTime,ArrTime,CRSArrTime,UniqueCarrier,FlightNum,TailNum,ActualElapsedTime,CRSElapsedTime,AirTime,ArrDelay,DepDelay,Origin,Dest,Distance,TaxiIn,TaxiOut,Cancelled,CancellationCode,Diverted,CarrierDelay,WeatherDel...\"</pre>"
      ],
      "text/plain": [
       "Unable to parse line \"Year,Month,DayofMonth,DayOfWeek,DepTime,CRSDepTime,ArrTime,CRSArrTime,UniqueCarrier,FlightNum,TailNum,ActualElapsedTime,CRSElapsedTime,AirTime,ArrDelay,DepDelay,Origin,Dest,Distance,TaxiIn,TaxiOut,Cancelled,CancellationCode,Diverted,CarrierDelay,WeatherDel...\""
      ]
     },
     "metadata": {},
     "output_type": "display_data"
    },
    {
     "data": {
      "text/html": [
       "<pre>Read 11965507 lines. Lines per second: 317593</pre>"
      ],
      "text/plain": [
       "Read 11965507 lines. Lines per second: 317593"
      ]
     },
     "metadata": {},
     "output_type": "display_data"
    },
    {
     "data": {
      "text/html": [
       "<pre>Read 13600288 lines. Lines per second: 310011</pre>"
      ],
      "text/plain": [
       "Read 13600288 lines. Lines per second: 310011"
      ]
     },
     "metadata": {},
     "output_type": "display_data"
    },
    {
     "data": {
      "text/html": [
       "<pre>Read 15234051 lines. Lines per second: 302710</pre>"
      ],
      "text/plain": [
       "Read 15234051 lines. Lines per second: 302710"
      ]
     },
     "metadata": {},
     "output_type": "display_data"
    },
    {
     "data": {
      "text/html": [
       "<pre>Unable to parse line \"Year,Month,DayofMonth,DayOfWeek,DepTime,CRSDepTime,ArrTime,CRSArrTime,UniqueCarrier,FlightNum,TailNum,ActualElapsedTime,CRSElapsedTime,AirTime,ArrDelay,DepDelay,Origin,Dest,Distance,TaxiIn,TaxiOut,Cancelled,CancellationCode,Diverted,CarrierDelay,WeatherDel...\"</pre>"
      ],
      "text/plain": [
       "Unable to parse line \"Year,Month,DayofMonth,DayOfWeek,DepTime,CRSDepTime,ArrTime,CRSArrTime,UniqueCarrier,FlightNum,TailNum,ActualElapsedTime,CRSElapsedTime,AirTime,ArrDelay,DepDelay,Origin,Dest,Distance,TaxiIn,TaxiOut,Cancelled,CancellationCode,Diverted,CarrierDelay,WeatherDel...\""
      ]
     },
     "metadata": {},
     "output_type": "display_data"
    },
    {
     "data": {
      "text/html": [
       "<pre>Read 16852970 lines. Lines per second: 295778</pre>"
      ],
      "text/plain": [
       "Read 16852970 lines. Lines per second: 295778"
      ]
     },
     "metadata": {},
     "output_type": "display_data"
    },
    {
     "data": {
      "text/html": [
       "<pre>Read 18485775 lines. Lines per second: 287918</pre>"
      ],
      "text/plain": [
       "Read 18485775 lines. Lines per second: 287918"
      ]
     },
     "metadata": {},
     "output_type": "display_data"
    },
    {
     "data": {
      "text/html": [
       "<pre>Read 20120136 lines. Lines per second: 283643</pre>"
      ],
      "text/plain": [
       "Read 20120136 lines. Lines per second: 283643"
      ]
     },
     "metadata": {},
     "output_type": "display_data"
    },
    {
     "data": {
      "text/html": [
       "<pre>Unable to parse line \"Year,Month,DayofMonth,DayOfWeek,DepTime,CRSDepTime,ArrTime,CRSArrTime,UniqueCarrier,FlightNum,TailNum,ActualElapsedTime,CRSElapsedTime,AirTime,ArrDelay,DepDelay,Origin,Dest,Distance,TaxiIn,TaxiOut,Cancelled,CancellationCode,Diverted,CarrierDelay,WeatherDel...\"</pre>"
      ],
      "text/plain": [
       "Unable to parse line \"Year,Month,DayofMonth,DayOfWeek,DepTime,CRSDepTime,ArrTime,CRSArrTime,UniqueCarrier,FlightNum,TailNum,ActualElapsedTime,CRSElapsedTime,AirTime,ArrDelay,DepDelay,Origin,Dest,Distance,TaxiIn,TaxiOut,Cancelled,CancellationCode,Diverted,CarrierDelay,WeatherDel...\""
      ]
     },
     "metadata": {},
     "output_type": "display_data"
    },
    {
     "data": {
      "text/html": [
       "<pre>Read 21741449 lines. Lines per second: 279602</pre>"
      ],
      "text/plain": [
       "Read 21741449 lines. Lines per second: 279602"
      ]
     },
     "metadata": {},
     "output_type": "display_data"
    },
    {
     "data": {
      "text/html": [
       "<pre>Read 23371979 lines. Lines per second: 275720</pre>"
      ],
      "text/plain": [
       "Read 23371979 lines. Lines per second: 275720"
      ]
     },
     "metadata": {},
     "output_type": "display_data"
    },
    {
     "data": {
      "text/html": [
       "<pre>Read 25006126 lines. Lines per second: 271530</pre>"
      ],
      "text/plain": [
       "Read 25006126 lines. Lines per second: 271530"
      ]
     },
     "metadata": {},
     "output_type": "display_data"
    },
    {
     "data": {
      "text/html": [
       "<pre>Unable to parse line \"Year,Month,DayofMonth,DayOfWeek,DepTime,CRSDepTime,ArrTime,CRSArrTime,UniqueCarrier,FlightNum,TailNum,ActualElapsedTime,CRSElapsedTime,AirTime,ArrDelay,DepDelay,Origin,Dest,Distance,TaxiIn,TaxiOut,Cancelled,CancellationCode,Diverted,CarrierDelay,WeatherDel...\"</pre>"
      ],
      "text/plain": [
       "Unable to parse line \"Year,Month,DayofMonth,DayOfWeek,DepTime,CRSDepTime,ArrTime,CRSArrTime,UniqueCarrier,FlightNum,TailNum,ActualElapsedTime,CRSElapsedTime,AirTime,ArrDelay,DepDelay,Origin,Dest,Distance,TaxiIn,TaxiOut,Cancelled,CancellationCode,Diverted,CarrierDelay,WeatherDel...\""
      ]
     },
     "metadata": {},
     "output_type": "display_data"
    },
    {
     "data": {
      "text/html": [
       "<pre>Read 26628970 lines. Lines per second: 267755</pre>"
      ],
      "text/plain": [
       "Read 26628970 lines. Lines per second: 267755"
      ]
     },
     "metadata": {},
     "output_type": "display_data"
    },
    {
     "data": {
      "text/html": [
       "<pre>Read 27712814 lines. Lines per second: 265352</pre>"
      ],
      "text/plain": [
       "Read 27712814 lines. Lines per second: 265352"
      ]
     },
     "metadata": {},
     "output_type": "display_data"
    },
    {
     "data": {
      "text/html": [
       "<pre>Read 28800569 lines. Lines per second: 263103</pre>"
      ],
      "text/plain": [
       "Read 28800569 lines. Lines per second: 263103"
      ]
     },
     "metadata": {},
     "output_type": "display_data"
    },
    {
     "data": {
      "text/html": [
       "<pre>Read 29887867 lines. Lines per second: 259918</pre>"
      ],
      "text/plain": [
       "Read 29887867 lines. Lines per second: 259918"
      ]
     },
     "metadata": {},
     "output_type": "display_data"
    },
    {
     "data": {
      "text/html": [
       "<pre>Read 30973504 lines. Lines per second: 257178</pre>"
      ],
      "text/plain": [
       "Read 30973504 lines. Lines per second: 257178"
      ]
     },
     "metadata": {},
     "output_type": "display_data"
    },
    {
     "data": {
      "text/html": [
       "<pre>Unable to parse line \"Year,Month,DayofMonth,DayOfWeek,DepTime,CRSDepTime,ArrTime,CRSArrTime,UniqueCarrier,FlightNum,TailNum,ActualElapsedTime,CRSElapsedTime,AirTime,ArrDelay,DepDelay,Origin,Dest,Distance,TaxiIn,TaxiOut,Cancelled,CancellationCode,Diverted,CarrierDelay,WeatherDel...\"</pre>"
      ],
      "text/plain": [
       "Unable to parse line \"Year,Month,DayofMonth,DayOfWeek,DepTime,CRSDepTime,ArrTime,CRSArrTime,UniqueCarrier,FlightNum,TailNum,ActualElapsedTime,CRSElapsedTime,AirTime,ArrDelay,DepDelay,Origin,Dest,Distance,TaxiIn,TaxiOut,Cancelled,CancellationCode,Diverted,CarrierDelay,WeatherDel...\""
      ]
     },
     "metadata": {},
     "output_type": "display_data"
    },
    {
     "data": {
      "text/html": [
       "<pre>Read 32048892 lines. Lines per second: 254285</pre>"
      ],
      "text/plain": [
       "Read 32048892 lines. Lines per second: 254285"
      ]
     },
     "metadata": {},
     "output_type": "display_data"
    },
    {
     "data": {
      "text/html": [
       "<pre>Read 33136473 lines. Lines per second: 251651</pre>"
      ],
      "text/plain": [
       "Read 33136473 lines. Lines per second: 251651"
      ]
     },
     "metadata": {},
     "output_type": "display_data"
    },
    {
     "data": {
      "text/html": [
       "<pre>Read 34222639 lines. Lines per second: 249253</pre>"
      ],
      "text/plain": [
       "Read 34222639 lines. Lines per second: 249253"
      ]
     },
     "metadata": {},
     "output_type": "display_data"
    },
    {
     "data": {
      "text/html": [
       "<pre>Read 35310891 lines. Lines per second: 246447</pre>"
      ],
      "text/plain": [
       "Read 35310891 lines. Lines per second: 246447"
      ]
     },
     "metadata": {},
     "output_type": "display_data"
    },
    {
     "data": {
      "text/html": [
       "<pre>Read 36392610 lines. Lines per second: 243939</pre>"
      ],
      "text/plain": [
       "Read 36392610 lines. Lines per second: 243939"
      ]
     },
     "metadata": {},
     "output_type": "display_data"
    },
    {
     "data": {
      "text/html": [
       "<pre>Unable to parse line \"Year,Month,DayofMonth,DayOfWeek,DepTime,CRSDepTime,ArrTime,CRSArrTime,UniqueCarrier,FlightNum,TailNum,ActualElapsedTime,CRSElapsedTime,AirTime,ArrDelay,DepDelay,Origin,Dest,Distance,TaxiIn,TaxiOut,Cancelled,CancellationCode,Diverted,CarrierDelay,WeatherDel...\"</pre>"
      ],
      "text/plain": [
       "Unable to parse line \"Year,Month,DayofMonth,DayOfWeek,DepTime,CRSDepTime,ArrTime,CRSArrTime,UniqueCarrier,FlightNum,TailNum,ActualElapsedTime,CRSElapsedTime,AirTime,ArrDelay,DepDelay,Origin,Dest,Distance,TaxiIn,TaxiOut,Cancelled,CancellationCode,Diverted,CarrierDelay,WeatherDel...\""
      ]
     },
     "metadata": {},
     "output_type": "display_data"
    },
    {
     "data": {
      "text/html": [
       "<pre>Read 37471109 lines. Lines per second: 242029</pre>"
      ],
      "text/plain": [
       "Read 37471109 lines. Lines per second: 242029"
      ]
     },
     "metadata": {},
     "output_type": "display_data"
    },
    {
     "data": {
      "text/html": [
       "<pre>Read 38566383 lines. Lines per second: 240713</pre>"
      ],
      "text/plain": [
       "Read 38566383 lines. Lines per second: 240713"
      ]
     },
     "metadata": {},
     "output_type": "display_data"
    },
    {
     "data": {
      "text/html": [
       "<pre>Read 39660414 lines. Lines per second: 239462</pre>"
      ],
      "text/plain": [
       "Read 39660414 lines. Lines per second: 239462"
      ]
     },
     "metadata": {},
     "output_type": "display_data"
    },
    {
     "data": {
      "text/html": [
       "<pre>Read 40755337 lines. Lines per second: 238406</pre>"
      ],
      "text/plain": [
       "Read 40755337 lines. Lines per second: 238406"
      ]
     },
     "metadata": {},
     "output_type": "display_data"
    },
    {
     "data": {
      "text/html": [
       "<pre>Read 41844308 lines. Lines per second: 237480</pre>"
      ],
      "text/plain": [
       "Read 41844308 lines. Lines per second: 237480"
      ]
     },
     "metadata": {},
     "output_type": "display_data"
    },
    {
     "data": {
      "text/html": [
       "<pre>Unable to parse line \"Year,Month,DayofMonth,DayOfWeek,DepTime,CRSDepTime,ArrTime,CRSArrTime,UniqueCarrier,FlightNum,TailNum,ActualElapsedTime,CRSElapsedTime,AirTime,ArrDelay,DepDelay,Origin,Dest,Distance,TaxiIn,TaxiOut,Cancelled,CancellationCode,Diverted,CarrierDelay,WeatherDel...\"</pre>"
      ],
      "text/plain": [
       "Unable to parse line \"Year,Month,DayofMonth,DayOfWeek,DepTime,CRSDepTime,ArrTime,CRSArrTime,UniqueCarrier,FlightNum,TailNum,ActualElapsedTime,CRSElapsedTime,AirTime,ArrDelay,DepDelay,Origin,Dest,Distance,TaxiIn,TaxiOut,Cancelled,CancellationCode,Diverted,CarrierDelay,WeatherDel...\""
      ]
     },
     "metadata": {},
     "output_type": "display_data"
    },
    {
     "data": {
      "text/html": [
       "<pre>Read 42935514 lines. Lines per second: 236727</pre>"
      ],
      "text/plain": [
       "Read 42935514 lines. Lines per second: 236727"
      ]
     },
     "metadata": {},
     "output_type": "display_data"
    },
    {
     "data": {
      "text/html": [
       "<pre>Read 44029579 lines. Lines per second: 236108</pre>"
      ],
      "text/plain": [
       "Read 44029579 lines. Lines per second: 236108"
      ]
     },
     "metadata": {},
     "output_type": "display_data"
    },
    {
     "data": {
      "text/html": [
       "<pre>Read 45121708 lines. Lines per second: 235470</pre>"
      ],
      "text/plain": [
       "Read 45121708 lines. Lines per second: 235470"
      ]
     },
     "metadata": {},
     "output_type": "display_data"
    },
    {
     "data": {
      "text/html": [
       "<pre>Read 46214902 lines. Lines per second: 235052</pre>"
      ],
      "text/plain": [
       "Read 46214902 lines. Lines per second: 235052"
      ]
     },
     "metadata": {},
     "output_type": "display_data"
    },
    {
     "data": {
      "text/html": [
       "<pre>Read 47299060 lines. Lines per second: 234440</pre>"
      ],
      "text/plain": [
       "Read 47299060 lines. Lines per second: 234440"
      ]
     },
     "metadata": {},
     "output_type": "display_data"
    },
    {
     "data": {
      "text/html": [
       "<pre>Unable to parse line \"Year,Month,DayofMonth,DayOfWeek,DepTime,CRSDepTime,ArrTime,CRSArrTime,UniqueCarrier,FlightNum,TailNum,ActualElapsedTime,CRSElapsedTime,AirTime,ArrDelay,DepDelay,Origin,Dest,Distance,TaxiIn,TaxiOut,Cancelled,CancellationCode,Diverted,CarrierDelay,WeatherDel...\"</pre>"
      ],
      "text/plain": [
       "Unable to parse line \"Year,Month,DayofMonth,DayOfWeek,DepTime,CRSDepTime,ArrTime,CRSArrTime,UniqueCarrier,FlightNum,TailNum,ActualElapsedTime,CRSElapsedTime,AirTime,ArrDelay,DepDelay,Origin,Dest,Distance,TaxiIn,TaxiOut,Cancelled,CancellationCode,Diverted,CarrierDelay,WeatherDel...\""
      ]
     },
     "metadata": {},
     "output_type": "display_data"
    },
    {
     "data": {
      "text/html": [
       "<pre>Read 48389820 lines. Lines per second: 233816</pre>"
      ],
      "text/plain": [
       "Read 48389820 lines. Lines per second: 233816"
      ]
     },
     "metadata": {},
     "output_type": "display_data"
    },
    {
     "data": {
      "text/html": [
       "<pre>Read 49480806 lines. Lines per second: 233223</pre>"
      ],
      "text/plain": [
       "Read 49480806 lines. Lines per second: 233223"
      ]
     },
     "metadata": {},
     "output_type": "display_data"
    },
    {
     "data": {
      "text/html": [
       "<pre>Read 50572942 lines. Lines per second: 232679</pre>"
      ],
      "text/plain": [
       "Read 50572942 lines. Lines per second: 232679"
      ]
     },
     "metadata": {},
     "output_type": "display_data"
    },
    {
     "data": {
      "text/html": [
       "<pre>Read 51664872 lines. Lines per second: 232200</pre>"
      ],
      "text/plain": [
       "Read 51664872 lines. Lines per second: 232200"
      ]
     },
     "metadata": {},
     "output_type": "display_data"
    },
    {
     "data": {
      "text/html": [
       "<pre>Read 52747222 lines. Lines per second: 231714</pre>"
      ],
      "text/plain": [
       "Read 52747222 lines. Lines per second: 231714"
      ]
     },
     "metadata": {},
     "output_type": "display_data"
    },
    {
     "data": {
      "text/html": [
       "<pre>Read 53838520 lines. Lines per second: 231318</pre>"
      ],
      "text/plain": [
       "Read 53838520 lines. Lines per second: 231318"
      ]
     },
     "metadata": {},
     "output_type": "display_data"
    },
    {
     "data": {
      "text/html": [
       "<pre>Read 54928009 lines. Lines per second: 230704</pre>"
      ],
      "text/plain": [
       "Read 54928009 lines. Lines per second: 230704"
      ]
     },
     "metadata": {},
     "output_type": "display_data"
    },
    {
     "data": {
      "text/html": [
       "<pre>Read 56019634 lines. Lines per second: 230299</pre>"
      ],
      "text/plain": [
       "Read 56019634 lines. Lines per second: 230299"
      ]
     },
     "metadata": {},
     "output_type": "display_data"
    },
    {
     "data": {
      "text/html": [
       "<pre>Read 57110528 lines. Lines per second: 229783</pre>"
      ],
      "text/plain": [
       "Read 57110528 lines. Lines per second: 229783"
      ]
     },
     "metadata": {},
     "output_type": "display_data"
    },
    {
     "data": {
      "text/html": [
       "<pre>Read 58191370 lines. Lines per second: 229421</pre>"
      ],
      "text/plain": [
       "Read 58191370 lines. Lines per second: 229421"
      ]
     },
     "metadata": {},
     "output_type": "display_data"
    },
    {
     "data": {
      "text/html": [
       "<pre>Read 59276849 lines. Lines per second: 228977</pre>"
      ],
      "text/plain": [
       "Read 59276849 lines. Lines per second: 228977"
      ]
     },
     "metadata": {},
     "output_type": "display_data"
    },
    {
     "data": {
      "text/html": [
       "<pre>Read 60368391 lines. Lines per second: 228509</pre>"
      ],
      "text/plain": [
       "Read 60368391 lines. Lines per second: 228509"
      ]
     },
     "metadata": {},
     "output_type": "display_data"
    },
    {
     "data": {
      "text/html": [
       "<pre>Read 61460760 lines. Lines per second: 228006</pre>"
      ],
      "text/plain": [
       "Read 61460760 lines. Lines per second: 228006"
      ]
     },
     "metadata": {},
     "output_type": "display_data"
    },
    {
     "data": {
      "text/html": [
       "<pre>Read 62549483 lines. Lines per second: 227525</pre>"
      ],
      "text/plain": [
       "Read 62549483 lines. Lines per second: 227525"
      ]
     },
     "metadata": {},
     "output_type": "display_data"
    },
    {
     "data": {
      "text/html": [
       "<pre>Read 63633671 lines. Lines per second: 227001</pre>"
      ],
      "text/plain": [
       "Read 63633671 lines. Lines per second: 227001"
      ]
     },
     "metadata": {},
     "output_type": "display_data"
    },
    {
     "data": {
      "text/html": [
       "<pre>Read 64716648 lines. Lines per second: 226538</pre>"
      ],
      "text/plain": [
       "Read 64716648 lines. Lines per second: 226538"
      ]
     },
     "metadata": {},
     "output_type": "display_data"
    },
    {
     "data": {
      "text/html": [
       "<pre>Read 65804273 lines. Lines per second: 226101</pre>"
      ],
      "text/plain": [
       "Read 65804273 lines. Lines per second: 226101"
      ]
     },
     "metadata": {},
     "output_type": "display_data"
    },
    {
     "data": {
      "text/html": [
       "<pre>Read 66891642 lines. Lines per second: 225611</pre>"
      ],
      "text/plain": [
       "Read 66891642 lines. Lines per second: 225611"
      ]
     },
     "metadata": {},
     "output_type": "display_data"
    },
    {
     "data": {
      "text/html": [
       "<pre>Read 67979403 lines. Lines per second: 225249</pre>"
      ],
      "text/plain": [
       "Read 67979403 lines. Lines per second: 225249"
      ]
     },
     "metadata": {},
     "output_type": "display_data"
    },
    {
     "data": {
      "text/html": [
       "<pre>Read 69060558 lines. Lines per second: 224681</pre>"
      ],
      "text/plain": [
       "Read 69060558 lines. Lines per second: 224681"
      ]
     },
     "metadata": {},
     "output_type": "display_data"
    },
    {
     "data": {
      "text/html": [
       "<pre>Read 70140870 lines. Lines per second: 224248</pre>"
      ],
      "text/plain": [
       "Read 70140870 lines. Lines per second: 224248"
      ]
     },
     "metadata": {},
     "output_type": "display_data"
    },
    {
     "data": {
      "text/html": [
       "<pre>Read 71227922 lines. Lines per second: 223857</pre>"
      ],
      "text/plain": [
       "Read 71227922 lines. Lines per second: 223857"
      ]
     },
     "metadata": {},
     "output_type": "display_data"
    },
    {
     "data": {
      "text/html": [
       "<pre>Read 72314683 lines. Lines per second: 223525</pre>"
      ],
      "text/plain": [
       "Read 72314683 lines. Lines per second: 223525"
      ]
     },
     "metadata": {},
     "output_type": "display_data"
    },
    {
     "data": {
      "text/html": [
       "<pre>Read 73401940 lines. Lines per second: 223012</pre>"
      ],
      "text/plain": [
       "Read 73401940 lines. Lines per second: 223012"
      ]
     },
     "metadata": {},
     "output_type": "display_data"
    },
    {
     "data": {
      "text/html": [
       "<pre>Read 74491367 lines. Lines per second: 222728</pre>"
      ],
      "text/plain": [
       "Read 74491367 lines. Lines per second: 222728"
      ]
     },
     "metadata": {},
     "output_type": "display_data"
    },
    {
     "data": {
      "text/html": [
       "<pre>Read 75570198 lines. Lines per second: 222291</pre>"
      ],
      "text/plain": [
       "Read 75570198 lines. Lines per second: 222291"
      ]
     },
     "metadata": {},
     "output_type": "display_data"
    },
    {
     "data": {
      "text/html": [
       "<pre>Read 76651060 lines. Lines per second: 221821</pre>"
      ],
      "text/plain": [
       "Read 76651060 lines. Lines per second: 221821"
      ]
     },
     "metadata": {},
     "output_type": "display_data"
    },
    {
     "data": {
      "text/html": [
       "<pre>Read 77736049 lines. Lines per second: 220938</pre>"
      ],
      "text/plain": [
       "Read 77736049 lines. Lines per second: 220938"
      ]
     },
     "metadata": {},
     "output_type": "display_data"
    },
    {
     "data": {
      "text/html": [
       "<pre>Read 78818830 lines. Lines per second: 220415</pre>"
      ],
      "text/plain": [
       "Read 78818830 lines. Lines per second: 220415"
      ]
     },
     "metadata": {},
     "output_type": "display_data"
    },
    {
     "data": {
      "text/html": [
       "<pre>Read 79900093 lines. Lines per second: 220104</pre>"
      ],
      "text/plain": [
       "Read 79900093 lines. Lines per second: 220104"
      ]
     },
     "metadata": {},
     "output_type": "display_data"
    },
    {
     "data": {
      "text/html": [
       "<pre>Read 80973183 lines. Lines per second: 219710</pre>"
      ],
      "text/plain": [
       "Read 80973183 lines. Lines per second: 219710"
      ]
     },
     "metadata": {},
     "output_type": "display_data"
    },
    {
     "data": {
      "text/html": [
       "<pre>Read 82055186 lines. Lines per second: 219419</pre>"
      ],
      "text/plain": [
       "Read 82055186 lines. Lines per second: 219419"
      ]
     },
     "metadata": {},
     "output_type": "display_data"
    },
    {
     "data": {
      "text/html": [
       "<pre>Read 83139465 lines. Lines per second: 219149</pre>"
      ],
      "text/plain": [
       "Read 83139465 lines. Lines per second: 219149"
      ]
     },
     "metadata": {},
     "output_type": "display_data"
    },
    {
     "data": {
      "text/html": [
       "<pre>Read 84243234 lines. Lines per second: 218900</pre>"
      ],
      "text/plain": [
       "Read 84243234 lines. Lines per second: 218900"
      ]
     },
     "metadata": {},
     "output_type": "display_data"
    },
    {
     "data": {
      "text/html": [
       "<pre>Read 85382983 lines. Lines per second: 218698</pre>"
      ],
      "text/plain": [
       "Read 85382983 lines. Lines per second: 218698"
      ]
     },
     "metadata": {},
     "output_type": "display_data"
    },
    {
     "data": {
      "text/html": [
       "<pre>Read 86517345 lines. Lines per second: 218449</pre>"
      ],
      "text/plain": [
       "Read 86517345 lines. Lines per second: 218449"
      ]
     },
     "metadata": {},
     "output_type": "display_data"
    },
    {
     "data": {
      "text/html": [
       "<pre>Read 87645039 lines. Lines per second: 218325</pre>"
      ],
      "text/plain": [
       "Read 87645039 lines. Lines per second: 218325"
      ]
     },
     "metadata": {},
     "output_type": "display_data"
    },
    {
     "data": {
      "text/html": [
       "<pre>Read 88784355 lines. Lines per second: 218212</pre>"
      ],
      "text/plain": [
       "Read 88784355 lines. Lines per second: 218212"
      ]
     },
     "metadata": {},
     "output_type": "display_data"
    },
    {
     "data": {
      "text/html": [
       "<pre>Read 89923761 lines. Lines per second: 217982</pre>"
      ],
      "text/plain": [
       "Read 89923761 lines. Lines per second: 217982"
      ]
     },
     "metadata": {},
     "output_type": "display_data"
    },
    {
     "data": {
      "text/html": [
       "<pre>Read 91063222 lines. Lines per second: 217832</pre>"
      ],
      "text/plain": [
       "Read 91063222 lines. Lines per second: 217832"
      ]
     },
     "metadata": {},
     "output_type": "display_data"
    },
    {
     "data": {
      "text/html": [
       "<pre>Read 92203863 lines. Lines per second: 217702</pre>"
      ],
      "text/plain": [
       "Read 92203863 lines. Lines per second: 217702"
      ]
     },
     "metadata": {},
     "output_type": "display_data"
    },
    {
     "data": {
      "text/html": [
       "<pre>Read 93340477 lines. Lines per second: 217529</pre>"
      ],
      "text/plain": [
       "Read 93340477 lines. Lines per second: 217529"
      ]
     },
     "metadata": {},
     "output_type": "display_data"
    },
    {
     "data": {
      "text/html": [
       "<pre>Read 94468666 lines. Lines per second: 217491</pre>"
      ],
      "text/plain": [
       "Read 94468666 lines. Lines per second: 217491"
      ]
     },
     "metadata": {},
     "output_type": "display_data"
    },
    {
     "data": {
      "text/html": [
       "<pre>Read 95604830 lines. Lines per second: 216834</pre>"
      ],
      "text/plain": [
       "Read 95604830 lines. Lines per second: 216834"
      ]
     },
     "metadata": {},
     "output_type": "display_data"
    },
    {
     "data": {
      "text/html": [
       "<pre>Read 96744057 lines. Lines per second: 216242</pre>"
      ],
      "text/plain": [
       "Read 96744057 lines. Lines per second: 216242"
      ]
     },
     "metadata": {},
     "output_type": "display_data"
    },
    {
     "data": {
      "text/html": [
       "<pre>Read 97883499 lines. Lines per second: 215867</pre>"
      ],
      "text/plain": [
       "Read 97883499 lines. Lines per second: 215867"
      ]
     },
     "metadata": {},
     "output_type": "display_data"
    },
    {
     "data": {
      "text/html": [
       "<pre>Read 99019793 lines. Lines per second: 215470</pre>"
      ],
      "text/plain": [
       "Read 99019793 lines. Lines per second: 215470"
      ]
     },
     "metadata": {},
     "output_type": "display_data"
    },
    {
     "data": {
      "text/html": [
       "<pre>Read 100159665 lines. Lines per second: 215064</pre>"
      ],
      "text/plain": [
       "Read 100159665 lines. Lines per second: 215064"
      ]
     },
     "metadata": {},
     "output_type": "display_data"
    },
    {
     "data": {
      "text/html": [
       "<pre>Read 101287343 lines. Lines per second: 214678</pre>"
      ],
      "text/plain": [
       "Read 101287343 lines. Lines per second: 214678"
      ]
     },
     "metadata": {},
     "output_type": "display_data"
    },
    {
     "data": {
      "text/html": [
       "<pre>Read 102418239 lines. Lines per second: 214205</pre>"
      ],
      "text/plain": [
       "Read 102418239 lines. Lines per second: 214205"
      ]
     },
     "metadata": {},
     "output_type": "display_data"
    },
    {
     "data": {
      "text/html": [
       "<pre>Read 103555764 lines. Lines per second: 213752</pre>"
      ],
      "text/plain": [
       "Read 103555764 lines. Lines per second: 213752"
      ]
     },
     "metadata": {},
     "output_type": "display_data"
    },
    {
     "data": {
      "text/html": [
       "<pre>Read 104694567 lines. Lines per second: 213368</pre>"
      ],
      "text/plain": [
       "Read 104694567 lines. Lines per second: 213368"
      ]
     },
     "metadata": {},
     "output_type": "display_data"
    },
    {
     "data": {
      "text/html": [
       "<pre>Read 105832720 lines. Lines per second: 212967</pre>"
      ],
      "text/plain": [
       "Read 105832720 lines. Lines per second: 212967"
      ]
     },
     "metadata": {},
     "output_type": "display_data"
    },
    {
     "data": {
      "text/html": [
       "<pre>Read 106969553 lines. Lines per second: 212543</pre>"
      ],
      "text/plain": [
       "Read 106969553 lines. Lines per second: 212543"
      ]
     },
     "metadata": {},
     "output_type": "display_data"
    },
    {
     "data": {
      "text/html": [
       "<pre>Read 108097393 lines. Lines per second: 212182</pre>"
      ],
      "text/plain": [
       "Read 108097393 lines. Lines per second: 212182"
      ]
     },
     "metadata": {},
     "output_type": "display_data"
    },
    {
     "data": {
      "text/html": [
       "<pre>Read 109223905 lines. Lines per second: 211772</pre>"
      ],
      "text/plain": [
       "Read 109223905 lines. Lines per second: 211772"
      ]
     },
     "metadata": {},
     "output_type": "display_data"
    },
    {
     "data": {
      "text/html": [
       "<pre>Read 110360838 lines. Lines per second: 211415</pre>"
      ],
      "text/plain": [
       "Read 110360838 lines. Lines per second: 211415"
      ]
     },
     "metadata": {},
     "output_type": "display_data"
    },
    {
     "data": {
      "text/html": [
       "<pre>Read 111495836 lines. Lines per second: 211051</pre>"
      ],
      "text/plain": [
       "Read 111495836 lines. Lines per second: 211051"
      ]
     },
     "metadata": {},
     "output_type": "display_data"
    },
    {
     "data": {
      "text/html": [
       "<pre>Read 112634777 lines. Lines per second: 210912</pre>"
      ],
      "text/plain": [
       "Read 112634777 lines. Lines per second: 210912"
      ]
     },
     "metadata": {},
     "output_type": "display_data"
    },
    {
     "data": {
      "text/html": [
       "<pre>Read 113771311 lines. Lines per second: 210603</pre>"
      ],
      "text/plain": [
       "Read 113771311 lines. Lines per second: 210603"
      ]
     },
     "metadata": {},
     "output_type": "display_data"
    },
    {
     "data": {
      "text/html": [
       "<pre>Read 114905566 lines. Lines per second: 210531</pre>"
      ],
      "text/plain": [
       "Read 114905566 lines. Lines per second: 210531"
      ]
     },
     "metadata": {},
     "output_type": "display_data"
    },
    {
     "data": {
      "text/html": [
       "<pre>Read 116029426 lines. Lines per second: 210380</pre>"
      ],
      "text/plain": [
       "Read 116029426 lines. Lines per second: 210380"
      ]
     },
     "metadata": {},
     "output_type": "display_data"
    },
    {
     "data": {
      "text/html": [
       "<pre>Read 117132073 lines. Lines per second: 210125</pre>"
      ],
      "text/plain": [
       "Read 117132073 lines. Lines per second: 210125"
      ]
     },
     "metadata": {},
     "output_type": "display_data"
    },
    {
     "data": {
      "text/html": [
       "<pre>Read 118224170 lines. Lines per second: 209827</pre>"
      ],
      "text/plain": [
       "Read 118224170 lines. Lines per second: 209827"
      ]
     },
     "metadata": {},
     "output_type": "display_data"
    },
    {
     "data": {
      "text/html": [
       "<pre>Read 119314042 lines. Lines per second: 209469</pre>"
      ],
      "text/plain": [
       "Read 119314042 lines. Lines per second: 209469"
      ]
     },
     "metadata": {},
     "output_type": "display_data"
    },
    {
     "data": {
      "text/html": [
       "<pre>Read 120404143 lines. Lines per second: 209107</pre>"
      ],
      "text/plain": [
       "Read 120404143 lines. Lines per second: 209107"
      ]
     },
     "metadata": {},
     "output_type": "display_data"
    },
    {
     "data": {
      "text/html": [
       "<pre>Read 121492662 lines. Lines per second: 208774</pre>"
      ],
      "text/plain": [
       "Read 121492662 lines. Lines per second: 208774"
      ]
     },
     "metadata": {},
     "output_type": "display_data"
    },
    {
     "data": {
      "text/html": [
       "<pre>Read 122571118 lines. Lines per second: 208440</pre>"
      ],
      "text/plain": [
       "Read 122571118 lines. Lines per second: 208440"
      ]
     },
     "metadata": {},
     "output_type": "display_data"
    },
    {
     "data": {
      "text/html": [
       "<pre>21 lines failed to parse correctly</pre>"
      ],
      "text/plain": [
       "21 lines failed to parse correctly"
      ]
     },
     "metadata": {},
     "output_type": "display_data"
    },
    {
     "data": {
      "text/html": [
       "<pre>Finished parsing file /Users/adamsoto/Desktop/SMU_Graduate_School/Spring_2017/Quantifying_the_World/Unit_14_Case_Study/Data/AirlineDataAll.csv</pre>"
      ],
      "text/plain": [
       "Finished parsing file /Users/adamsoto/Desktop/SMU_Graduate_School/Spring_2017/Quantifying_the_World/Unit_14_Case_Study/Data/AirlineDataAll.csv"
      ]
     },
     "metadata": {},
     "output_type": "display_data"
    },
    {
     "data": {
      "text/html": [
       "<pre>Parsing completed. Parsed 123534969 lines in 592.23 secs.</pre>"
      ],
      "text/plain": [
       "Parsing completed. Parsed 123534969 lines in 592.23 secs."
      ]
     },
     "metadata": {},
     "output_type": "display_data"
    }
   ],
   "source": [
    "sf = gl.SFrame('Data/AirlineDataAll.csv')"
   ]
  },
  {
   "cell_type": "code",
   "execution_count": 4,
   "metadata": {
    "collapsed": false
   },
   "outputs": [
    {
     "data": {
      "text/plain": [
       "(123534969, 29)"
      ]
     },
     "execution_count": 4,
     "metadata": {},
     "output_type": "execute_result"
    }
   ],
   "source": [
    "sf.shape"
   ]
  },
  {
   "cell_type": "markdown",
   "metadata": {},
   "source": [
    "Here, we are loading in the data again, but ensuring that the data types are all consistent. If they are not specified, graphlab will try to guess the appropriate type. The load_frame function is used to load the data correctly."
   ]
  },
  {
   "cell_type": "code",
   "execution_count": 5,
   "metadata": {
    "collapsed": false
   },
   "outputs": [
    {
     "name": "stdout",
     "output_type": "stream",
     "text": [
      "Read 0 lines, Reading next file 1987.csv\n"
     ]
    },
    {
     "data": {
      "text/html": [
       "<pre>Read 540959 lines. Lines per second: 156408</pre>"
      ],
      "text/plain": [
       "Read 540959 lines. Lines per second: 156408"
      ]
     },
     "metadata": {},
     "output_type": "display_data"
    },
    {
     "data": {
      "text/html": [
       "<pre>Finished parsing file /Users/adamsoto/Desktop/SMU_Graduate_School/Spring_2017/Quantifying_the_World/Unit_14_Case_Study/Data/1987.csv</pre>"
      ],
      "text/plain": [
       "Finished parsing file /Users/adamsoto/Desktop/SMU_Graduate_School/Spring_2017/Quantifying_the_World/Unit_14_Case_Study/Data/1987.csv"
      ]
     },
     "metadata": {},
     "output_type": "display_data"
    },
    {
     "data": {
      "text/html": [
       "<pre>Parsing completed. Parsed 1311826 lines in 4.78955 secs.</pre>"
      ],
      "text/plain": [
       "Parsing completed. Parsed 1311826 lines in 4.78955 secs."
      ]
     },
     "metadata": {},
     "output_type": "display_data"
    },
    {
     "name": "stdout",
     "output_type": "stream",
     "text": [
      "Read 1311826 lines, Reading next file 1988.csv\n"
     ]
    },
    {
     "data": {
      "text/html": [
       "<pre>Read 546089 lines. Lines per second: 155239</pre>"
      ],
      "text/plain": [
       "Read 546089 lines. Lines per second: 155239"
      ]
     },
     "metadata": {},
     "output_type": "display_data"
    },
    {
     "data": {
      "text/html": [
       "<pre>Read 2184442 lines. Lines per second: 236662</pre>"
      ],
      "text/plain": [
       "Read 2184442 lines. Lines per second: 236662"
      ]
     },
     "metadata": {},
     "output_type": "display_data"
    },
    {
     "data": {
      "text/html": [
       "<pre>Read 3821852 lines. Lines per second: 238637</pre>"
      ],
      "text/plain": [
       "Read 3821852 lines. Lines per second: 238637"
      ]
     },
     "metadata": {},
     "output_type": "display_data"
    },
    {
     "data": {
      "text/html": [
       "<pre>Finished parsing file /Users/adamsoto/Desktop/SMU_Graduate_School/Spring_2017/Quantifying_the_World/Unit_14_Case_Study/Data/1988.csv</pre>"
      ],
      "text/plain": [
       "Finished parsing file /Users/adamsoto/Desktop/SMU_Graduate_School/Spring_2017/Quantifying_the_World/Unit_14_Case_Study/Data/1988.csv"
      ]
     },
     "metadata": {},
     "output_type": "display_data"
    },
    {
     "data": {
      "text/html": [
       "<pre>Parsing completed. Parsed 5202096 lines in 20.8464 secs.</pre>"
      ],
      "text/plain": [
       "Parsing completed. Parsed 5202096 lines in 20.8464 secs."
      ]
     },
     "metadata": {},
     "output_type": "display_data"
    },
    {
     "name": "stdout",
     "output_type": "stream",
     "text": [
      "Read 6513922 lines, Reading next file 1989.csv\n"
     ]
    },
    {
     "data": {
      "text/html": [
       "<pre>Read 545019 lines. Lines per second: 97934.6</pre>"
      ],
      "text/plain": [
       "Read 545019 lines. Lines per second: 97934.6"
      ]
     },
     "metadata": {},
     "output_type": "display_data"
    },
    {
     "data": {
      "text/html": [
       "<pre>Read 1634745 lines. Lines per second: 147508</pre>"
      ],
      "text/plain": [
       "Read 1634745 lines. Lines per second: 147508"
      ]
     },
     "metadata": {},
     "output_type": "display_data"
    },
    {
     "data": {
      "text/html": [
       "<pre>Read 2724002 lines. Lines per second: 162983</pre>"
      ],
      "text/plain": [
       "Read 2724002 lines. Lines per second: 162983"
      ]
     },
     "metadata": {},
     "output_type": "display_data"
    },
    {
     "data": {
      "text/html": [
       "<pre>Read 3813071 lines. Lines per second: 171388</pre>"
      ],
      "text/plain": [
       "Read 3813071 lines. Lines per second: 171388"
      ]
     },
     "metadata": {},
     "output_type": "display_data"
    },
    {
     "data": {
      "text/html": [
       "<pre>Finished parsing file /Users/adamsoto/Desktop/SMU_Graduate_School/Spring_2017/Quantifying_the_World/Unit_14_Case_Study/Data/1989.csv</pre>"
      ],
      "text/plain": [
       "Finished parsing file /Users/adamsoto/Desktop/SMU_Graduate_School/Spring_2017/Quantifying_the_World/Unit_14_Case_Study/Data/1989.csv"
      ]
     },
     "metadata": {},
     "output_type": "display_data"
    },
    {
     "data": {
      "text/html": [
       "<pre>Parsing completed. Parsed 5041200 lines in 27.1497 secs.</pre>"
      ],
      "text/plain": [
       "Parsing completed. Parsed 5041200 lines in 27.1497 secs."
      ]
     },
     "metadata": {},
     "output_type": "display_data"
    },
    {
     "name": "stdout",
     "output_type": "stream",
     "text": [
      "Read 11555122 lines, Reading next file 1990.csv\n"
     ]
    },
    {
     "data": {
      "text/html": [
       "<pre>Read 545116 lines. Lines per second: 88466.5</pre>"
      ],
      "text/plain": [
       "Read 545116 lines. Lines per second: 88466.5"
      ]
     },
     "metadata": {},
     "output_type": "display_data"
    },
    {
     "data": {
      "text/html": [
       "<pre>Read 1633416 lines. Lines per second: 131190</pre>"
      ],
      "text/plain": [
       "Read 1633416 lines. Lines per second: 131190"
      ]
     },
     "metadata": {},
     "output_type": "display_data"
    },
    {
     "data": {
      "text/html": [
       "<pre>Read 2722223 lines. Lines per second: 145208</pre>"
      ],
      "text/plain": [
       "Read 2722223 lines. Lines per second: 145208"
      ]
     },
     "metadata": {},
     "output_type": "display_data"
    },
    {
     "data": {
      "text/html": [
       "<pre>Read 3810010 lines. Lines per second: 155330</pre>"
      ],
      "text/plain": [
       "Read 3810010 lines. Lines per second: 155330"
      ]
     },
     "metadata": {},
     "output_type": "display_data"
    },
    {
     "data": {
      "text/html": [
       "<pre>Read 4888265 lines. Lines per second: 163778</pre>"
      ],
      "text/plain": [
       "Read 4888265 lines. Lines per second: 163778"
      ]
     },
     "metadata": {},
     "output_type": "display_data"
    },
    {
     "data": {
      "text/html": [
       "<pre>Finished parsing file /Users/adamsoto/Desktop/SMU_Graduate_School/Spring_2017/Quantifying_the_World/Unit_14_Case_Study/Data/1990.csv</pre>"
      ],
      "text/plain": [
       "Finished parsing file /Users/adamsoto/Desktop/SMU_Graduate_School/Spring_2017/Quantifying_the_World/Unit_14_Case_Study/Data/1990.csv"
      ]
     },
     "metadata": {},
     "output_type": "display_data"
    },
    {
     "data": {
      "text/html": [
       "<pre>Parsing completed. Parsed 5270893 lines in 30.7301 secs.</pre>"
      ],
      "text/plain": [
       "Parsing completed. Parsed 5270893 lines in 30.7301 secs."
      ]
     },
     "metadata": {},
     "output_type": "display_data"
    },
    {
     "name": "stdout",
     "output_type": "stream",
     "text": [
      "Read 16826015 lines, Reading next file 1991.csv\n"
     ]
    },
    {
     "data": {
      "text/html": [
       "<pre>Read 543797 lines. Lines per second: 92673.6</pre>"
      ],
      "text/plain": [
       "Read 543797 lines. Lines per second: 92673.6"
      ]
     },
     "metadata": {},
     "output_type": "display_data"
    },
    {
     "data": {
      "text/html": [
       "<pre>Read 1629277 lines. Lines per second: 132202</pre>"
      ],
      "text/plain": [
       "Read 1629277 lines. Lines per second: 132202"
      ]
     },
     "metadata": {},
     "output_type": "display_data"
    },
    {
     "data": {
      "text/html": [
       "<pre>Read 2715831 lines. Lines per second: 141324</pre>"
      ],
      "text/plain": [
       "Read 2715831 lines. Lines per second: 141324"
      ]
     },
     "metadata": {},
     "output_type": "display_data"
    },
    {
     "data": {
      "text/html": [
       "<pre>Read 3802465 lines. Lines per second: 145632</pre>"
      ],
      "text/plain": [
       "Read 3802465 lines. Lines per second: 145632"
      ]
     },
     "metadata": {},
     "output_type": "display_data"
    },
    {
     "data": {
      "text/html": [
       "<pre>Read 4878544 lines. Lines per second: 155994</pre>"
      ],
      "text/plain": [
       "Read 4878544 lines. Lines per second: 155994"
      ]
     },
     "metadata": {},
     "output_type": "display_data"
    },
    {
     "data": {
      "text/html": [
       "<pre>Finished parsing file /Users/adamsoto/Desktop/SMU_Graduate_School/Spring_2017/Quantifying_the_World/Unit_14_Case_Study/Data/1991.csv</pre>"
      ],
      "text/plain": [
       "Finished parsing file /Users/adamsoto/Desktop/SMU_Graduate_School/Spring_2017/Quantifying_the_World/Unit_14_Case_Study/Data/1991.csv"
      ]
     },
     "metadata": {},
     "output_type": "display_data"
    },
    {
     "data": {
      "text/html": [
       "<pre>Parsing completed. Parsed 5076925 lines in 31.7914 secs.</pre>"
      ],
      "text/plain": [
       "Parsing completed. Parsed 5076925 lines in 31.7914 secs."
      ]
     },
     "metadata": {},
     "output_type": "display_data"
    },
    {
     "name": "stdout",
     "output_type": "stream",
     "text": [
      "Read 21902940 lines, Reading next file 1992.csv\n"
     ]
    },
    {
     "data": {
      "text/html": [
       "<pre>Read 544035 lines. Lines per second: 95909.7</pre>"
      ],
      "text/plain": [
       "Read 544035 lines. Lines per second: 95909.7"
      ]
     },
     "metadata": {},
     "output_type": "display_data"
    },
    {
     "data": {
      "text/html": [
       "<pre>Read 1630887 lines. Lines per second: 141501</pre>"
      ],
      "text/plain": [
       "Read 1630887 lines. Lines per second: 141501"
      ]
     },
     "metadata": {},
     "output_type": "display_data"
    },
    {
     "data": {
      "text/html": [
       "<pre>Read 2718958 lines. Lines per second: 156218</pre>"
      ],
      "text/plain": [
       "Read 2718958 lines. Lines per second: 156218"
      ]
     },
     "metadata": {},
     "output_type": "display_data"
    },
    {
     "data": {
      "text/html": [
       "<pre>Read 3806600 lines. Lines per second: 164362</pre>"
      ],
      "text/plain": [
       "Read 3806600 lines. Lines per second: 164362"
      ]
     },
     "metadata": {},
     "output_type": "display_data"
    },
    {
     "data": {
      "text/html": [
       "<pre>Finished parsing file /Users/adamsoto/Desktop/SMU_Graduate_School/Spring_2017/Quantifying_the_World/Unit_14_Case_Study/Data/1992.csv</pre>"
      ],
      "text/plain": [
       "Finished parsing file /Users/adamsoto/Desktop/SMU_Graduate_School/Spring_2017/Quantifying_the_World/Unit_14_Case_Study/Data/1992.csv"
      ]
     },
     "metadata": {},
     "output_type": "display_data"
    },
    {
     "data": {
      "text/html": [
       "<pre>Parsing completed. Parsed 5092157 lines in 28.1739 secs.</pre>"
      ],
      "text/plain": [
       "Parsing completed. Parsed 5092157 lines in 28.1739 secs."
      ]
     },
     "metadata": {},
     "output_type": "display_data"
    },
    {
     "name": "stdout",
     "output_type": "stream",
     "text": [
      "Read 26995097 lines, Reading next file 1993.csv\n"
     ]
    },
    {
     "data": {
      "text/html": [
       "<pre>Read 543425 lines. Lines per second: 93138.9</pre>"
      ],
      "text/plain": [
       "Read 543425 lines. Lines per second: 93138.9"
      ]
     },
     "metadata": {},
     "output_type": "display_data"
    },
    {
     "data": {
      "text/html": [
       "<pre>Read 1629801 lines. Lines per second: 143930</pre>"
      ],
      "text/plain": [
       "Read 1629801 lines. Lines per second: 143930"
      ]
     },
     "metadata": {},
     "output_type": "display_data"
    },
    {
     "data": {
      "text/html": [
       "<pre>Read 2716517 lines. Lines per second: 155700</pre>"
      ],
      "text/plain": [
       "Read 2716517 lines. Lines per second: 155700"
      ]
     },
     "metadata": {},
     "output_type": "display_data"
    },
    {
     "data": {
      "text/html": [
       "<pre>Read 3802121 lines. Lines per second: 160237</pre>"
      ],
      "text/plain": [
       "Read 3802121 lines. Lines per second: 160237"
      ]
     },
     "metadata": {},
     "output_type": "display_data"
    },
    {
     "data": {
      "text/html": [
       "<pre>Read 4877507 lines. Lines per second: 167859</pre>"
      ],
      "text/plain": [
       "Read 4877507 lines. Lines per second: 167859"
      ]
     },
     "metadata": {},
     "output_type": "display_data"
    },
    {
     "data": {
      "text/html": [
       "<pre>Finished parsing file /Users/adamsoto/Desktop/SMU_Graduate_School/Spring_2017/Quantifying_the_World/Unit_14_Case_Study/Data/1993.csv</pre>"
      ],
      "text/plain": [
       "Finished parsing file /Users/adamsoto/Desktop/SMU_Graduate_School/Spring_2017/Quantifying_the_World/Unit_14_Case_Study/Data/1993.csv"
      ]
     },
     "metadata": {},
     "output_type": "display_data"
    },
    {
     "data": {
      "text/html": [
       "<pre>Parsing completed. Parsed 5070501 lines in 29.5811 secs.</pre>"
      ],
      "text/plain": [
       "Parsing completed. Parsed 5070501 lines in 29.5811 secs."
      ]
     },
     "metadata": {},
     "output_type": "display_data"
    },
    {
     "name": "stdout",
     "output_type": "stream",
     "text": [
      "Read 32065598 lines, Reading next file 1994.csv\n"
     ]
    },
    {
     "data": {
      "text/html": [
       "<pre>Read 543673 lines. Lines per second: 91103.8</pre>"
      ],
      "text/plain": [
       "Read 543673 lines. Lines per second: 91103.8"
      ]
     },
     "metadata": {},
     "output_type": "display_data"
    },
    {
     "data": {
      "text/html": [
       "<pre>Read 1628947 lines. Lines per second: 130103</pre>"
      ],
      "text/plain": [
       "Read 1628947 lines. Lines per second: 130103"
      ]
     },
     "metadata": {},
     "output_type": "display_data"
    },
    {
     "data": {
      "text/html": [
       "<pre>Read 2715338 lines. Lines per second: 142468</pre>"
      ],
      "text/plain": [
       "Read 2715338 lines. Lines per second: 142468"
      ]
     },
     "metadata": {},
     "output_type": "display_data"
    },
    {
     "data": {
      "text/html": [
       "<pre>Read 3801247 lines. Lines per second: 147971</pre>"
      ],
      "text/plain": [
       "Read 3801247 lines. Lines per second: 147971"
      ]
     },
     "metadata": {},
     "output_type": "display_data"
    },
    {
     "data": {
      "text/html": [
       "<pre>Read 4876680 lines. Lines per second: 155371</pre>"
      ],
      "text/plain": [
       "Read 4876680 lines. Lines per second: 155371"
      ]
     },
     "metadata": {},
     "output_type": "display_data"
    },
    {
     "data": {
      "text/html": [
       "<pre>Finished parsing file /Users/adamsoto/Desktop/SMU_Graduate_School/Spring_2017/Quantifying_the_World/Unit_14_Case_Study/Data/1994.csv</pre>"
      ],
      "text/plain": [
       "Finished parsing file /Users/adamsoto/Desktop/SMU_Graduate_School/Spring_2017/Quantifying_the_World/Unit_14_Case_Study/Data/1994.csv"
      ]
     },
     "metadata": {},
     "output_type": "display_data"
    },
    {
     "data": {
      "text/html": [
       "<pre>Parsing completed. Parsed 5180048 lines in 32.294 secs.</pre>"
      ],
      "text/plain": [
       "Parsing completed. Parsed 5180048 lines in 32.294 secs."
      ]
     },
     "metadata": {},
     "output_type": "display_data"
    },
    {
     "name": "stdout",
     "output_type": "stream",
     "text": [
      "Read 37245646 lines, Reading next file 1995.csv\n"
     ]
    },
    {
     "data": {
      "text/html": [
       "<pre>Read 527246 lines. Lines per second: 85228.6</pre>"
      ],
      "text/plain": [
       "Read 527246 lines. Lines per second: 85228.6"
      ]
     },
     "metadata": {},
     "output_type": "display_data"
    },
    {
     "data": {
      "text/html": [
       "<pre>Read 1581674 lines. Lines per second: 124843</pre>"
      ],
      "text/plain": [
       "Read 1581674 lines. Lines per second: 124843"
      ]
     },
     "metadata": {},
     "output_type": "display_data"
    },
    {
     "data": {
      "text/html": [
       "<pre>Read 2635922 lines. Lines per second: 137097</pre>"
      ],
      "text/plain": [
       "Read 2635922 lines. Lines per second: 137097"
      ]
     },
     "metadata": {},
     "output_type": "display_data"
    },
    {
     "data": {
      "text/html": [
       "<pre>Read 3692144 lines. Lines per second: 143418</pre>"
      ],
      "text/plain": [
       "Read 3692144 lines. Lines per second: 143418"
      ]
     },
     "metadata": {},
     "output_type": "display_data"
    },
    {
     "data": {
      "text/html": [
       "<pre>Read 4739268 lines. Lines per second: 147298</pre>"
      ],
      "text/plain": [
       "Read 4739268 lines. Lines per second: 147298"
      ]
     },
     "metadata": {},
     "output_type": "display_data"
    },
    {
     "data": {
      "text/html": [
       "<pre>Finished parsing file /Users/adamsoto/Desktop/SMU_Graduate_School/Spring_2017/Quantifying_the_World/Unit_14_Case_Study/Data/1995.csv</pre>"
      ],
      "text/plain": [
       "Finished parsing file /Users/adamsoto/Desktop/SMU_Graduate_School/Spring_2017/Quantifying_the_World/Unit_14_Case_Study/Data/1995.csv"
      ]
     },
     "metadata": {},
     "output_type": "display_data"
    },
    {
     "data": {
      "text/html": [
       "<pre>Parsing completed. Parsed 5327435 lines in 34.2544 secs.</pre>"
      ],
      "text/plain": [
       "Parsing completed. Parsed 5327435 lines in 34.2544 secs."
      ]
     },
     "metadata": {},
     "output_type": "display_data"
    },
    {
     "name": "stdout",
     "output_type": "stream",
     "text": [
      "Read 42573081 lines, Reading next file 1996.csv\n"
     ]
    },
    {
     "data": {
      "text/html": [
       "<pre>Read 530202 lines. Lines per second: 93192.4</pre>"
      ],
      "text/plain": [
       "Read 530202 lines. Lines per second: 93192.4"
      ]
     },
     "metadata": {},
     "output_type": "display_data"
    },
    {
     "data": {
      "text/html": [
       "<pre>Read 1582656 lines. Lines per second: 134392</pre>"
      ],
      "text/plain": [
       "Read 1582656 lines. Lines per second: 134392"
      ]
     },
     "metadata": {},
     "output_type": "display_data"
    },
    {
     "data": {
      "text/html": [
       "<pre>Read 2636325 lines. Lines per second: 146704</pre>"
      ],
      "text/plain": [
       "Read 2636325 lines. Lines per second: 146704"
      ]
     },
     "metadata": {},
     "output_type": "display_data"
    },
    {
     "data": {
      "text/html": [
       "<pre>Read 3689352 lines. Lines per second: 153473</pre>"
      ],
      "text/plain": [
       "Read 3689352 lines. Lines per second: 153473"
      ]
     },
     "metadata": {},
     "output_type": "display_data"
    },
    {
     "data": {
      "text/html": [
       "<pre>Read 4733913 lines. Lines per second: 156741</pre>"
      ],
      "text/plain": [
       "Read 4733913 lines. Lines per second: 156741"
      ]
     },
     "metadata": {},
     "output_type": "display_data"
    },
    {
     "data": {
      "text/html": [
       "<pre>Finished parsing file /Users/adamsoto/Desktop/SMU_Graduate_School/Spring_2017/Quantifying_the_World/Unit_14_Case_Study/Data/1996.csv</pre>"
      ],
      "text/plain": [
       "Finished parsing file /Users/adamsoto/Desktop/SMU_Graduate_School/Spring_2017/Quantifying_the_World/Unit_14_Case_Study/Data/1996.csv"
      ]
     },
     "metadata": {},
     "output_type": "display_data"
    },
    {
     "data": {
      "text/html": [
       "<pre>Parsing completed. Parsed 5351983 lines in 32.5205 secs.</pre>"
      ],
      "text/plain": [
       "Parsing completed. Parsed 5351983 lines in 32.5205 secs."
      ]
     },
     "metadata": {},
     "output_type": "display_data"
    },
    {
     "name": "stdout",
     "output_type": "stream",
     "text": [
      "Read 47925064 lines, Reading next file 1997.csv\n"
     ]
    },
    {
     "data": {
      "text/html": [
       "<pre>Read 529207 lines. Lines per second: 95064.3</pre>"
      ],
      "text/plain": [
       "Read 529207 lines. Lines per second: 95064.3"
      ]
     },
     "metadata": {},
     "output_type": "display_data"
    },
    {
     "data": {
      "text/html": [
       "<pre>Read 1580674 lines. Lines per second: 135776</pre>"
      ],
      "text/plain": [
       "Read 1580674 lines. Lines per second: 135776"
      ]
     },
     "metadata": {},
     "output_type": "display_data"
    },
    {
     "data": {
      "text/html": [
       "<pre>Read 2632920 lines. Lines per second: 144492</pre>"
      ],
      "text/plain": [
       "Read 2632920 lines. Lines per second: 144492"
      ]
     },
     "metadata": {},
     "output_type": "display_data"
    },
    {
     "data": {
      "text/html": [
       "<pre>Read 3684987 lines. Lines per second: 151284</pre>"
      ],
      "text/plain": [
       "Read 3684987 lines. Lines per second: 151284"
      ]
     },
     "metadata": {},
     "output_type": "display_data"
    },
    {
     "data": {
      "text/html": [
       "<pre>Read 4729684 lines. Lines per second: 149739</pre>"
      ],
      "text/plain": [
       "Read 4729684 lines. Lines per second: 149739"
      ]
     },
     "metadata": {},
     "output_type": "display_data"
    },
    {
     "data": {
      "text/html": [
       "<pre>Finished parsing file /Users/adamsoto/Desktop/SMU_Graduate_School/Spring_2017/Quantifying_the_World/Unit_14_Case_Study/Data/1997.csv</pre>"
      ],
      "text/plain": [
       "Finished parsing file /Users/adamsoto/Desktop/SMU_Graduate_School/Spring_2017/Quantifying_the_World/Unit_14_Case_Study/Data/1997.csv"
      ]
     },
     "metadata": {},
     "output_type": "display_data"
    },
    {
     "data": {
      "text/html": [
       "<pre>Parsing completed. Parsed 5411843 lines in 34.2324 secs.</pre>"
      ],
      "text/plain": [
       "Parsing completed. Parsed 5411843 lines in 34.2324 secs."
      ]
     },
     "metadata": {},
     "output_type": "display_data"
    },
    {
     "name": "stdout",
     "output_type": "stream",
     "text": [
      "Read 53336907 lines, Reading next file 1998.csv\n"
     ]
    },
    {
     "data": {
      "text/html": [
       "<pre>Read 528414 lines. Lines per second: 94672.6</pre>"
      ],
      "text/plain": [
       "Read 528414 lines. Lines per second: 94672.6"
      ]
     },
     "metadata": {},
     "output_type": "display_data"
    },
    {
     "data": {
      "text/html": [
       "<pre>Read 1578601 lines. Lines per second: 134359</pre>"
      ],
      "text/plain": [
       "Read 1578601 lines. Lines per second: 134359"
      ]
     },
     "metadata": {},
     "output_type": "display_data"
    },
    {
     "data": {
      "text/html": [
       "<pre>Read 2629594 lines. Lines per second: 145810</pre>"
      ],
      "text/plain": [
       "Read 2629594 lines. Lines per second: 145810"
      ]
     },
     "metadata": {},
     "output_type": "display_data"
    },
    {
     "data": {
      "text/html": [
       "<pre>Read 3680636 lines. Lines per second: 150883</pre>"
      ],
      "text/plain": [
       "Read 3680636 lines. Lines per second: 150883"
      ]
     },
     "metadata": {},
     "output_type": "display_data"
    },
    {
     "data": {
      "text/html": [
       "<pre>Read 4724179 lines. Lines per second: 154342</pre>"
      ],
      "text/plain": [
       "Read 4724179 lines. Lines per second: 154342"
      ]
     },
     "metadata": {},
     "output_type": "display_data"
    },
    {
     "data": {
      "text/html": [
       "<pre>Finished parsing file /Users/adamsoto/Desktop/SMU_Graduate_School/Spring_2017/Quantifying_the_World/Unit_14_Case_Study/Data/1998.csv</pre>"
      ],
      "text/plain": [
       "Finished parsing file /Users/adamsoto/Desktop/SMU_Graduate_School/Spring_2017/Quantifying_the_World/Unit_14_Case_Study/Data/1998.csv"
      ]
     },
     "metadata": {},
     "output_type": "display_data"
    },
    {
     "data": {
      "text/html": [
       "<pre>Parsing completed. Parsed 5384721 lines in 33.1917 secs.</pre>"
      ],
      "text/plain": [
       "Parsing completed. Parsed 5384721 lines in 33.1917 secs."
      ]
     },
     "metadata": {},
     "output_type": "display_data"
    },
    {
     "name": "stdout",
     "output_type": "stream",
     "text": [
      "Read 58721628 lines, Reading next file 1999.csv\n"
     ]
    },
    {
     "data": {
      "text/html": [
       "<pre>Read 524911 lines. Lines per second: 90091.3</pre>"
      ],
      "text/plain": [
       "Read 524911 lines. Lines per second: 90091.3"
      ]
     },
     "metadata": {},
     "output_type": "display_data"
    },
    {
     "data": {
      "text/html": [
       "<pre>Read 1577278 lines. Lines per second: 129896</pre>"
      ],
      "text/plain": [
       "Read 1577278 lines. Lines per second: 129896"
      ]
     },
     "metadata": {},
     "output_type": "display_data"
    },
    {
     "data": {
      "text/html": [
       "<pre>Read 2627946 lines. Lines per second: 141256</pre>"
      ],
      "text/plain": [
       "Read 2627946 lines. Lines per second: 141256"
      ]
     },
     "metadata": {},
     "output_type": "display_data"
    },
    {
     "data": {
      "text/html": [
       "<pre>Read 3677577 lines. Lines per second: 146936</pre>"
      ],
      "text/plain": [
       "Read 3677577 lines. Lines per second: 146936"
      ]
     },
     "metadata": {},
     "output_type": "display_data"
    },
    {
     "data": {
      "text/html": [
       "<pre>Read 4723791 lines. Lines per second: 149848</pre>"
      ],
      "text/plain": [
       "Read 4723791 lines. Lines per second: 149848"
      ]
     },
     "metadata": {},
     "output_type": "display_data"
    },
    {
     "data": {
      "text/html": [
       "<pre>Finished parsing file /Users/adamsoto/Desktop/SMU_Graduate_School/Spring_2017/Quantifying_the_World/Unit_14_Case_Study/Data/1999.csv</pre>"
      ],
      "text/plain": [
       "Finished parsing file /Users/adamsoto/Desktop/SMU_Graduate_School/Spring_2017/Quantifying_the_World/Unit_14_Case_Study/Data/1999.csv"
      ]
     },
     "metadata": {},
     "output_type": "display_data"
    },
    {
     "data": {
      "text/html": [
       "<pre>Parsing completed. Parsed 5527884 lines in 34.9173 secs.</pre>"
      ],
      "text/plain": [
       "Parsing completed. Parsed 5527884 lines in 34.9173 secs."
      ]
     },
     "metadata": {},
     "output_type": "display_data"
    },
    {
     "name": "stdout",
     "output_type": "stream",
     "text": [
      "Read 64249512 lines, Reading next file 2000.csv\n"
     ]
    },
    {
     "data": {
      "text/html": [
       "<pre>Read 524495 lines. Lines per second: 91041.8</pre>"
      ],
      "text/plain": [
       "Read 524495 lines. Lines per second: 91041.8"
      ]
     },
     "metadata": {},
     "output_type": "display_data"
    },
    {
     "data": {
      "text/html": [
       "<pre>Read 1572350 lines. Lines per second: 129513</pre>"
      ],
      "text/plain": [
       "Read 1572350 lines. Lines per second: 129513"
      ]
     },
     "metadata": {},
     "output_type": "display_data"
    },
    {
     "data": {
      "text/html": [
       "<pre>Read 2619994 lines. Lines per second: 141642</pre>"
      ],
      "text/plain": [
       "Read 2619994 lines. Lines per second: 141642"
      ]
     },
     "metadata": {},
     "output_type": "display_data"
    },
    {
     "data": {
      "text/html": [
       "<pre>Read 3667722 lines. Lines per second: 147668</pre>"
      ],
      "text/plain": [
       "Read 3667722 lines. Lines per second: 147668"
      ]
     },
     "metadata": {},
     "output_type": "display_data"
    },
    {
     "data": {
      "text/html": [
       "<pre>Read 4710482 lines. Lines per second: 151303</pre>"
      ],
      "text/plain": [
       "Read 4710482 lines. Lines per second: 151303"
      ]
     },
     "metadata": {},
     "output_type": "display_data"
    },
    {
     "data": {
      "text/html": [
       "<pre>Finished parsing file /Users/adamsoto/Desktop/SMU_Graduate_School/Spring_2017/Quantifying_the_World/Unit_14_Case_Study/Data/2000.csv</pre>"
      ],
      "text/plain": [
       "Finished parsing file /Users/adamsoto/Desktop/SMU_Graduate_School/Spring_2017/Quantifying_the_World/Unit_14_Case_Study/Data/2000.csv"
      ]
     },
     "metadata": {},
     "output_type": "display_data"
    },
    {
     "data": {
      "text/html": [
       "<pre>Parsing completed. Parsed 5683047 lines in 35.6571 secs.</pre>"
      ],
      "text/plain": [
       "Parsing completed. Parsed 5683047 lines in 35.6571 secs."
      ]
     },
     "metadata": {},
     "output_type": "display_data"
    },
    {
     "name": "stdout",
     "output_type": "stream",
     "text": [
      "Read 69932559 lines, Reading next file 2001.csv\n"
     ]
    },
    {
     "data": {
      "text/html": [
       "<pre>Read 522034 lines. Lines per second: 89411.7</pre>"
      ],
      "text/plain": [
       "Read 522034 lines. Lines per second: 89411.7"
      ]
     },
     "metadata": {},
     "output_type": "display_data"
    },
    {
     "data": {
      "text/html": [
       "<pre>Read 1566611 lines. Lines per second: 129013</pre>"
      ],
      "text/plain": [
       "Read 1566611 lines. Lines per second: 129013"
      ]
     },
     "metadata": {},
     "output_type": "display_data"
    },
    {
     "data": {
      "text/html": [
       "<pre>Read 2610142 lines. Lines per second: 141374</pre>"
      ],
      "text/plain": [
       "Read 2610142 lines. Lines per second: 141374"
      ]
     },
     "metadata": {},
     "output_type": "display_data"
    },
    {
     "data": {
      "text/html": [
       "<pre>Read 3653937 lines. Lines per second: 147088</pre>"
      ],
      "text/plain": [
       "Read 3653937 lines. Lines per second: 147088"
      ]
     },
     "metadata": {},
     "output_type": "display_data"
    },
    {
     "data": {
      "text/html": [
       "<pre>Read 4701550 lines. Lines per second: 149773</pre>"
      ],
      "text/plain": [
       "Read 4701550 lines. Lines per second: 149773"
      ]
     },
     "metadata": {},
     "output_type": "display_data"
    },
    {
     "data": {
      "text/html": [
       "<pre>Read 5735547 lines. Lines per second: 155008</pre>"
      ],
      "text/plain": [
       "Read 5735547 lines. Lines per second: 155008"
      ]
     },
     "metadata": {},
     "output_type": "display_data"
    },
    {
     "data": {
      "text/html": [
       "<pre>Finished parsing file /Users/adamsoto/Desktop/SMU_Graduate_School/Spring_2017/Quantifying_the_World/Unit_14_Case_Study/Data/2001.csv</pre>"
      ],
      "text/plain": [
       "Finished parsing file /Users/adamsoto/Desktop/SMU_Graduate_School/Spring_2017/Quantifying_the_World/Unit_14_Case_Study/Data/2001.csv"
      ]
     },
     "metadata": {},
     "output_type": "display_data"
    },
    {
     "data": {
      "text/html": [
       "<pre>Parsing completed. Parsed 5967780 lines in 37.7762 secs.</pre>"
      ],
      "text/plain": [
       "Parsing completed. Parsed 5967780 lines in 37.7762 secs."
      ]
     },
     "metadata": {},
     "output_type": "display_data"
    },
    {
     "name": "stdout",
     "output_type": "stream",
     "text": [
      "Read 75900339 lines, Reading next file 2002.csv\n"
     ]
    },
    {
     "data": {
      "text/html": [
       "<pre>Read 522215 lines. Lines per second: 88593.6</pre>"
      ],
      "text/plain": [
       "Read 522215 lines. Lines per second: 88593.6"
      ]
     },
     "metadata": {},
     "output_type": "display_data"
    },
    {
     "data": {
      "text/html": [
       "<pre>Read 1567021 lines. Lines per second: 126997</pre>"
      ],
      "text/plain": [
       "Read 1567021 lines. Lines per second: 126997"
      ]
     },
     "metadata": {},
     "output_type": "display_data"
    },
    {
     "data": {
      "text/html": [
       "<pre>Read 2611081 lines. Lines per second: 138268</pre>"
      ],
      "text/plain": [
       "Read 2611081 lines. Lines per second: 138268"
      ]
     },
     "metadata": {},
     "output_type": "display_data"
    },
    {
     "data": {
      "text/html": [
       "<pre>Read 3658416 lines. Lines per second: 143691</pre>"
      ],
      "text/plain": [
       "Read 3658416 lines. Lines per second: 143691"
      ]
     },
     "metadata": {},
     "output_type": "display_data"
    },
    {
     "data": {
      "text/html": [
       "<pre>Read 4694299 lines. Lines per second: 146903</pre>"
      ],
      "text/plain": [
       "Read 4694299 lines. Lines per second: 146903"
      ]
     },
     "metadata": {},
     "output_type": "display_data"
    },
    {
     "data": {
      "text/html": [
       "<pre>Finished parsing file /Users/adamsoto/Desktop/SMU_Graduate_School/Spring_2017/Quantifying_the_World/Unit_14_Case_Study/Data/2002.csv</pre>"
      ],
      "text/plain": [
       "Finished parsing file /Users/adamsoto/Desktop/SMU_Graduate_School/Spring_2017/Quantifying_the_World/Unit_14_Case_Study/Data/2002.csv"
      ]
     },
     "metadata": {},
     "output_type": "display_data"
    },
    {
     "data": {
      "text/html": [
       "<pre>Parsing completed. Parsed 5271359 lines in 34.0804 secs.</pre>"
      ],
      "text/plain": [
       "Parsing completed. Parsed 5271359 lines in 34.0804 secs."
      ]
     },
     "metadata": {},
     "output_type": "display_data"
    },
    {
     "name": "stdout",
     "output_type": "stream",
     "text": [
      "Read 81171698 lines, Reading next file 2003.csv\n"
     ]
    },
    {
     "data": {
      "text/html": [
       "<pre>Read 522593 lines. Lines per second: 84102.9</pre>"
      ],
      "text/plain": [
       "Read 522593 lines. Lines per second: 84102.9"
      ]
     },
     "metadata": {},
     "output_type": "display_data"
    },
    {
     "data": {
      "text/html": [
       "<pre>Read 1569044 lines. Lines per second: 109738</pre>"
      ],
      "text/plain": [
       "Read 1569044 lines. Lines per second: 109738"
      ]
     },
     "metadata": {},
     "output_type": "display_data"
    },
    {
     "data": {
      "text/html": [
       "<pre>Read 2614044 lines. Lines per second: 119171</pre>"
      ],
      "text/plain": [
       "Read 2614044 lines. Lines per second: 119171"
      ]
     },
     "metadata": {},
     "output_type": "display_data"
    },
    {
     "data": {
      "text/html": [
       "<pre>Read 3730099 lines. Lines per second: 123448</pre>"
      ],
      "text/plain": [
       "Read 3730099 lines. Lines per second: 123448"
      ]
     },
     "metadata": {},
     "output_type": "display_data"
    },
    {
     "data": {
      "text/html": [
       "<pre>Read 4850736 lines. Lines per second: 126264</pre>"
      ],
      "text/plain": [
       "Read 4850736 lines. Lines per second: 126264"
      ]
     },
     "metadata": {},
     "output_type": "display_data"
    },
    {
     "data": {
      "text/html": [
       "<pre>Read 5959346 lines. Lines per second: 127019</pre>"
      ],
      "text/plain": [
       "Read 5959346 lines. Lines per second: 127019"
      ]
     },
     "metadata": {},
     "output_type": "display_data"
    },
    {
     "data": {
      "text/html": [
       "<pre>Finished parsing file /Users/adamsoto/Desktop/SMU_Graduate_School/Spring_2017/Quantifying_the_World/Unit_14_Case_Study/Data/2003.csv</pre>"
      ],
      "text/plain": [
       "Finished parsing file /Users/adamsoto/Desktop/SMU_Graduate_School/Spring_2017/Quantifying_the_World/Unit_14_Case_Study/Data/2003.csv"
      ]
     },
     "metadata": {},
     "output_type": "display_data"
    },
    {
     "data": {
      "text/html": [
       "<pre>Parsing completed. Parsed 6488540 lines in 49.0295 secs.</pre>"
      ],
      "text/plain": [
       "Parsing completed. Parsed 6488540 lines in 49.0295 secs."
      ]
     },
     "metadata": {},
     "output_type": "display_data"
    },
    {
     "name": "stdout",
     "output_type": "stream",
     "text": [
      "Read 87660238 lines, Reading next file 2004.csv\n"
     ]
    },
    {
     "data": {
      "text/html": [
       "<pre>Read 560245 lines. Lines per second: 69515.2</pre>"
      ],
      "text/plain": [
       "Read 560245 lines. Lines per second: 69515.2"
      ]
     },
     "metadata": {},
     "output_type": "display_data"
    },
    {
     "data": {
      "text/html": [
       "<pre>Read 1679461 lines. Lines per second: 97180</pre>"
      ],
      "text/plain": [
       "Read 1679461 lines. Lines per second: 97180"
      ]
     },
     "metadata": {},
     "output_type": "display_data"
    },
    {
     "data": {
      "text/html": [
       "<pre>Read 2238808 lines. Lines per second: 100562</pre>"
      ],
      "text/plain": [
       "Read 2238808 lines. Lines per second: 100562"
      ]
     },
     "metadata": {},
     "output_type": "display_data"
    },
    {
     "data": {
      "text/html": [
       "<pre>Read 3357994 lines. Lines per second: 106753</pre>"
      ],
      "text/plain": [
       "Read 3357994 lines. Lines per second: 106753"
      ]
     },
     "metadata": {},
     "output_type": "display_data"
    },
    {
     "data": {
      "text/html": [
       "<pre>Read 4476341 lines. Lines per second: 110570</pre>"
      ],
      "text/plain": [
       "Read 4476341 lines. Lines per second: 110570"
      ]
     },
     "metadata": {},
     "output_type": "display_data"
    },
    {
     "data": {
      "text/html": [
       "<pre>Read 5594351 lines. Lines per second: 113590</pre>"
      ],
      "text/plain": [
       "Read 5594351 lines. Lines per second: 113590"
      ]
     },
     "metadata": {},
     "output_type": "display_data"
    },
    {
     "data": {
      "text/html": [
       "<pre>Read 6701037 lines. Lines per second: 117983</pre>"
      ],
      "text/plain": [
       "Read 6701037 lines. Lines per second: 117983"
      ]
     },
     "metadata": {},
     "output_type": "display_data"
    },
    {
     "data": {
      "text/html": [
       "<pre>Finished parsing file /Users/adamsoto/Desktop/SMU_Graduate_School/Spring_2017/Quantifying_the_World/Unit_14_Case_Study/Data/2004.csv</pre>"
      ],
      "text/plain": [
       "Finished parsing file /Users/adamsoto/Desktop/SMU_Graduate_School/Spring_2017/Quantifying_the_World/Unit_14_Case_Study/Data/2004.csv"
      ]
     },
     "metadata": {},
     "output_type": "display_data"
    },
    {
     "data": {
      "text/html": [
       "<pre>Parsing completed. Parsed 7129270 lines in 58.493 secs.</pre>"
      ],
      "text/plain": [
       "Parsing completed. Parsed 7129270 lines in 58.493 secs."
      ]
     },
     "metadata": {},
     "output_type": "display_data"
    },
    {
     "name": "stdout",
     "output_type": "stream",
     "text": [
      "Read 94789508 lines, Reading next file 2005.csv\n"
     ]
    },
    {
     "data": {
      "text/html": [
       "<pre>Read 560141 lines. Lines per second: 82469.1</pre>"
      ],
      "text/plain": [
       "Read 560141 lines. Lines per second: 82469.1"
      ]
     },
     "metadata": {},
     "output_type": "display_data"
    },
    {
     "data": {
      "text/html": [
       "<pre>Read 1679210 lines. Lines per second: 117930</pre>"
      ],
      "text/plain": [
       "Read 1679210 lines. Lines per second: 117930"
      ]
     },
     "metadata": {},
     "output_type": "display_data"
    },
    {
     "data": {
      "text/html": [
       "<pre>Read 2799668 lines. Lines per second: 127399</pre>"
      ],
      "text/plain": [
       "Read 2799668 lines. Lines per second: 127399"
      ]
     },
     "metadata": {},
     "output_type": "display_data"
    },
    {
     "data": {
      "text/html": [
       "<pre>Read 3917795 lines. Lines per second: 132047</pre>"
      ],
      "text/plain": [
       "Read 3917795 lines. Lines per second: 132047"
      ]
     },
     "metadata": {},
     "output_type": "display_data"
    },
    {
     "data": {
      "text/html": [
       "<pre>Read 5036386 lines. Lines per second: 135006</pre>"
      ],
      "text/plain": [
       "Read 5036386 lines. Lines per second: 135006"
      ]
     },
     "metadata": {},
     "output_type": "display_data"
    },
    {
     "data": {
      "text/html": [
       "<pre>Read 6147858 lines. Lines per second: 136526</pre>"
      ],
      "text/plain": [
       "Read 6147858 lines. Lines per second: 136526"
      ]
     },
     "metadata": {},
     "output_type": "display_data"
    },
    {
     "data": {
      "text/html": [
       "<pre>Finished parsing file /Users/adamsoto/Desktop/SMU_Graduate_School/Spring_2017/Quantifying_the_World/Unit_14_Case_Study/Data/2005.csv</pre>"
      ],
      "text/plain": [
       "Finished parsing file /Users/adamsoto/Desktop/SMU_Graduate_School/Spring_2017/Quantifying_the_World/Unit_14_Case_Study/Data/2005.csv"
      ]
     },
     "metadata": {},
     "output_type": "display_data"
    },
    {
     "data": {
      "text/html": [
       "<pre>Parsing completed. Parsed 7140596 lines in 50.1185 secs.</pre>"
      ],
      "text/plain": [
       "Parsing completed. Parsed 7140596 lines in 50.1185 secs."
      ]
     },
     "metadata": {},
     "output_type": "display_data"
    },
    {
     "name": "stdout",
     "output_type": "stream",
     "text": [
      "Read 101930104 lines, Reading next file 2006.csv\n"
     ]
    },
    {
     "data": {
      "text/html": [
       "<pre>Read 558959 lines. Lines per second: 79076.4</pre>"
      ],
      "text/plain": [
       "Read 558959 lines. Lines per second: 79076.4"
      ]
     },
     "metadata": {},
     "output_type": "display_data"
    },
    {
     "data": {
      "text/html": [
       "<pre>Read 1676459 lines. Lines per second: 112538</pre>"
      ],
      "text/plain": [
       "Read 1676459 lines. Lines per second: 112538"
      ]
     },
     "metadata": {},
     "output_type": "display_data"
    },
    {
     "data": {
      "text/html": [
       "<pre>Read 2795140 lines. Lines per second: 120503</pre>"
      ],
      "text/plain": [
       "Read 2795140 lines. Lines per second: 120503"
      ]
     },
     "metadata": {},
     "output_type": "display_data"
    },
    {
     "data": {
      "text/html": [
       "<pre>Read 3913588 lines. Lines per second: 125313</pre>"
      ],
      "text/plain": [
       "Read 3913588 lines. Lines per second: 125313"
      ]
     },
     "metadata": {},
     "output_type": "display_data"
    },
    {
     "data": {
      "text/html": [
       "<pre>Read 5030405 lines. Lines per second: 128610</pre>"
      ],
      "text/plain": [
       "Read 5030405 lines. Lines per second: 128610"
      ]
     },
     "metadata": {},
     "output_type": "display_data"
    },
    {
     "data": {
      "text/html": [
       "<pre>Read 6138994 lines. Lines per second: 130426</pre>"
      ],
      "text/plain": [
       "Read 6138994 lines. Lines per second: 130426"
      ]
     },
     "metadata": {},
     "output_type": "display_data"
    },
    {
     "data": {
      "text/html": [
       "<pre>Finished parsing file /Users/adamsoto/Desktop/SMU_Graduate_School/Spring_2017/Quantifying_the_World/Unit_14_Case_Study/Data/2006.csv</pre>"
      ],
      "text/plain": [
       "Finished parsing file /Users/adamsoto/Desktop/SMU_Graduate_School/Spring_2017/Quantifying_the_World/Unit_14_Case_Study/Data/2006.csv"
      ]
     },
     "metadata": {},
     "output_type": "display_data"
    },
    {
     "data": {
      "text/html": [
       "<pre>Parsing completed. Parsed 7141922 lines in 52.5899 secs.</pre>"
      ],
      "text/plain": [
       "Parsing completed. Parsed 7141922 lines in 52.5899 secs."
      ]
     },
     "metadata": {},
     "output_type": "display_data"
    },
    {
     "name": "stdout",
     "output_type": "stream",
     "text": [
      "Read 109072026 lines, Reading next file 2007.csv\n"
     ]
    },
    {
     "data": {
      "text/html": [
       "<pre>Read 559204 lines. Lines per second: 80192.2</pre>"
      ],
      "text/plain": [
       "Read 559204 lines. Lines per second: 80192.2"
      ]
     },
     "metadata": {},
     "output_type": "display_data"
    },
    {
     "data": {
      "text/html": [
       "<pre>Read 1675707 lines. Lines per second: 113277</pre>"
      ],
      "text/plain": [
       "Read 1675707 lines. Lines per second: 113277"
      ]
     },
     "metadata": {},
     "output_type": "display_data"
    },
    {
     "data": {
      "text/html": [
       "<pre>Read 2790681 lines. Lines per second: 123008</pre>"
      ],
      "text/plain": [
       "Read 2790681 lines. Lines per second: 123008"
      ]
     },
     "metadata": {},
     "output_type": "display_data"
    },
    {
     "data": {
      "text/html": [
       "<pre>Read 3905970 lines. Lines per second: 127541</pre>"
      ],
      "text/plain": [
       "Read 3905970 lines. Lines per second: 127541"
      ]
     },
     "metadata": {},
     "output_type": "display_data"
    },
    {
     "data": {
      "text/html": [
       "<pre>Read 5019063 lines. Lines per second: 129918</pre>"
      ],
      "text/plain": [
       "Read 5019063 lines. Lines per second: 129918"
      ]
     },
     "metadata": {},
     "output_type": "display_data"
    },
    {
     "data": {
      "text/html": [
       "<pre>Read 6128354 lines. Lines per second: 131806</pre>"
      ],
      "text/plain": [
       "Read 6128354 lines. Lines per second: 131806"
      ]
     },
     "metadata": {},
     "output_type": "display_data"
    },
    {
     "data": {
      "text/html": [
       "<pre>Read 7230606 lines. Lines per second: 134810</pre>"
      ],
      "text/plain": [
       "Read 7230606 lines. Lines per second: 134810"
      ]
     },
     "metadata": {},
     "output_type": "display_data"
    },
    {
     "data": {
      "text/html": [
       "<pre>Finished parsing file /Users/adamsoto/Desktop/SMU_Graduate_School/Spring_2017/Quantifying_the_World/Unit_14_Case_Study/Data/2007.csv</pre>"
      ],
      "text/plain": [
       "Finished parsing file /Users/adamsoto/Desktop/SMU_Graduate_School/Spring_2017/Quantifying_the_World/Unit_14_Case_Study/Data/2007.csv"
      ]
     },
     "metadata": {},
     "output_type": "display_data"
    },
    {
     "data": {
      "text/html": [
       "<pre>Parsing completed. Parsed 7453215 lines in 54.5104 secs.</pre>"
      ],
      "text/plain": [
       "Parsing completed. Parsed 7453215 lines in 54.5104 secs."
      ]
     },
     "metadata": {},
     "output_type": "display_data"
    },
    {
     "name": "stdout",
     "output_type": "stream",
     "text": [
      "Read 116525241 lines, Reading next file 2008.csv\n"
     ]
    },
    {
     "data": {
      "text/html": [
       "<pre>Read 535634 lines. Lines per second: 79924</pre>"
      ],
      "text/plain": [
       "Read 535634 lines. Lines per second: 79924"
      ]
     },
     "metadata": {},
     "output_type": "display_data"
    },
    {
     "data": {
      "text/html": [
       "<pre>Read 1607533 lines. Lines per second: 112731</pre>"
      ],
      "text/plain": [
       "Read 1607533 lines. Lines per second: 112731"
      ]
     },
     "metadata": {},
     "output_type": "display_data"
    },
    {
     "data": {
      "text/html": [
       "<pre>Read 2676274 lines. Lines per second: 121663</pre>"
      ],
      "text/plain": [
       "Read 2676274 lines. Lines per second: 121663"
      ]
     },
     "metadata": {},
     "output_type": "display_data"
    },
    {
     "data": {
      "text/html": [
       "<pre>Read 3746137 lines. Lines per second: 124746</pre>"
      ],
      "text/plain": [
       "Read 3746137 lines. Lines per second: 124746"
      ]
     },
     "metadata": {},
     "output_type": "display_data"
    },
    {
     "data": {
      "text/html": [
       "<pre>Read 4813868 lines. Lines per second: 126829</pre>"
      ],
      "text/plain": [
       "Read 4813868 lines. Lines per second: 126829"
      ]
     },
     "metadata": {},
     "output_type": "display_data"
    },
    {
     "data": {
      "text/html": [
       "<pre>Read 5874437 lines. Lines per second: 128715</pre>"
      ],
      "text/plain": [
       "Read 5874437 lines. Lines per second: 128715"
      ]
     },
     "metadata": {},
     "output_type": "display_data"
    },
    {
     "data": {
      "text/html": [
       "<pre>Read 6931041 lines. Lines per second: 132776</pre>"
      ],
      "text/plain": [
       "Read 6931041 lines. Lines per second: 132776"
      ]
     },
     "metadata": {},
     "output_type": "display_data"
    },
    {
     "data": {
      "text/html": [
       "<pre>Finished parsing file /Users/adamsoto/Desktop/SMU_Graduate_School/Spring_2017/Quantifying_the_World/Unit_14_Case_Study/Data/2008.csv</pre>"
      ],
      "text/plain": [
       "Finished parsing file /Users/adamsoto/Desktop/SMU_Graduate_School/Spring_2017/Quantifying_the_World/Unit_14_Case_Study/Data/2008.csv"
      ]
     },
     "metadata": {},
     "output_type": "display_data"
    },
    {
     "data": {
      "text/html": [
       "<pre>Parsing completed. Parsed 7009728 lines in 52.5704 secs.</pre>"
      ],
      "text/plain": [
       "Parsing completed. Parsed 7009728 lines in 52.5704 secs."
      ]
     },
     "metadata": {},
     "output_type": "display_data"
    },
    {
     "name": "stdout",
     "output_type": "stream",
     "text": [
      "It took 843.86 seconds to concatenate the memory mapped file\n",
      "Saving... took 99.27 seconds Shape of the SFrame is (123534969, 29)\n"
     ]
    }
   ],
   "source": [
    "import os, sys\n",
    "import time\n",
    "\n",
    "#del sf\n",
    "\n",
    "column_hints = [int,int,int,int,int,int,int,int,str,int,str,int,int,int,int,int,str,str,int,int,int,int,str,int,int,int,int,int,int]\n",
    "\n",
    "t = time.time()\n",
    "sf = gl.SFrame()\n",
    "\n",
    "for year in range(1987, 2009):\n",
    "    print 'Read %d lines, Reading next file %d.csv'%(sf.shape[0], year)\n",
    "    sys.stdout.flush()\n",
    "    sftmp = gl.SFrame.read_csv('Data/%d.csv'%(year), column_type_hints=column_hints)\n",
    "    sf = sf.append(sftmp)\n",
    "    \n",
    "print 'It took %.2f seconds to concatenate the memory mapped file'%(time.time()-t)\n",
    "\n",
    "t = time.time()\n",
    "print 'Saving...',\n",
    "sf.save('Data/sframe_directory')\n",
    "print 'took %.2f seconds'%(time.time()-t), 'Shape of the SFrame is', sf.shape"
   ]
  },
  {
   "cell_type": "code",
   "execution_count": 7,
   "metadata": {
    "collapsed": false
   },
   "outputs": [],
   "source": [
    "sf = gl.load_sframe('Data/sframe_Directory')"
   ]
  },
  {
   "cell_type": "markdown",
   "metadata": {},
   "source": [
    "## RESULTS"
   ]
  },
  {
   "cell_type": "markdown",
   "metadata": {
    "collapsed": true
   },
   "source": [
    "### Question 1.1: Origin/Departure Delay"
   ]
  },
  {
   "cell_type": "markdown",
   "metadata": {},
   "source": [
    "For this first question the data will show which airport is most likely is going to be delayed flying out of or into. Again, we are first loading the data. We're performing this analysis for Arrival Delays and Departure Delays separately. First, we begin with Departure Delay. We are first making our data frame smaller by selecting on the rows with a Departure Delay greater than zero. Next, we are doing a group by based on Origin and getting the Average Departure Delay for each. The maximum delay is also given along with the count of flights. The table below shows a preview of the data after the group by function."
   ]
  },
  {
   "cell_type": "code",
   "execution_count": 40,
   "metadata": {
    "collapsed": false
   },
   "outputs": [],
   "source": [
    "import graphlab as gl"
   ]
  },
  {
   "cell_type": "code",
   "execution_count": 41,
   "metadata": {
    "collapsed": false
   },
   "outputs": [],
   "source": [
    "sf = gl.load_sframe('Data/sframe_Directory')"
   ]
  },
  {
   "cell_type": "code",
   "execution_count": 42,
   "metadata": {
    "collapsed": false
   },
   "outputs": [
    {
     "name": "stdout",
     "output_type": "stream",
     "text": [
      "CPU times: user 18min 58s, sys: 59.7 s, total: 19min 58s\n",
      "Wall time: 24min 50s\n"
     ]
    },
    {
     "data": {
      "text/html": [
       "<div style=\"max-height:1000px;max-width:1500px;overflow:auto;\"><table frame=\"box\" rules=\"cols\">\n",
       "    <tr>\n",
       "        <th style=\"padding-left: 1em; padding-right: 1em; text-align: center\">Origin</th>\n",
       "        <th style=\"padding-left: 1em; padding-right: 1em; text-align: center\">delay_max</th>\n",
       "        <th style=\"padding-left: 1em; padding-right: 1em; text-align: center\">num_flights</th>\n",
       "        <th style=\"padding-left: 1em; padding-right: 1em; text-align: center\">Avg_DepDelay</th>\n",
       "    </tr>\n",
       "    <tr>\n",
       "        <td style=\"padding-left: 1em; padding-right: 1em; text-align: center; vertical-align: top\">FMN</td>\n",
       "        <td style=\"padding-left: 1em; padding-right: 1em; text-align: center; vertical-align: top\">249</td>\n",
       "        <td style=\"padding-left: 1em; padding-right: 1em; text-align: center; vertical-align: top\">3</td>\n",
       "        <td style=\"padding-left: 1em; padding-right: 1em; text-align: center; vertical-align: top\">203.666666667</td>\n",
       "    </tr>\n",
       "    <tr>\n",
       "        <td style=\"padding-left: 1em; padding-right: 1em; text-align: center; vertical-align: top\">OGD</td>\n",
       "        <td style=\"padding-left: 1em; padding-right: 1em; text-align: center; vertical-align: top\">272</td>\n",
       "        <td style=\"padding-left: 1em; padding-right: 1em; text-align: center; vertical-align: top\">5</td>\n",
       "        <td style=\"padding-left: 1em; padding-right: 1em; text-align: center; vertical-align: top\">172.4</td>\n",
       "    </tr>\n",
       "    <tr>\n",
       "        <td style=\"padding-left: 1em; padding-right: 1em; text-align: center; vertical-align: top\">CYS</td>\n",
       "        <td style=\"padding-left: 1em; padding-right: 1em; text-align: center; vertical-align: top\">185</td>\n",
       "        <td style=\"padding-left: 1em; padding-right: 1em; text-align: center; vertical-align: top\">2</td>\n",
       "        <td style=\"padding-left: 1em; padding-right: 1em; text-align: center; vertical-align: top\">145.0</td>\n",
       "    </tr>\n",
       "    <tr>\n",
       "        <td style=\"padding-left: 1em; padding-right: 1em; text-align: center; vertical-align: top\">BFF</td>\n",
       "        <td style=\"padding-left: 1em; padding-right: 1em; text-align: center; vertical-align: top\">131</td>\n",
       "        <td style=\"padding-left: 1em; padding-right: 1em; text-align: center; vertical-align: top\">1</td>\n",
       "        <td style=\"padding-left: 1em; padding-right: 1em; text-align: center; vertical-align: top\">131.0</td>\n",
       "    </tr>\n",
       "    <tr>\n",
       "        <td style=\"padding-left: 1em; padding-right: 1em; text-align: center; vertical-align: top\">CMX</td>\n",
       "        <td style=\"padding-left: 1em; padding-right: 1em; text-align: center; vertical-align: top\">684</td>\n",
       "        <td style=\"padding-left: 1em; padding-right: 1em; text-align: center; vertical-align: top\">98</td>\n",
       "        <td style=\"padding-left: 1em; padding-right: 1em; text-align: center; vertical-align: top\">89.7142857143</td>\n",
       "    </tr>\n",
       "    <tr>\n",
       "        <td style=\"padding-left: 1em; padding-right: 1em; text-align: center; vertical-align: top\">RDR</td>\n",
       "        <td style=\"padding-left: 1em; padding-right: 1em; text-align: center; vertical-align: top\">136</td>\n",
       "        <td style=\"padding-left: 1em; padding-right: 1em; text-align: center; vertical-align: top\">3</td>\n",
       "        <td style=\"padding-left: 1em; padding-right: 1em; text-align: center; vertical-align: top\">73.6666666667</td>\n",
       "    </tr>\n",
       "    <tr>\n",
       "        <td style=\"padding-left: 1em; padding-right: 1em; text-align: center; vertical-align: top\">INL</td>\n",
       "        <td style=\"padding-left: 1em; padding-right: 1em; text-align: center; vertical-align: top\">847</td>\n",
       "        <td style=\"padding-left: 1em; padding-right: 1em; text-align: center; vertical-align: top\">40</td>\n",
       "        <td style=\"padding-left: 1em; padding-right: 1em; text-align: center; vertical-align: top\">68.575</td>\n",
       "    </tr>\n",
       "    <tr>\n",
       "        <td style=\"padding-left: 1em; padding-right: 1em; text-align: center; vertical-align: top\">SPI</td>\n",
       "        <td style=\"padding-left: 1em; padding-right: 1em; text-align: center; vertical-align: top\">593</td>\n",
       "        <td style=\"padding-left: 1em; padding-right: 1em; text-align: center; vertical-align: top\">1819</td>\n",
       "        <td style=\"padding-left: 1em; padding-right: 1em; text-align: center; vertical-align: top\">63.0516767455</td>\n",
       "    </tr>\n",
       "    <tr>\n",
       "        <td style=\"padding-left: 1em; padding-right: 1em; text-align: center; vertical-align: top\">PLN</td>\n",
       "        <td style=\"padding-left: 1em; padding-right: 1em; text-align: center; vertical-align: top\">1095</td>\n",
       "        <td style=\"padding-left: 1em; padding-right: 1em; text-align: center; vertical-align: top\">119</td>\n",
       "        <td style=\"padding-left: 1em; padding-right: 1em; text-align: center; vertical-align: top\">59.8571428571</td>\n",
       "    </tr>\n",
       "    <tr>\n",
       "        <td style=\"padding-left: 1em; padding-right: 1em; text-align: center; vertical-align: top\">HHH</td>\n",
       "        <td style=\"padding-left: 1em; padding-right: 1em; text-align: center; vertical-align: top\">595</td>\n",
       "        <td style=\"padding-left: 1em; padding-right: 1em; text-align: center; vertical-align: top\">646</td>\n",
       "        <td style=\"padding-left: 1em; padding-right: 1em; text-align: center; vertical-align: top\">59.2058823529</td>\n",
       "    </tr>\n",
       "</table>\n",
       "[345 rows x 4 columns]<br/>Note: Only the head of the SFrame is printed.<br/>You can use print_rows(num_rows=m, num_columns=n) to print more rows and columns.\n",
       "</div>"
      ],
      "text/plain": [
       "Columns:\n",
       "\tOrigin\tstr\n",
       "\tdelay_max\tint\n",
       "\tnum_flights\tint\n",
       "\tAvg_DepDelay\tfloat\n",
       "\n",
       "Rows: 345\n",
       "\n",
       "Data:\n",
       "+--------+-----------+-------------+---------------+\n",
       "| Origin | delay_max | num_flights |  Avg_DepDelay |\n",
       "+--------+-----------+-------------+---------------+\n",
       "|  FMN   |    249    |      3      | 203.666666667 |\n",
       "|  OGD   |    272    |      5      |     172.4     |\n",
       "|  CYS   |    185    |      2      |     145.0     |\n",
       "|  BFF   |    131    |      1      |     131.0     |\n",
       "|  CMX   |    684    |      98     | 89.7142857143 |\n",
       "|  RDR   |    136    |      3      | 73.6666666667 |\n",
       "|  INL   |    847    |      40     |     68.575    |\n",
       "|  SPI   |    593    |     1819    | 63.0516767455 |\n",
       "|  PLN   |    1095   |     119     | 59.8571428571 |\n",
       "|  HHH   |    595    |     646     | 59.2058823529 |\n",
       "+--------+-----------+-------------+---------------+\n",
       "[345 rows x 4 columns]\n",
       "Note: Only the head of the SFrame is printed.\n",
       "You can use print_rows(num_rows=m, num_columns=n) to print more rows and columns."
      ]
     },
     "execution_count": 42,
     "metadata": {},
     "output_type": "execute_result"
    }
   ],
   "source": [
    "# Only select rows that have a delay\n",
    "sf = sf[sf.apply(lambda x: x['DepDelay'] > 0)] \n",
    "\n",
    "%time sf_Depart_Delay = sf.groupby('Origin',{'Avg_DepDelay':gl.aggregate.AVG('DepDelay'),'delay_max':gl.aggregate.MAX('DepDelay'),'num_flights':gl.aggregate.COUNT()})\n",
    "#sf_Origin_Delay\n",
    "\n",
    "sf_Depart_Delay.sort(['Avg_DepDelay', 'delay_max', 'num_flights'], ascending = False)\n",
    "#sf_Depart_Delay.sort('delay_max', ascending = False)\n"
   ]
  },
  {
   "cell_type": "code",
   "execution_count": 43,
   "metadata": {
    "collapsed": false,
    "scrolled": false
   },
   "outputs": [
    {
     "data": {
      "image/png": "[encoded data removed]",
      "text/plain": [
       "<matplotlib.figure.Figure at 0x12570b410>"
      ]
     },
     "metadata": {},
     "output_type": "display_data"
    }
   ],
   "source": [
    "from matplotlib import pyplot as plt\n",
    "import numpy as np\n",
    "\n",
    "%matplotlib inline\n",
    "plt.style.use('ggplot')\n",
    "\n",
    "sf_top = sf_Depart_Delay.topk('num_flights', 10)\n",
    "\n",
    "airports = np.array(sf_top['Origin'])\n",
    "avg_delay = np.array(sf_top['num_flights'])\n",
    "\n",
    "fig = plt.figure(figsize=(8,4))\n",
    "plt.barh(range(len(avg_delay)), avg_delay)\n",
    "\n",
    "plt.yticks(range(len(airports)), airports)\n",
    "\n",
    "plt.show()"
   ]
  },
  {
   "cell_type": "markdown",
   "metadata": {},
   "source": [
    "***Figure 1. Airports with the Highest Number of Departure Delays***"
   ]
  },
  {
   "cell_type": "markdown",
   "metadata": {},
   "source": [
    "Figure 1 shows the top airports with Departure Delays. Historically, ORD is the airport with the greatest number of departure delays. The total number of departure delays for ORD was a little over 3 million from the years 1987 to 2008. ORD (O'Hare International Airport) is located in Chicago, Illinois. The second highest is ATL with almost the same amount of delays and the third is the DFW Airport. These three airports have a significantly higher number of airport delays while the other airports have lower amounts of delays in comparison. The top three airports have around 1 million more delays than other airports. "
   ]
  },
  {
   "cell_type": "markdown",
   "metadata": {},
   "source": [
    "### Question 1.2: Destination/Arrival Delay"
   ]
  },
  {
   "cell_type": "markdown",
   "metadata": {},
   "source": [
    "Here, we are doing the same analysis, but for Arrival Delays. The Arrival Delays less than zero are excluded from the new data frame. The only change in the groupby statement is that we are now focusing on Destination."
   ]
  },
  {
   "cell_type": "code",
   "execution_count": 45,
   "metadata": {
    "collapsed": true
   },
   "outputs": [],
   "source": [
    "import graphlab as gl"
   ]
  },
  {
   "cell_type": "code",
   "execution_count": 46,
   "metadata": {
    "collapsed": true
   },
   "outputs": [],
   "source": [
    "sf = gl.load_sframe('Data/sframe_Directory')"
   ]
  },
  {
   "cell_type": "code",
   "execution_count": 47,
   "metadata": {
    "collapsed": false
   },
   "outputs": [
    {
     "name": "stdout",
     "output_type": "stream",
     "text": [
      "CPU times: user 14min 4s, sys: 38.9 s, total: 14min 43s\n",
      "Wall time: 13min 32s\n"
     ]
    },
    {
     "data": {
      "text/html": [
       "<div style=\"max-height:1000px;max-width:1500px;overflow:auto;\"><table frame=\"box\" rules=\"cols\">\n",
       "    <tr>\n",
       "        <th style=\"padding-left: 1em; padding-right: 1em; text-align: center\">Dest</th>\n",
       "        <th style=\"padding-left: 1em; padding-right: 1em; text-align: center\">Avg_ArrDelay</th>\n",
       "        <th style=\"padding-left: 1em; padding-right: 1em; text-align: center\">delay_max</th>\n",
       "        <th style=\"padding-left: 1em; padding-right: 1em; text-align: center\">num_flights</th>\n",
       "    </tr>\n",
       "    <tr>\n",
       "        <td style=\"padding-left: 1em; padding-right: 1em; text-align: center; vertical-align: top\">MQT</td>\n",
       "        <td style=\"padding-left: 1em; padding-right: 1em; text-align: center; vertical-align: top\">58.0653479336</td>\n",
       "        <td style=\"padding-left: 1em; padding-right: 1em; text-align: center; vertical-align: top\">1211</td>\n",
       "        <td style=\"padding-left: 1em; padding-right: 1em; text-align: center; vertical-align: top\">2831</td>\n",
       "    </tr>\n",
       "    <tr>\n",
       "        <td style=\"padding-left: 1em; padding-right: 1em; text-align: center; vertical-align: top\">ACK</td>\n",
       "        <td style=\"padding-left: 1em; padding-right: 1em; text-align: center; vertical-align: top\">45.85</td>\n",
       "        <td style=\"padding-left: 1em; padding-right: 1em; text-align: center; vertical-align: top\">417</td>\n",
       "        <td style=\"padding-left: 1em; padding-right: 1em; text-align: center; vertical-align: top\">980</td>\n",
       "    </tr>\n",
       "    <tr>\n",
       "        <td style=\"padding-left: 1em; padding-right: 1em; text-align: center; vertical-align: top\">SPI</td>\n",
       "        <td style=\"padding-left: 1em; padding-right: 1em; text-align: center; vertical-align: top\">45.7450980392</td>\n",
       "        <td style=\"padding-left: 1em; padding-right: 1em; text-align: center; vertical-align: top\">757</td>\n",
       "        <td style=\"padding-left: 1em; padding-right: 1em; text-align: center; vertical-align: top\">2397</td>\n",
       "    </tr>\n",
       "    <tr>\n",
       "        <td style=\"padding-left: 1em; padding-right: 1em; text-align: center; vertical-align: top\">ILG</td>\n",
       "        <td style=\"padding-left: 1em; padding-right: 1em; text-align: center; vertical-align: top\">45.6432160804</td>\n",
       "        <td style=\"padding-left: 1em; padding-right: 1em; text-align: center; vertical-align: top\">385</td>\n",
       "        <td style=\"padding-left: 1em; padding-right: 1em; text-align: center; vertical-align: top\">398</td>\n",
       "    </tr>\n",
       "    <tr>\n",
       "        <td style=\"padding-left: 1em; padding-right: 1em; text-align: center; vertical-align: top\">HHH</td>\n",
       "        <td style=\"padding-left: 1em; padding-right: 1em; text-align: center; vertical-align: top\">44.4306976744</td>\n",
       "        <td style=\"padding-left: 1em; padding-right: 1em; text-align: center; vertical-align: top\">386</td>\n",
       "        <td style=\"padding-left: 1em; padding-right: 1em; text-align: center; vertical-align: top\">1075</td>\n",
       "    </tr>\n",
       "    <tr>\n",
       "        <td style=\"padding-left: 1em; padding-right: 1em; text-align: center; vertical-align: top\">LMT</td>\n",
       "        <td style=\"padding-left: 1em; padding-right: 1em; text-align: center; vertical-align: top\">42.7481203008</td>\n",
       "        <td style=\"padding-left: 1em; padding-right: 1em; text-align: center; vertical-align: top\">219</td>\n",
       "        <td style=\"padding-left: 1em; padding-right: 1em; text-align: center; vertical-align: top\">266</td>\n",
       "    </tr>\n",
       "    <tr>\n",
       "        <td style=\"padding-left: 1em; padding-right: 1em; text-align: center; vertical-align: top\">MCN</td>\n",
       "        <td style=\"padding-left: 1em; padding-right: 1em; text-align: center; vertical-align: top\">42.0382978723</td>\n",
       "        <td style=\"padding-left: 1em; padding-right: 1em; text-align: center; vertical-align: top\">453</td>\n",
       "        <td style=\"padding-left: 1em; padding-right: 1em; text-align: center; vertical-align: top\">3525</td>\n",
       "    </tr>\n",
       "    <tr>\n",
       "        <td style=\"padding-left: 1em; padding-right: 1em; text-align: center; vertical-align: top\">SOP</td>\n",
       "        <td style=\"padding-left: 1em; padding-right: 1em; text-align: center; vertical-align: top\">40.3773584906</td>\n",
       "        <td style=\"padding-left: 1em; padding-right: 1em; text-align: center; vertical-align: top\">329</td>\n",
       "        <td style=\"padding-left: 1em; padding-right: 1em; text-align: center; vertical-align: top\">212</td>\n",
       "    </tr>\n",
       "    <tr>\n",
       "        <td style=\"padding-left: 1em; padding-right: 1em; text-align: center; vertical-align: top\">EWN</td>\n",
       "        <td style=\"padding-left: 1em; padding-right: 1em; text-align: center; vertical-align: top\">39.5523978686</td>\n",
       "        <td style=\"padding-left: 1em; padding-right: 1em; text-align: center; vertical-align: top\">279</td>\n",
       "        <td style=\"padding-left: 1em; padding-right: 1em; text-align: center; vertical-align: top\">563</td>\n",
       "    </tr>\n",
       "    <tr>\n",
       "        <td style=\"padding-left: 1em; padding-right: 1em; text-align: center; vertical-align: top\">OTH</td>\n",
       "        <td style=\"padding-left: 1em; padding-right: 1em; text-align: center; vertical-align: top\">38.8739726027</td>\n",
       "        <td style=\"padding-left: 1em; padding-right: 1em; text-align: center; vertical-align: top\">292</td>\n",
       "        <td style=\"padding-left: 1em; padding-right: 1em; text-align: center; vertical-align: top\">365</td>\n",
       "    </tr>\n",
       "</table>\n",
       "[342 rows x 4 columns]<br/>Note: Only the head of the SFrame is printed.<br/>You can use print_rows(num_rows=m, num_columns=n) to print more rows and columns.\n",
       "</div>"
      ],
      "text/plain": [
       "Columns:\n",
       "\tDest\tstr\n",
       "\tAvg_ArrDelay\tfloat\n",
       "\tdelay_max\tint\n",
       "\tnum_flights\tint\n",
       "\n",
       "Rows: 342\n",
       "\n",
       "Data:\n",
       "+------+---------------+-----------+-------------+\n",
       "| Dest |  Avg_ArrDelay | delay_max | num_flights |\n",
       "+------+---------------+-----------+-------------+\n",
       "| MQT  | 58.0653479336 |    1211   |     2831    |\n",
       "| ACK  |     45.85     |    417    |     980     |\n",
       "| SPI  | 45.7450980392 |    757    |     2397    |\n",
       "| ILG  | 45.6432160804 |    385    |     398     |\n",
       "| HHH  | 44.4306976744 |    386    |     1075    |\n",
       "| LMT  | 42.7481203008 |    219    |     266     |\n",
       "| MCN  | 42.0382978723 |    453    |     3525    |\n",
       "| SOP  | 40.3773584906 |    329    |     212     |\n",
       "| EWN  | 39.5523978686 |    279    |     563     |\n",
       "| OTH  | 38.8739726027 |    292    |     365     |\n",
       "+------+---------------+-----------+-------------+\n",
       "[342 rows x 4 columns]\n",
       "Note: Only the head of the SFrame is printed.\n",
       "You can use print_rows(num_rows=m, num_columns=n) to print more rows and columns."
      ]
     },
     "execution_count": 47,
     "metadata": {},
     "output_type": "execute_result"
    }
   ],
   "source": [
    "# Only select rows that have a delay\n",
    "sf = sf[sf.apply(lambda x: x['ArrDelay'] > 0)] \n",
    "\n",
    "%time sf_Arrival_Delay = sf.groupby('Dest', {'Avg_ArrDelay':gl.aggregate.AVG('ArrDelay'),'delay_max':gl.aggregate.MAX('ArrDelay'),'num_flights':gl.aggregate.COUNT()})\n",
    "\n",
    "sf_Arrival_Delay.sort(['Avg_ArrDelay', 'delay_max', 'num_flights'], ascending = False)\n",
    "#sf_Depart_Delay.sort('delay_max', ascending = False)"
   ]
  },
  {
   "cell_type": "code",
   "execution_count": 48,
   "metadata": {
    "collapsed": false,
    "scrolled": true
   },
   "outputs": [
    {
     "data": {
      "image/png": "[encoded data removed]",
      "text/plain": [
       "<matplotlib.figure.Figure at 0x12572dc50>"
      ]
     },
     "metadata": {},
     "output_type": "display_data"
    }
   ],
   "source": [
    "from matplotlib import pyplot as plt\n",
    "import numpy as np\n",
    "\n",
    "%matplotlib inline\n",
    "plt.style.use('ggplot')\n",
    "\n",
    "sf_top = sf_Arrival_Delay.topk('num_flights', 10)\n",
    "\n",
    "airports = np.array(sf_top['Dest'])\n",
    "avg_delay = np.array(sf_top['num_flights'])\n",
    "\n",
    "fig = plt.figure(figsize=(8,4))\n",
    "plt.barh(range(len(avg_delay)), avg_delay)\n",
    "\n",
    "plt.yticks(range(len(airports)), airports)\n",
    "\n",
    "plt.show()"
   ]
  },
  {
   "cell_type": "markdown",
   "metadata": {},
   "source": [
    "***Figure 2. Airports with the Highest Number of Arrival Delays***"
   ]
  },
  {
   "cell_type": "markdown",
   "metadata": {},
   "source": [
    "Historically, ATL is the airport with the greatest number of arrival delays. The total number of arrival delays for ATL was just over 3 million. ATL (Hartsfield–Jackson Atlanta International Airport) is located in Altanta, Georgia. The other top two are ORD and DFW. These were the same top three airports we saw in the Departure Delay analysis. We can say that overall, ORD, ATL and DFW have the highest number of flight delays, both inbound and outbound."
   ]
  },
  {
   "cell_type": "markdown",
   "metadata": {},
   "source": [
    "### Question 2.1: Origin/Destination Departure Delay for Origin/Destination Pairs"
   ]
  },
  {
   "cell_type": "markdown",
   "metadata": {},
   "source": [
    "The second question looks at which flights (origin/destination pairs) are most likely going to be delayed. We are going to look at the Departure and Arrival Delays separately once more. First, we are going to reload the data and remove flights with Departure Delays that are less than zero. Once they are removed, the remaining data will be used for our analysis. Now, we are doing a group by based on Origin and Destination. The Average Departure Delay and maximum delay is calculated as well. The count of the number of flights is also given. "
   ]
  },
  {
   "cell_type": "code",
   "execution_count": 49,
   "metadata": {
    "collapsed": true
   },
   "outputs": [],
   "source": [
    "import graphlab as gl"
   ]
  },
  {
   "cell_type": "code",
   "execution_count": 54,
   "metadata": {
    "collapsed": true
   },
   "outputs": [],
   "source": [
    "sf = gl.load_sframe('Data/sframe_Directory')"
   ]
  },
  {
   "cell_type": "code",
   "execution_count": 55,
   "metadata": {
    "collapsed": false,
    "scrolled": true
   },
   "outputs": [
    {
     "name": "stdout",
     "output_type": "stream",
     "text": [
      "CPU times: user 12min 40s, sys: 33.3 s, total: 13min 14s\n",
      "Wall time: 12min 44s\n"
     ]
    }
   ],
   "source": [
    "# Only select rows that have a delay\n",
    "sf = sf[sf.apply(lambda x: x['DepDelay'] > 0)] \n",
    "\n",
    "%time sf_Origin_Depart = sf.groupby(['Origin', 'Dest'], {'Avg_DepDelay':gl.aggregate.AVG('DepDelay'),'delay_max':gl.aggregate.MAX('DepDelay'),'num_flights':gl.aggregate.COUNT()})"
   ]
  },
  {
   "cell_type": "code",
   "execution_count": 56,
   "metadata": {
    "collapsed": false
   },
   "outputs": [
    {
     "data": {
      "text/html": [
       "<div style=\"max-height:1000px;max-width:1500px;overflow:auto;\"><table frame=\"box\" rules=\"cols\">\n",
       "    <tr>\n",
       "        <th style=\"padding-left: 1em; padding-right: 1em; text-align: center\">Dest</th>\n",
       "        <th style=\"padding-left: 1em; padding-right: 1em; text-align: center\">Origin</th>\n",
       "        <th style=\"padding-left: 1em; padding-right: 1em; text-align: center\">delay_max</th>\n",
       "        <th style=\"padding-left: 1em; padding-right: 1em; text-align: center\">num_flights</th>\n",
       "        <th style=\"padding-left: 1em; padding-right: 1em; text-align: center\">Avg_DepDelay</th>\n",
       "    </tr>\n",
       "    <tr>\n",
       "        <td style=\"padding-left: 1em; padding-right: 1em; text-align: center; vertical-align: top\">SFO</td>\n",
       "        <td style=\"padding-left: 1em; padding-right: 1em; text-align: center; vertical-align: top\">LAX</td>\n",
       "        <td style=\"padding-left: 1em; padding-right: 1em; text-align: center; vertical-align: top\">1401</td>\n",
       "        <td style=\"padding-left: 1em; padding-right: 1em; text-align: center; vertical-align: top\">159475</td>\n",
       "        <td style=\"padding-left: 1em; padding-right: 1em; text-align: center; vertical-align: top\">24.0182473742</td>\n",
       "    </tr>\n",
       "    <tr>\n",
       "        <td style=\"padding-left: 1em; padding-right: 1em; text-align: center; vertical-align: top\">LAX</td>\n",
       "        <td style=\"padding-left: 1em; padding-right: 1em; text-align: center; vertical-align: top\">SFO</td>\n",
       "        <td style=\"padding-left: 1em; padding-right: 1em; text-align: center; vertical-align: top\">1320</td>\n",
       "        <td style=\"padding-left: 1em; padding-right: 1em; text-align: center; vertical-align: top\">141722</td>\n",
       "        <td style=\"padding-left: 1em; padding-right: 1em; text-align: center; vertical-align: top\">22.9409266028</td>\n",
       "    </tr>\n",
       "    <tr>\n",
       "        <td style=\"padding-left: 1em; padding-right: 1em; text-align: center; vertical-align: top\">LAX</td>\n",
       "        <td style=\"padding-left: 1em; padding-right: 1em; text-align: center; vertical-align: top\">PHX</td>\n",
       "        <td style=\"padding-left: 1em; padding-right: 1em; text-align: center; vertical-align: top\">1320</td>\n",
       "        <td style=\"padding-left: 1em; padding-right: 1em; text-align: center; vertical-align: top\">128549</td>\n",
       "        <td style=\"padding-left: 1em; padding-right: 1em; text-align: center; vertical-align: top\">21.5099145073</td>\n",
       "    </tr>\n",
       "    <tr>\n",
       "        <td style=\"padding-left: 1em; padding-right: 1em; text-align: center; vertical-align: top\">PHX</td>\n",
       "        <td style=\"padding-left: 1em; padding-right: 1em; text-align: center; vertical-align: top\">LAX</td>\n",
       "        <td style=\"padding-left: 1em; padding-right: 1em; text-align: center; vertical-align: top\">738</td>\n",
       "        <td style=\"padding-left: 1em; padding-right: 1em; text-align: center; vertical-align: top\">126440</td>\n",
       "        <td style=\"padding-left: 1em; padding-right: 1em; text-align: center; vertical-align: top\">21.538895919</td>\n",
       "    </tr>\n",
       "    <tr>\n",
       "        <td style=\"padding-left: 1em; padding-right: 1em; text-align: center; vertical-align: top\">LAS</td>\n",
       "        <td style=\"padding-left: 1em; padding-right: 1em; text-align: center; vertical-align: top\">LAX</td>\n",
       "        <td style=\"padding-left: 1em; padding-right: 1em; text-align: center; vertical-align: top\">1145</td>\n",
       "        <td style=\"padding-left: 1em; padding-right: 1em; text-align: center; vertical-align: top\">124133</td>\n",
       "        <td style=\"padding-left: 1em; padding-right: 1em; text-align: center; vertical-align: top\">21.3920391838</td>\n",
       "    </tr>\n",
       "    <tr>\n",
       "        <td style=\"padding-left: 1em; padding-right: 1em; text-align: center; vertical-align: top\">LAX</td>\n",
       "        <td style=\"padding-left: 1em; padding-right: 1em; text-align: center; vertical-align: top\">LAS</td>\n",
       "        <td style=\"padding-left: 1em; padding-right: 1em; text-align: center; vertical-align: top\">1434</td>\n",
       "        <td style=\"padding-left: 1em; padding-right: 1em; text-align: center; vertical-align: top\">121019</td>\n",
       "        <td style=\"padding-left: 1em; padding-right: 1em; text-align: center; vertical-align: top\">21.6737454449</td>\n",
       "    </tr>\n",
       "    <tr>\n",
       "        <td style=\"padding-left: 1em; padding-right: 1em; text-align: center; vertical-align: top\">LAX</td>\n",
       "        <td style=\"padding-left: 1em; padding-right: 1em; text-align: center; vertical-align: top\">ORD</td>\n",
       "        <td style=\"padding-left: 1em; padding-right: 1em; text-align: center; vertical-align: top\">1344</td>\n",
       "        <td style=\"padding-left: 1em; padding-right: 1em; text-align: center; vertical-align: top\">109375</td>\n",
       "        <td style=\"padding-left: 1em; padding-right: 1em; text-align: center; vertical-align: top\">22.4414537143</td>\n",
       "    </tr>\n",
       "    <tr>\n",
       "        <td style=\"padding-left: 1em; padding-right: 1em; text-align: center; vertical-align: top\">LAS</td>\n",
       "        <td style=\"padding-left: 1em; padding-right: 1em; text-align: center; vertical-align: top\">PHX</td>\n",
       "        <td style=\"padding-left: 1em; padding-right: 1em; text-align: center; vertical-align: top\">694</td>\n",
       "        <td style=\"padding-left: 1em; padding-right: 1em; text-align: center; vertical-align: top\">106578</td>\n",
       "        <td style=\"padding-left: 1em; padding-right: 1em; text-align: center; vertical-align: top\">21.6913809604</td>\n",
       "    </tr>\n",
       "    <tr>\n",
       "        <td style=\"padding-left: 1em; padding-right: 1em; text-align: center; vertical-align: top\">LGA</td>\n",
       "        <td style=\"padding-left: 1em; padding-right: 1em; text-align: center; vertical-align: top\">ORD</td>\n",
       "        <td style=\"padding-left: 1em; padding-right: 1em; text-align: center; vertical-align: top\">1076</td>\n",
       "        <td style=\"padding-left: 1em; padding-right: 1em; text-align: center; vertical-align: top\">106007</td>\n",
       "        <td style=\"padding-left: 1em; padding-right: 1em; text-align: center; vertical-align: top\">25.0880507891</td>\n",
       "    </tr>\n",
       "    <tr>\n",
       "        <td style=\"padding-left: 1em; padding-right: 1em; text-align: center; vertical-align: top\">DFW</td>\n",
       "        <td style=\"padding-left: 1em; padding-right: 1em; text-align: center; vertical-align: top\">ATL</td>\n",
       "        <td style=\"padding-left: 1em; padding-right: 1em; text-align: center; vertical-align: top\">1411</td>\n",
       "        <td style=\"padding-left: 1em; padding-right: 1em; text-align: center; vertical-align: top\">101589</td>\n",
       "        <td style=\"padding-left: 1em; padding-right: 1em; text-align: center; vertical-align: top\">19.7609682151</td>\n",
       "    </tr>\n",
       "</table>\n",
       "[8073 rows x 5 columns]<br/>Note: Only the head of the SFrame is printed.<br/>You can use print_rows(num_rows=m, num_columns=n) to print more rows and columns.\n",
       "</div>"
      ],
      "text/plain": [
       "Columns:\n",
       "\tDest\tstr\n",
       "\tOrigin\tstr\n",
       "\tdelay_max\tint\n",
       "\tnum_flights\tint\n",
       "\tAvg_DepDelay\tfloat\n",
       "\n",
       "Rows: 8073\n",
       "\n",
       "Data:\n",
       "+------+--------+-----------+-------------+---------------+\n",
       "| Dest | Origin | delay_max | num_flights |  Avg_DepDelay |\n",
       "+------+--------+-----------+-------------+---------------+\n",
       "| SFO  |  LAX   |    1401   |    159475   | 24.0182473742 |\n",
       "| LAX  |  SFO   |    1320   |    141722   | 22.9409266028 |\n",
       "| LAX  |  PHX   |    1320   |    128549   | 21.5099145073 |\n",
       "| PHX  |  LAX   |    738    |    126440   |  21.538895919 |\n",
       "| LAS  |  LAX   |    1145   |    124133   | 21.3920391838 |\n",
       "| LAX  |  LAS   |    1434   |    121019   | 21.6737454449 |\n",
       "| LAX  |  ORD   |    1344   |    109375   | 22.4414537143 |\n",
       "| LAS  |  PHX   |    694    |    106578   | 21.6913809604 |\n",
       "| LGA  |  ORD   |    1076   |    106007   | 25.0880507891 |\n",
       "| DFW  |  ATL   |    1411   |    101589   | 19.7609682151 |\n",
       "+------+--------+-----------+-------------+---------------+\n",
       "[8073 rows x 5 columns]\n",
       "Note: Only the head of the SFrame is printed.\n",
       "You can use print_rows(num_rows=m, num_columns=n) to print more rows and columns."
      ]
     },
     "execution_count": 56,
     "metadata": {},
     "output_type": "execute_result"
    }
   ],
   "source": [
    "sf_Origin_Depart.sort(['num_flights'], ascending = False)"
   ]
  },
  {
   "cell_type": "markdown",
   "metadata": {},
   "source": [
    "#### Validation"
   ]
  },
  {
   "cell_type": "code",
   "execution_count": 58,
   "metadata": {
    "collapsed": false
   },
   "outputs": [],
   "source": [
    "sf_filter = sf[sf.apply(lambda x: True if (x['Origin'] == 'LAX' and x['Dest'] == 'SFO') else False)]"
   ]
  },
  {
   "cell_type": "code",
   "execution_count": 60,
   "metadata": {
    "collapsed": false
   },
   "outputs": [
    {
     "data": {
      "text/plain": [
       "(159475, 29)"
      ]
     },
     "execution_count": 60,
     "metadata": {},
     "output_type": "execute_result"
    }
   ],
   "source": [
    "sf_filter.shape"
   ]
  },
  {
   "cell_type": "markdown",
   "metadata": {},
   "source": [
    "The num_flights value from the table was Origin = 'LAX' and Dest = 'SFO' = 159475. This is the same number of records we receive when we filter direclty from the full dataset."
   ]
  },
  {
   "cell_type": "code",
   "execution_count": 62,
   "metadata": {
    "collapsed": false
   },
   "outputs": [
    {
     "data": {
      "image/png": "[encoded data removed]",
      "text/plain": [
       "<matplotlib.figure.Figure at 0x1265ef050>"
      ]
     },
     "metadata": {},
     "output_type": "display_data"
    }
   ],
   "source": [
    "from matplotlib import pyplot as plt\n",
    "import numpy as np\n",
    "\n",
    "%matplotlib inline\n",
    "plt.style.use('ggplot')\n",
    "\n",
    "sf_top = sf_Origin_Depart.topk('num_flights', 10)\n",
    "\n",
    "airports = np.array(sf_top['Origin','Dest'])\n",
    "avg_delay = np.array(sf_top['num_flights'])\n",
    "\n",
    "fig = plt.figure(figsize=(8,4))\n",
    "plt.barh(range(len(avg_delay)), avg_delay)\n",
    "\n",
    "plt.yticks(range(len(airports)), airports)\n",
    "\n",
    "plt.show()"
   ]
  },
  {
   "cell_type": "markdown",
   "metadata": {},
   "source": [
    "***Figure 3. Origin Destinaton Pairs with the Highest Number of Departure Delays***"
   ]
  },
  {
   "cell_type": "markdown",
   "metadata": {},
   "source": [
    "Figure 3 shows the top Origin/Destination Pairs with the highest number of Departure Delays. Historically, the flight from LAX (Los Angeles International Airport) to SFO (San Francisco International Airport) is the flight with the greatest number of departure delays. The total number of departure delays for LAX to SFO flight is 159,475. LAX to SFO both ways are the top two pairs with the highest delays. PHX to LAX is the next highest. LAX is in many of the pairs in this chart. The average departure delay from LAX to SFO is about 23 minutes."
   ]
  },
  {
   "cell_type": "markdown",
   "metadata": {},
   "source": [
    "### Question 2.2: Origin/Destination Arrival Delay for Origin/Destination Pairs"
   ]
  },
  {
   "cell_type": "code",
   "execution_count": 63,
   "metadata": {
    "collapsed": true
   },
   "outputs": [],
   "source": [
    "import graphlab as gl"
   ]
  },
  {
   "cell_type": "code",
   "execution_count": 64,
   "metadata": {
    "collapsed": true
   },
   "outputs": [],
   "source": [
    "sf = gl.load_sframe('Data/sframe_Directory')"
   ]
  },
  {
   "cell_type": "code",
   "execution_count": 65,
   "metadata": {
    "collapsed": false
   },
   "outputs": [
    {
     "name": "stdout",
     "output_type": "stream",
     "text": [
      "CPU times: user 25min 42s, sys: 1min 35s, total: 27min 18s\n",
      "Wall time: 1h 1min 48s\n"
     ]
    }
   ],
   "source": [
    "# Only select rows that have a delay\n",
    "sf = sf[sf.apply(lambda x: x['ArrDelay'] > 0)] \n",
    "\n",
    "%time sf_Origin_Depart = sf.groupby(['Origin', 'Dest'], {'Avg_ArrDelay':gl.aggregate.AVG('ArrDelay'),'delay_max':gl.aggregate.MAX('ArrDelay'),'num_flights':gl.aggregate.COUNT()})"
   ]
  },
  {
   "cell_type": "code",
   "execution_count": 66,
   "metadata": {
    "collapsed": false
   },
   "outputs": [
    {
     "data": {
      "text/html": [
       "<div style=\"max-height:1000px;max-width:1500px;overflow:auto;\"><table frame=\"box\" rules=\"cols\">\n",
       "    <tr>\n",
       "        <th style=\"padding-left: 1em; padding-right: 1em; text-align: center\">Dest</th>\n",
       "        <th style=\"padding-left: 1em; padding-right: 1em; text-align: center\">Origin</th>\n",
       "        <th style=\"padding-left: 1em; padding-right: 1em; text-align: center\">Avg_ArrDelay</th>\n",
       "        <th style=\"padding-left: 1em; padding-right: 1em; text-align: center\">delay_max</th>\n",
       "        <th style=\"padding-left: 1em; padding-right: 1em; text-align: center\">num_flights</th>\n",
       "    </tr>\n",
       "    <tr>\n",
       "        <td style=\"padding-left: 1em; padding-right: 1em; text-align: center; vertical-align: top\">LAX</td>\n",
       "        <td style=\"padding-left: 1em; padding-right: 1em; text-align: center; vertical-align: top\">SFO</td>\n",
       "        <td style=\"padding-left: 1em; padding-right: 1em; text-align: center; vertical-align: top\">23.638234168</td>\n",
       "        <td style=\"padding-left: 1em; padding-right: 1em; text-align: center; vertical-align: top\">732</td>\n",
       "        <td style=\"padding-left: 1em; padding-right: 1em; text-align: center; vertical-align: top\">159313</td>\n",
       "    </tr>\n",
       "    <tr>\n",
       "        <td style=\"padding-left: 1em; padding-right: 1em; text-align: center; vertical-align: top\">SFO</td>\n",
       "        <td style=\"padding-left: 1em; padding-right: 1em; text-align: center; vertical-align: top\">LAX</td>\n",
       "        <td style=\"padding-left: 1em; padding-right: 1em; text-align: center; vertical-align: top\">28.6890135892</td>\n",
       "        <td style=\"padding-left: 1em; padding-right: 1em; text-align: center; vertical-align: top\">693</td>\n",
       "        <td style=\"padding-left: 1em; padding-right: 1em; text-align: center; vertical-align: top\">154682</td>\n",
       "    </tr>\n",
       "    <tr>\n",
       "        <td style=\"padding-left: 1em; padding-right: 1em; text-align: center; vertical-align: top\">LAX</td>\n",
       "        <td style=\"padding-left: 1em; padding-right: 1em; text-align: center; vertical-align: top\">PHX</td>\n",
       "        <td style=\"padding-left: 1em; padding-right: 1em; text-align: center; vertical-align: top\">20.5285087421</td>\n",
       "        <td style=\"padding-left: 1em; padding-right: 1em; text-align: center; vertical-align: top\">460</td>\n",
       "        <td style=\"padding-left: 1em; padding-right: 1em; text-align: center; vertical-align: top\">147218</td>\n",
       "    </tr>\n",
       "    <tr>\n",
       "        <td style=\"padding-left: 1em; padding-right: 1em; text-align: center; vertical-align: top\">LAS</td>\n",
       "        <td style=\"padding-left: 1em; padding-right: 1em; text-align: center; vertical-align: top\">LAX</td>\n",
       "        <td style=\"padding-left: 1em; padding-right: 1em; text-align: center; vertical-align: top\">19.9354702542</td>\n",
       "        <td style=\"padding-left: 1em; padding-right: 1em; text-align: center; vertical-align: top\">1189</td>\n",
       "        <td style=\"padding-left: 1em; padding-right: 1em; text-align: center; vertical-align: top\">146878</td>\n",
       "    </tr>\n",
       "    <tr>\n",
       "        <td style=\"padding-left: 1em; padding-right: 1em; text-align: center; vertical-align: top\">LAX</td>\n",
       "        <td style=\"padding-left: 1em; padding-right: 1em; text-align: center; vertical-align: top\">LAS</td>\n",
       "        <td style=\"padding-left: 1em; padding-right: 1em; text-align: center; vertical-align: top\">21.1059119204</td>\n",
       "        <td style=\"padding-left: 1em; padding-right: 1em; text-align: center; vertical-align: top\">1025</td>\n",
       "        <td style=\"padding-left: 1em; padding-right: 1em; text-align: center; vertical-align: top\">146027</td>\n",
       "    </tr>\n",
       "    <tr>\n",
       "        <td style=\"padding-left: 1em; padding-right: 1em; text-align: center; vertical-align: top\">PHX</td>\n",
       "        <td style=\"padding-left: 1em; padding-right: 1em; text-align: center; vertical-align: top\">LAX</td>\n",
       "        <td style=\"padding-left: 1em; padding-right: 1em; text-align: center; vertical-align: top\">20.0918682377</td>\n",
       "        <td style=\"padding-left: 1em; padding-right: 1em; text-align: center; vertical-align: top\">727</td>\n",
       "        <td style=\"padding-left: 1em; padding-right: 1em; text-align: center; vertical-align: top\">141224</td>\n",
       "    </tr>\n",
       "    <tr>\n",
       "        <td style=\"padding-left: 1em; padding-right: 1em; text-align: center; vertical-align: top\">LAS</td>\n",
       "        <td style=\"padding-left: 1em; padding-right: 1em; text-align: center; vertical-align: top\">PHX</td>\n",
       "        <td style=\"padding-left: 1em; padding-right: 1em; text-align: center; vertical-align: top\">19.4132414321</td>\n",
       "        <td style=\"padding-left: 1em; padding-right: 1em; text-align: center; vertical-align: top\">684</td>\n",
       "        <td style=\"padding-left: 1em; padding-right: 1em; text-align: center; vertical-align: top\">130575</td>\n",
       "    </tr>\n",
       "    <tr>\n",
       "        <td style=\"padding-left: 1em; padding-right: 1em; text-align: center; vertical-align: top\">PHX</td>\n",
       "        <td style=\"padding-left: 1em; padding-right: 1em; text-align: center; vertical-align: top\">LAS</td>\n",
       "        <td style=\"padding-left: 1em; padding-right: 1em; text-align: center; vertical-align: top\">20.3223645991</td>\n",
       "        <td style=\"padding-left: 1em; padding-right: 1em; text-align: center; vertical-align: top\">772</td>\n",
       "        <td style=\"padding-left: 1em; padding-right: 1em; text-align: center; vertical-align: top\">120494</td>\n",
       "    </tr>\n",
       "    <tr>\n",
       "        <td style=\"padding-left: 1em; padding-right: 1em; text-align: center; vertical-align: top\">LGA</td>\n",
       "        <td style=\"padding-left: 1em; padding-right: 1em; text-align: center; vertical-align: top\">ORD</td>\n",
       "        <td style=\"padding-left: 1em; padding-right: 1em; text-align: center; vertical-align: top\">33.1686112913</td>\n",
       "        <td style=\"padding-left: 1em; padding-right: 1em; text-align: center; vertical-align: top\">1057</td>\n",
       "        <td style=\"padding-left: 1em; padding-right: 1em; text-align: center; vertical-align: top\">109447</td>\n",
       "    </tr>\n",
       "    <tr>\n",
       "        <td style=\"padding-left: 1em; padding-right: 1em; text-align: center; vertical-align: top\">MSP</td>\n",
       "        <td style=\"padding-left: 1em; padding-right: 1em; text-align: center; vertical-align: top\">ORD</td>\n",
       "        <td style=\"padding-left: 1em; padding-right: 1em; text-align: center; vertical-align: top\">26.4216118758</td>\n",
       "        <td style=\"padding-left: 1em; padding-right: 1em; text-align: center; vertical-align: top\">978</td>\n",
       "        <td style=\"padding-left: 1em; padding-right: 1em; text-align: center; vertical-align: top\">109264</td>\n",
       "    </tr>\n",
       "</table>\n",
       "[7646 rows x 5 columns]<br/>Note: Only the head of the SFrame is printed.<br/>You can use print_rows(num_rows=m, num_columns=n) to print more rows and columns.\n",
       "</div>"
      ],
      "text/plain": [
       "Columns:\n",
       "\tDest\tstr\n",
       "\tOrigin\tstr\n",
       "\tAvg_ArrDelay\tfloat\n",
       "\tdelay_max\tint\n",
       "\tnum_flights\tint\n",
       "\n",
       "Rows: 7646\n",
       "\n",
       "Data:\n",
       "+------+--------+---------------+-----------+-------------+\n",
       "| Dest | Origin |  Avg_ArrDelay | delay_max | num_flights |\n",
       "+------+--------+---------------+-----------+-------------+\n",
       "| LAX  |  SFO   |  23.638234168 |    732    |    159313   |\n",
       "| SFO  |  LAX   | 28.6890135892 |    693    |    154682   |\n",
       "| LAX  |  PHX   | 20.5285087421 |    460    |    147218   |\n",
       "| LAS  |  LAX   | 19.9354702542 |    1189   |    146878   |\n",
       "| LAX  |  LAS   | 21.1059119204 |    1025   |    146027   |\n",
       "| PHX  |  LAX   | 20.0918682377 |    727    |    141224   |\n",
       "| LAS  |  PHX   | 19.4132414321 |    684    |    130575   |\n",
       "| PHX  |  LAS   | 20.3223645991 |    772    |    120494   |\n",
       "| LGA  |  ORD   | 33.1686112913 |    1057   |    109447   |\n",
       "| MSP  |  ORD   | 26.4216118758 |    978    |    109264   |\n",
       "+------+--------+---------------+-----------+-------------+\n",
       "[7646 rows x 5 columns]\n",
       "Note: Only the head of the SFrame is printed.\n",
       "You can use print_rows(num_rows=m, num_columns=n) to print more rows and columns."
      ]
     },
     "execution_count": 66,
     "metadata": {},
     "output_type": "execute_result"
    }
   ],
   "source": [
    "sf_Origin_Depart.sort(['num_flights'], ascending = False)"
   ]
  },
  {
   "cell_type": "markdown",
   "metadata": {},
   "source": [
    "#### Validation"
   ]
  },
  {
   "cell_type": "code",
   "execution_count": 68,
   "metadata": {
    "collapsed": true
   },
   "outputs": [],
   "source": [
    "sf_filter = sf[sf.apply(lambda x: True if (x['Origin'] == 'SFO' and x['Dest'] == 'LAX') else False)]"
   ]
  },
  {
   "cell_type": "code",
   "execution_count": 69,
   "metadata": {
    "collapsed": false
   },
   "outputs": [
    {
     "data": {
      "text/plain": [
       "(159313, 29)"
      ]
     },
     "execution_count": 69,
     "metadata": {},
     "output_type": "execute_result"
    }
   ],
   "source": [
    "sf_filter.shape"
   ]
  },
  {
   "cell_type": "markdown",
   "metadata": {},
   "source": [
    "The num_flights value from the table was Origin = 'SFO' and Dest = 'LAX' = 159313. This is the same number of records we receive when we filter direclty from the full dataset."
   ]
  },
  {
   "cell_type": "code",
   "execution_count": 67,
   "metadata": {
    "collapsed": false,
    "scrolled": true
   },
   "outputs": [
    {
     "data": {
      "image/png": "[encoded data removed]",
      "text/plain": [
       "<matplotlib.figure.Figure at 0x1269a3dd0>"
      ]
     },
     "metadata": {},
     "output_type": "display_data"
    }
   ],
   "source": [
    "from matplotlib import pyplot as plt\n",
    "import numpy as np\n",
    "\n",
    "%matplotlib inline\n",
    "plt.style.use('ggplot')\n",
    "\n",
    "sf_top = sf_Origin_Depart.topk('num_flights', 10)\n",
    "\n",
    "airports = np.array(sf_top['Origin','Dest'])\n",
    "avg_delay = np.array(sf_top['num_flights'])\n",
    "\n",
    "fig = plt.figure(figsize=(8,4))\n",
    "plt.barh(range(len(avg_delay)), avg_delay)\n",
    "\n",
    "plt.yticks(range(len(airports)), airports)\n",
    "\n",
    "plt.show()"
   ]
  },
  {
   "cell_type": "markdown",
   "metadata": {},
   "source": [
    "***Figure 4. Origin Destinaton Pairs with the Highest Number of Arrival Delays***"
   ]
  },
  {
   "cell_type": "markdown",
   "metadata": {},
   "source": [
    "Figure 4 shows the origin destination pairs with the highest number of Arrival Delays. Historically, the flight from SFO (San Francisco International Airport) to LAX (Los Angeles International Airport) is the flight with the greatest number of arrival delays. The average arrival delay in minutes is about 29 minutes from SFO to LAX."
   ]
  },
  {
   "cell_type": "markdown",
   "metadata": {
    "collapsed": true
   },
   "source": [
    "### Question 3: Linear Regression to Predict Length of Delays"
   ]
  },
  {
   "cell_type": "markdown",
   "metadata": {},
   "source": [
    "The final use case discussed will be the ability to determine the length of a flight delay before it is delayed. We will use Linear Regression to accomplish this task. We'll continue to use graphlab for this section as well. The most important variables that may affect the length of the delay are the following:\n",
    "\n",
    "1. DepDelay\n",
    "2. DayOfWeek\n",
    "3. Origin\n",
    "4. Dest\n",
    "5. Distance\n",
    "6. UniqueCarrier\n",
    "7. CarrierDelay\n",
    "8. WeatherDelay\n",
    "9. NASDelay\n",
    "10. SecurityDelay\n",
    "11. LateAircraftDelay\n",
    "\n",
    "These are the variables we will use as features in our regression model. Additionally, we will be creating two features based on the ones we already have. These are categorical variables for time. DepTimeCategory creates four categories of the time of the day the flight departed (Morning, Afternoon, Evening and Night). A similar variable is created for flight arrival times. Numbers are assigned for each category. Other categorical variables (Origin, Dest, UniqueCarrier) also have numbers for the categories they have. These features will be regressed to predict Departure Delay."
   ]
  },
  {
   "cell_type": "code",
   "execution_count": 1,
   "metadata": {
    "collapsed": true
   },
   "outputs": [],
   "source": [
    "import graphlab as gl\n",
    "import pandas as pd"
   ]
  },
  {
   "cell_type": "code",
   "execution_count": 2,
   "metadata": {
    "collapsed": false
   },
   "outputs": [
    {
     "name": "stderr",
     "output_type": "stream",
     "text": [
      "[INFO] graphlab.cython.cy_server: GraphLab Create v2.1 started. Logging: /tmp/graphlab_server_1492668553.log\n"
     ]
    },
    {
     "name": "stdout",
     "output_type": "stream",
     "text": [
      "This non-commercial license of GraphLab Create for academic use is assigned to jdalal@smu.edu and will expire on April 18, 2018.\n"
     ]
    }
   ],
   "source": [
    "sf = gl.load_sframe('Data/sframe_Directory')"
   ]
  },
  {
   "cell_type": "markdown",
   "metadata": {},
   "source": [
    "##### Variable 1: DepTimeCategory"
   ]
  },
  {
   "cell_type": "markdown",
   "metadata": {},
   "source": [
    "Morning: 1\n",
    "Afternoon: 2\n",
    "Evening : 3\n",
    "Night : 4"
   ]
  },
  {
   "cell_type": "code",
   "execution_count": 3,
   "metadata": {
    "collapsed": false
   },
   "outputs": [],
   "source": [
    "sf['DepTimeByHour'] = sf['CRSDepTime'].apply(lambda x: (x / 100))"
   ]
  },
  {
   "cell_type": "code",
   "execution_count": 4,
   "metadata": {
    "collapsed": false
   },
   "outputs": [],
   "source": [
    "sf['DepTimeCategory'] = sf['DepTimeByHour'].apply(lambda x: 1 if(5 <= x <= 11) else (2 if(12 <= x <= 16) else (3 if(17 <= x <= 21) else (4))))"
   ]
  },
  {
   "cell_type": "markdown",
   "metadata": {},
   "source": [
    "##### Variable 2: ArrTimeCategory"
   ]
  },
  {
   "cell_type": "markdown",
   "metadata": {},
   "source": [
    "Morning: 1\n",
    "Afternoon: 2\n",
    "Evening : 3\n",
    "Night : 4"
   ]
  },
  {
   "cell_type": "code",
   "execution_count": 5,
   "metadata": {
    "collapsed": true
   },
   "outputs": [],
   "source": [
    "sf['ArrTimeByHour'] = sf['CRSArrTime'].apply(lambda x: (x / 100))"
   ]
  },
  {
   "cell_type": "code",
   "execution_count": 6,
   "metadata": {
    "collapsed": true
   },
   "outputs": [],
   "source": [
    "sf['ArrTimeCategory'] = sf['ArrTimeByHour'].apply(lambda x: 1 if(5 <= x <= 11) else (2 if(12 <= x <= 16) else (3 if(17 <= x <= 21) else (4))))"
   ]
  },
  {
   "cell_type": "markdown",
   "metadata": {},
   "source": [
    "#### Categorical Variables: Origin, Dest, Unique Carrier"
   ]
  },
  {
   "cell_type": "code",
   "execution_count": 7,
   "metadata": {
    "collapsed": true
   },
   "outputs": [],
   "source": [
    "sf['Origin'] = pd.factorize(sf['Origin'])[0]\n",
    "sf['Dest'] = pd.factorize(sf['Dest'])[0]\n",
    "sf['UniqueCarrier'] = pd.factorize(sf['UniqueCarrier'])[0]"
   ]
  },
  {
   "cell_type": "code",
   "execution_count": 8,
   "metadata": {
    "collapsed": false
   },
   "outputs": [
    {
     "data": {
      "text/plain": [
       "dtype: int\n",
       "Rows: 29\n",
       "[0, 16, 23, 10, 18, 26, 14, 12, 3, 1, 6, 11, 25, 27, 13, 24, 2, 8, 15, 28, 20, 19, 5, 4, 21, 22, 9, 7, 17]"
      ]
     },
     "execution_count": 8,
     "metadata": {},
     "output_type": "execute_result"
    }
   ],
   "source": [
    "sf['Origin'].unique()\n",
    "sf['Dest'].unique()\n",
    "sf['UniqueCarrier'].unique()"
   ]
  },
  {
   "cell_type": "markdown",
   "metadata": {},
   "source": [
    "Now, we're creating a dataframe with just the features we will need for the regression to make the process more efficient. We're also splitting the data into a training/testing sets."
   ]
  },
  {
   "cell_type": "code",
   "execution_count": 9,
   "metadata": {
    "collapsed": false
   },
   "outputs": [],
   "source": [
    "sf_new = sf['ArrDelay', 'DepDelay', 'DayOfWeek', 'Origin', 'Dest', 'Distance', 'UniqueCarrier', 'DepTimeCategory', 'ArrTimeCategory'].dropna()\n"
   ]
  },
  {
   "cell_type": "markdown",
   "metadata": {},
   "source": [
    "To check our assumptions before running the regression model, we looked at histograms and scatterplots using graphlab's canvas tool. Overall, the data looks fairly normally distributed and the scatterplots do not indicate any significant multicollinearity. However did see a slight correlation between ArrDelay and DepDelay. This makes sense because the Departure Delay could affect the Arrival Delay. We will see this in our regression model as well."
   ]
  },
  {
   "cell_type": "code",
   "execution_count": 10,
   "metadata": {
    "collapsed": false
   },
   "outputs": [
    {
     "name": "stdout",
     "output_type": "stream",
     "text": [
      "Canvas is accessible via web browser at the URL: http://localhost:51371/index.html\n",
      "Opening Canvas in default web browser.\n"
     ]
    }
   ],
   "source": [
    "sf_new.show(view=\"Heat Map\", x=\"ArrDelay\", y=\"DepDelay\")"
   ]
  },
  {
   "cell_type": "code",
   "execution_count": 14,
   "metadata": {
    "collapsed": false
   },
   "outputs": [],
   "source": [
    "train_data, test_data = sf_new.random_split(0.8)"
   ]
  },
  {
   "cell_type": "markdown",
   "metadata": {},
   "source": [
    "#### Regression Model"
   ]
  },
  {
   "cell_type": "markdown",
   "metadata": {},
   "source": [
    "Here, we're running the regression model on our training data set containing the eight selected features. The training and testing sets' maximum error and root mean squared errors are given below. For the training data, the maximum error is approximately 1508 and the RMSE is 14. The coefficients and their standard errors are also printed below."
   ]
  },
  {
   "cell_type": "code",
   "execution_count": 15,
   "metadata": {
    "collapsed": false
   },
   "outputs": [
    {
     "name": "stdout",
     "output_type": "stream",
     "text": [
      "PROGRESS: Creating a validation set from 5 percent of training data. This may take a while.\n",
      "          You can set ``validation_set=None`` to disable validation tracking.\n",
      "\n"
     ]
    },
    {
     "data": {
      "text/html": [
       "<pre>Linear regression:</pre>"
      ],
      "text/plain": [
       "Linear regression:"
      ]
     },
     "metadata": {},
     "output_type": "display_data"
    },
    {
     "data": {
      "text/html": [
       "<pre>--------------------------------------------------------</pre>"
      ],
      "text/plain": [
       "--------------------------------------------------------"
      ]
     },
     "metadata": {},
     "output_type": "display_data"
    },
    {
     "data": {
      "text/html": [
       "<pre>Number of examples          : 91770507</pre>"
      ],
      "text/plain": [
       "Number of examples          : 91770507"
      ]
     },
     "metadata": {},
     "output_type": "display_data"
    },
    {
     "data": {
      "text/html": [
       "<pre>Number of features          : 8</pre>"
      ],
      "text/plain": [
       "Number of features          : 8"
      ]
     },
     "metadata": {},
     "output_type": "display_data"
    },
    {
     "data": {
      "text/html": [
       "<pre>Number of unpacked features : 8</pre>"
      ],
      "text/plain": [
       "Number of unpacked features : 8"
      ]
     },
     "metadata": {},
     "output_type": "display_data"
    },
    {
     "data": {
      "text/html": [
       "<pre>Number of coefficients    : 9</pre>"
      ],
      "text/plain": [
       "Number of coefficients    : 9"
      ]
     },
     "metadata": {},
     "output_type": "display_data"
    },
    {
     "data": {
      "text/html": [
       "<pre>Starting Newton Method</pre>"
      ],
      "text/plain": [
       "Starting Newton Method"
      ]
     },
     "metadata": {},
     "output_type": "display_data"
    },
    {
     "data": {
      "text/html": [
       "<pre>--------------------------------------------------------</pre>"
      ],
      "text/plain": [
       "--------------------------------------------------------"
      ]
     },
     "metadata": {},
     "output_type": "display_data"
    },
    {
     "data": {
      "text/html": [
       "<pre>+-----------+----------+--------------+--------------------+----------------------+---------------+-----------------+</pre>"
      ],
      "text/plain": [
       "+-----------+----------+--------------+--------------------+----------------------+---------------+-----------------+"
      ]
     },
     "metadata": {},
     "output_type": "display_data"
    },
    {
     "data": {
      "text/html": [
       "<pre>| Iteration | Passes   | Elapsed Time | Training-max_error | Validation-max_error | Training-rmse | Validation-rmse |</pre>"
      ],
      "text/plain": [
       "| Iteration | Passes   | Elapsed Time | Training-max_error | Validation-max_error | Training-rmse | Validation-rmse |"
      ]
     },
     "metadata": {},
     "output_type": "display_data"
    },
    {
     "data": {
      "text/html": [
       "<pre>+-----------+----------+--------------+--------------------+----------------------+---------------+-----------------+</pre>"
      ],
      "text/plain": [
       "+-----------+----------+--------------+--------------------+----------------------+---------------+-----------------+"
      ]
     },
     "metadata": {},
     "output_type": "display_data"
    },
    {
     "data": {
      "text/html": [
       "<pre>| 1         | 2        | 13.013836    | 1508.467773        | 1449.468514          | 13.823562     | 13.730967       |</pre>"
      ],
      "text/plain": [
       "| 1         | 2        | 13.013836    | 1508.467773        | 1449.468514          | 13.823562     | 13.730967       |"
      ]
     },
     "metadata": {},
     "output_type": "display_data"
    },
    {
     "data": {
      "text/html": [
       "<pre>+-----------+----------+--------------+--------------------+----------------------+---------------+-----------------+</pre>"
      ],
      "text/plain": [
       "+-----------+----------+--------------+--------------------+----------------------+---------------+-----------------+"
      ]
     },
     "metadata": {},
     "output_type": "display_data"
    },
    {
     "name": "stdout",
     "output_type": "stream",
     "text": [
      "CPU times: user 10min 57s, sys: 15.1 s, total: 11min 12s\n",
      "Wall time: 1min 38s\n"
     ]
    },
    {
     "data": {
      "text/html": [
       "<pre>SUCCESS: Optimal solution found.</pre>"
      ],
      "text/plain": [
       "SUCCESS: Optimal solution found."
      ]
     },
     "metadata": {},
     "output_type": "display_data"
    },
    {
     "data": {
      "text/html": [
       "<pre></pre>"
      ],
      "text/plain": []
     },
     "metadata": {},
     "output_type": "display_data"
    }
   ],
   "source": [
    "%time lin_model = gl.linear_regression.create(train_data, target='DepDelay', features=['ArrDelay', 'DayOfWeek', 'Origin', 'Dest', 'Distance', 'UniqueCarrier', 'DepTimeCategory', 'ArrTimeCategory'])"
   ]
  },
  {
   "cell_type": "code",
   "execution_count": 16,
   "metadata": {
    "collapsed": false,
    "scrolled": true
   },
   "outputs": [
    {
     "data": {
      "text/html": [
       "<div style=\"max-height:1000px;max-width:1500px;overflow:auto;\"><table frame=\"box\" rules=\"cols\">\n",
       "    <tr>\n",
       "        <th style=\"padding-left: 1em; padding-right: 1em; text-align: center\">name</th>\n",
       "        <th style=\"padding-left: 1em; padding-right: 1em; text-align: center\">index</th>\n",
       "        <th style=\"padding-left: 1em; padding-right: 1em; text-align: center\">value</th>\n",
       "        <th style=\"padding-left: 1em; padding-right: 1em; text-align: center\">stderr</th>\n",
       "    </tr>\n",
       "    <tr>\n",
       "        <td style=\"padding-left: 1em; padding-right: 1em; text-align: center; vertical-align: top\">(intercept)</td>\n",
       "        <td style=\"padding-left: 1em; padding-right: 1em; text-align: center; vertical-align: top\">None</td>\n",
       "        <td style=\"padding-left: 1em; padding-right: 1em; text-align: center; vertical-align: top\">-0.510247130983</td>\n",
       "        <td style=\"padding-left: 1em; padding-right: 1em; text-align: center; vertical-align: top\">0.00611475193996</td>\n",
       "    </tr>\n",
       "    <tr>\n",
       "        <td style=\"padding-left: 1em; padding-right: 1em; text-align: center; vertical-align: top\">ArrDelay</td>\n",
       "        <td style=\"padding-left: 1em; padding-right: 1em; text-align: center; vertical-align: top\">None</td>\n",
       "        <td style=\"padding-left: 1em; padding-right: 1em; text-align: center; vertical-align: top\">0.799344685326</td>\n",
       "        <td style=\"padding-left: 1em; padding-right: 1em; text-align: center; vertical-align: top\">4.72128742316e-05</td>\n",
       "    </tr>\n",
       "    <tr>\n",
       "        <td style=\"padding-left: 1em; padding-right: 1em; text-align: center; vertical-align: top\">DayOfWeek</td>\n",
       "        <td style=\"padding-left: 1em; padding-right: 1em; text-align: center; vertical-align: top\">None</td>\n",
       "        <td style=\"padding-left: 1em; padding-right: 1em; text-align: center; vertical-align: top\">0.18299063019</td>\n",
       "        <td style=\"padding-left: 1em; padding-right: 1em; text-align: center; vertical-align: top\">0.00072484256089</td>\n",
       "    </tr>\n",
       "    <tr>\n",
       "        <td style=\"padding-left: 1em; padding-right: 1em; text-align: center; vertical-align: top\">Origin</td>\n",
       "        <td style=\"padding-left: 1em; padding-right: 1em; text-align: center; vertical-align: top\">None</td>\n",
       "        <td style=\"padding-left: 1em; padding-right: 1em; text-align: center; vertical-align: top\">-0.00218284342292</td>\n",
       "        <td style=\"padding-left: 1em; padding-right: 1em; text-align: center; vertical-align: top\">3.544192911e-05</td>\n",
       "    </tr>\n",
       "    <tr>\n",
       "        <td style=\"padding-left: 1em; padding-right: 1em; text-align: center; vertical-align: top\">Dest</td>\n",
       "        <td style=\"padding-left: 1em; padding-right: 1em; text-align: center; vertical-align: top\">None</td>\n",
       "        <td style=\"padding-left: 1em; padding-right: 1em; text-align: center; vertical-align: top\">0.000316871921073</td>\n",
       "        <td style=\"padding-left: 1em; padding-right: 1em; text-align: center; vertical-align: top\">3.53124231985e-05</td>\n",
       "    </tr>\n",
       "    <tr>\n",
       "        <td style=\"padding-left: 1em; padding-right: 1em; text-align: center; vertical-align: top\">Distance</td>\n",
       "        <td style=\"padding-left: 1em; padding-right: 1em; text-align: center; vertical-align: top\">None</td>\n",
       "        <td style=\"padding-left: 1em; padding-right: 1em; text-align: center; vertical-align: top\">0.000981413208607</td>\n",
       "        <td style=\"padding-left: 1em; padding-right: 1em; text-align: center; vertical-align: top\">2.7659928674e-06</td>\n",
       "    </tr>\n",
       "    <tr>\n",
       "        <td style=\"padding-left: 1em; padding-right: 1em; text-align: center; vertical-align: top\">UniqueCarrier</td>\n",
       "        <td style=\"padding-left: 1em; padding-right: 1em; text-align: center; vertical-align: top\">None</td>\n",
       "        <td style=\"padding-left: 1em; padding-right: 1em; text-align: center; vertical-align: top\">-0.0276586034397</td>\n",
       "        <td style=\"padding-left: 1em; padding-right: 1em; text-align: center; vertical-align: top\">0.000258419778194</td>\n",
       "    </tr>\n",
       "    <tr>\n",
       "        <td style=\"padding-left: 1em; padding-right: 1em; text-align: center; vertical-align: top\">DepTimeCategory</td>\n",
       "        <td style=\"padding-left: 1em; padding-right: 1em; text-align: center; vertical-align: top\">None</td>\n",
       "        <td style=\"padding-left: 1em; padding-right: 1em; text-align: center; vertical-align: top\">0.250349652188</td>\n",
       "        <td style=\"padding-left: 1em; padding-right: 1em; text-align: center; vertical-align: top\">0.00273984201368</td>\n",
       "    </tr>\n",
       "    <tr>\n",
       "        <td style=\"padding-left: 1em; padding-right: 1em; text-align: center; vertical-align: top\">ArrTimeCategory</td>\n",
       "        <td style=\"padding-left: 1em; padding-right: 1em; text-align: center; vertical-align: top\">None</td>\n",
       "        <td style=\"padding-left: 1em; padding-right: 1em; text-align: center; vertical-align: top\">0.653696064835</td>\n",
       "        <td style=\"padding-left: 1em; padding-right: 1em; text-align: center; vertical-align: top\">0.00254352405392</td>\n",
       "    </tr>\n",
       "</table>\n",
       "[9 rows x 4 columns]<br/>\n",
       "</div>"
      ],
      "text/plain": [
       "Columns:\n",
       "\tname\tstr\n",
       "\tindex\tstr\n",
       "\tvalue\tfloat\n",
       "\tstderr\tfloat\n",
       "\n",
       "Rows: 9\n",
       "\n",
       "Data:\n",
       "+-----------------+-------+-------------------+-------------------+\n",
       "|       name      | index |       value       |       stderr      |\n",
       "+-----------------+-------+-------------------+-------------------+\n",
       "|   (intercept)   |  None |  -0.510247130983  |  0.00611475193996 |\n",
       "|     ArrDelay    |  None |   0.799344685326  | 4.72128742316e-05 |\n",
       "|    DayOfWeek    |  None |   0.18299063019   |  0.00072484256089 |\n",
       "|      Origin     |  None | -0.00218284342292 |  3.544192911e-05  |\n",
       "|       Dest      |  None | 0.000316871921073 | 3.53124231985e-05 |\n",
       "|     Distance    |  None | 0.000981413208607 |  2.7659928674e-06 |\n",
       "|  UniqueCarrier  |  None |  -0.0276586034397 | 0.000258419778194 |\n",
       "| DepTimeCategory |  None |   0.250349652188  |  0.00273984201368 |\n",
       "| ArrTimeCategory |  None |   0.653696064835  |  0.00254352405392 |\n",
       "+-----------------+-------+-------------------+-------------------+\n",
       "[9 rows x 4 columns]"
      ]
     },
     "execution_count": 16,
     "metadata": {},
     "output_type": "execute_result"
    }
   ],
   "source": [
    "lin_model['coefficients']"
   ]
  },
  {
   "cell_type": "markdown",
   "metadata": {},
   "source": [
    "The above table shows all the coefficient values that went into the creation of the delay prediction model. Not surprisingly the most weighted coefficients are Arrival Delay and Arrival Time Category. Since we are trying to predict Departure Delay, it makes sense that Arrival Delay and time would be significant factors. The most influential variables seem to be DepTimeCategory (what time of day the flight will depart). Further analysis will tell us which time of day will have the most delays). Day of the Week is significant as well. Certain days may be busier at airports and could cause delays."
   ]
  },
  {
   "cell_type": "markdown",
   "metadata": {},
   "source": [
    "The section below calculates the predictions and stores them in a new vector. The maximum error and RMSE are calculated for the testing data set to see how well our model predicts Departure Delay. Notice that the maximum error is slightly lower than the training set's. The RMSE almost the same as the training set's. The RMSE is the square root of the variance of the residuals. It is a good indicator of the model's fit along with the F-test and R-Squared value. The lower the RMSE, the better the fit will be. In our case, the RMSE is fairly low. However, we would need to compare with other models to understand that better."
   ]
  },
  {
   "cell_type": "code",
   "execution_count": 18,
   "metadata": {
    "collapsed": false
   },
   "outputs": [],
   "source": [
    "predictions = lin_model.predict(test_data)"
   ]
  },
  {
   "cell_type": "code",
   "execution_count": 21,
   "metadata": {
    "collapsed": false
   },
   "outputs": [
    {
     "data": {
      "text/plain": [
       "{'max_error': 1456.2400227459564, 'rmse': 13.757072021566177}"
      ]
     },
     "execution_count": 21,
     "metadata": {},
     "output_type": "execute_result"
    }
   ],
   "source": [
    "results = lin_model.evaluate(test_data)\n",
    "results"
   ]
  },
  {
   "cell_type": "markdown",
   "metadata": {},
   "source": [
    "## CONCLUSIONS"
   ]
  },
  {
   "cell_type": "markdown",
   "metadata": {},
   "source": [
    "Airline delays are an on-going problem in any major airport around the world. It is expensive to both the airline companies as well as passengers. As a result of this analysis, we've determined several factors affecting airline delays. When we looked at top airports with Departure and Arrival Delays, we saw ATL, ORD and DFW for both types of delays. When looking at the Origin/Destination pairs that had the most delays, we saw that LAX to SFO both directions had the highest delays based on the historical data. Using several features for regression to predict Departure Delays, the most weighted weighted coefficients were both associated with arrival features. These were actual arrival time and arrival delay. Overall the model did seem like a good fit based on the RMSE. However, to solidify this analysis we would need to create models and compare the RMSE's. We should also perform an F-Test for overall fit and look at the R-Squared values for each model. Perhaps breaking down the above model into smaller models (using a subset of the features we used) may help us determine which model has the best fit. Overall, using Python for the majority of this assignment proved to be more powerful because of its fast parsing capabilities. "
   ]
  },
  {
   "cell_type": "markdown",
   "metadata": {},
   "source": [
    "## REFERENCES"
   ]
  },
  {
   "cell_type": "markdown",
   "metadata": {},
   "source": [
    "1. Code: http://stat-computing.org/dataexpo/2009/the-data.html & Jupyter Notebook provided in class.\n",
    "2. https://turi.com/products/create/docs/graphlab.toolkits.regression.html\n",
    "3. Nolan, D., & Lang, D. T. (2015). Data Science in R: A Case Studies Approach to Computational Reasoning and Problem Solving. Retrieved April 12, 2017.\n"
   ]
  }
 ],
 "metadata": {
  "anaconda-cloud": {},
  "kernelspec": {
   "display_name": "Python [Root]",
   "language": "python",
   "name": "Python [Root]"
  },
  "language_info": {
   "codemirror_mode": {
    "name": "ipython",
    "version": 2
   },
   "file_extension": ".py",
   "mimetype": "text/x-python",
   "name": "python",
   "nbconvert_exporter": "python",
   "pygments_lexer": "ipython2",
   "version": "2.7.12"
  }
 },
 "nbformat": 4,
 "nbformat_minor": 0
}
